{
 "cells": [
  {
   "cell_type": "markdown",
   "id": "dcdb816e",
   "metadata": {},
   "source": [
    "# Thực hành cấu trúc điều khiển\n",
    "\n",
    "### Bài 1\n",
    "\n",
    "Cho phương trình bậc 2: ax^2 + bx + c = 0\n",
    "\n",
    "Nhập a, b, c\n",
    "\n",
    "Giải và biện luận phương trình trên"
   ]
  },
  {
   "cell_type": "code",
   "execution_count": 3,
   "id": "b5a5c325",
   "metadata": {},
   "outputs": [
    {
     "name": "stdout",
     "output_type": "stream",
     "text": [
      "a: 1\n",
      "b: -6\n",
      "c: 8\n",
      "Phương trình có 2 nghiệm: 2.0 và 4.0\n"
     ]
    }
   ],
   "source": [
    "a = float(input('a: '))\n",
    "b = float(input('b: '))\n",
    "c = float(input('c: '))\n",
    "if a == 0:\n",
    "    if b == 0:\n",
    "        if c == 0:\n",
    "            print(\"Phương trình vô số nghiệm!\")\n",
    "        else:\n",
    "            print(\"Phương trình vô nghiệm\")\n",
    "    else:\n",
    "        print(\"Phương trình chỉ có 1 nghiệm:\",-c/b)\n",
    "else:\n",
    "    delta = b**2 - 4*a*c\n",
    "    if delta < 0:\n",
    "        print(\"Phương trình vô nghiệm!\")\n",
    "    elif delta == 0:\n",
    "        print(\"Phương trình có một nghiệm kép:\",-b/(2*a))\n",
    "    else:\n",
    "        candelta = delta**0.5\n",
    "        x1 = (-b - candelta)/(2*a)\n",
    "        x2 = (-b + candelta)/(2*a)\n",
    "        print(\"Phương trình có 2 nghiệm:\",x1,'và',x2)"
   ]
  },
  {
   "cell_type": "markdown",
   "id": "6f7d329d",
   "metadata": {},
   "source": [
    "### Bài 2\n",
    "\n",
    "Hãy nhập vào một số\n",
    "\n",
    "Xác định coi đó có phải là số nguyên tố hay không"
   ]
  },
  {
   "cell_type": "code",
   "execution_count": null,
   "id": "049c85f5",
   "metadata": {},
   "outputs": [],
   "source": [
    "## số nguyên tố là số chỉ có 2 ước: 1 và chính nó\n",
    "## đây là bài kinh điển trong lập trình\n",
    "a = int(input(\"nhập vào 1 số nguyên\"))\n",
    "\n",
    "if a < 0:\n",
    "    print(\"vui lòng nhập số dương\")\n",
    "elif a < 2: \n",
    "    print(a,\"không phải là số nguyên tố\")\n",
    "else:\n",
    "    k = 1\n",
    "    dem = 0\n",
    "    ## Đếm số lượng ước của a\n",
    "    for i in range(a): ## k chạy từ 1 đến a, ví dụ a là 6 thì k sẽ là 1, 2, 3, 4, 5, 6\n",
    "        if a % k == 0:\n",
    "            dem += 1\n",
    "        k += 1\n",
    "    ## nếu a chỉ có 2 ước thì nó là số nguyên tố\n",
    "    if dem == 2:\n",
    "        print(\"Đây là số nguyên tố!\")\n",
    "    else:\n",
    "        print(\"Đây không là số nguyên tố!\")"
   ]
  },
  {
   "cell_type": "markdown",
   "id": "75f7717b",
   "metadata": {},
   "source": [
    "### Bài 3\n",
    "\n",
    "Hãy nhập vào số n\n",
    "\n",
    "Hãy đếm số chữ số 0 tận cùng của n giai thừa\n",
    "\n",
    "(Bài này nâng cao, mọi người có thể bỏ qua)"
   ]
  },
  {
   "cell_type": "code",
   "execution_count": null,
   "id": "789e0e76",
   "metadata": {},
   "outputs": [],
   "source": []
  },
  {
   "cell_type": "markdown",
   "id": "29cd6c81",
   "metadata": {},
   "source": [
    "### Bài 4\n",
    "\n",
    "In ra tất cả các số chia hết cho 3 nhỏ hơn 100"
   ]
  },
  {
   "cell_type": "code",
   "execution_count": 5,
   "id": "0b848981",
   "metadata": {},
   "outputs": [
    {
     "name": "stdout",
     "output_type": "stream",
     "text": [
      "3\n",
      "6\n",
      "9\n",
      "12\n",
      "15\n",
      "18\n",
      "21\n",
      "24\n",
      "27\n",
      "30\n",
      "33\n",
      "36\n",
      "39\n",
      "42\n",
      "45\n",
      "48\n",
      "51\n",
      "54\n",
      "57\n",
      "60\n",
      "63\n",
      "66\n",
      "69\n",
      "72\n",
      "75\n",
      "78\n",
      "81\n",
      "84\n",
      "87\n",
      "90\n",
      "93\n",
      "96\n",
      "99\n"
     ]
    }
   ],
   "source": [
    "a=1\n",
    "for i in range(99):\n",
    "    if a%3==0:\n",
    "        print(a)\n",
    "    a+=1"
   ]
  },
  {
   "cell_type": "markdown",
   "id": "04dbf99b",
   "metadata": {},
   "source": [
    "### Bài 5\n",
    "\n",
    "In ra tất cả các số lẻ nhưng không chia hết cho 3 nhỏ hơn 100"
   ]
  },
  {
   "cell_type": "code",
   "execution_count": 4,
   "id": "769eb439",
   "metadata": {},
   "outputs": [
    {
     "name": "stdout",
     "output_type": "stream",
     "text": [
      "1\n",
      "5\n",
      "7\n",
      "11\n",
      "13\n",
      "17\n",
      "19\n",
      "23\n",
      "25\n",
      "29\n",
      "31\n",
      "35\n",
      "37\n",
      "41\n",
      "43\n",
      "47\n",
      "49\n",
      "53\n",
      "55\n",
      "59\n",
      "61\n",
      "65\n",
      "67\n",
      "71\n",
      "73\n",
      "77\n",
      "79\n",
      "83\n",
      "85\n",
      "89\n",
      "91\n",
      "95\n",
      "97\n"
     ]
    }
   ],
   "source": [
    "a=1\n",
    "for i in range(50):\n",
    "    if a%3 != 0:\n",
    "        print(a)\n",
    "    a += 2"
   ]
  },
  {
   "cell_type": "markdown",
   "id": "26dd47fb",
   "metadata": {},
   "source": [
    "### Bài 5\n",
    "\n",
    "Tại một cửa hàng nọ có menu như sau:\n",
    "\n",
    "1. Gà rán giá 35k\n",
    "2. Hamburger giá 50k\n",
    "3. Pesi giá 10k\n",
    "\n",
    "Nhập số lượng món hàng cần mua\n",
    "\n",
    "Tính và in ra tổng giá tiền (hiển thị có dấu chấm mỗi 3 chữ số để người dùng để quan sát)\n",
    "\n",
    "Nếu giá trị đơn hàng trên 2 triệu, giảm 10% cho khách, trên 4 triệu, giảm 15%\n",
    "\n",
    "Tính và in ra tổng giá tiền được giảm (hiển thị có dấu chấm mỗi 3 chữ số để người dùng để quan sát)\n",
    "\n",
    "Tính và in ra tổng giá tiền khách cần trả (hiển thị có dấu chấm mỗi 3 chữ số để người dùng để quan sát)\n",
    "\n",
    "In ra dòng chữ \"Cảm ơn quý khách đã mua hàng\""
   ]
  },
  {
   "cell_type": "code",
   "execution_count": 17,
   "id": "8509df1e",
   "metadata": {},
   "outputs": [
    {
     "name": "stdout",
     "output_type": "stream",
     "text": [
      "Gà rán giá 35k\n",
      "Hamburger giá 50k\n",
      "Pesi giá 10k\n",
      "\n",
      "Bạn muốn mua bao nhiêu cái gà rán:45\n",
      "Bạn muốn mua bao nhiêu cái hamburger:45\n",
      "Bạn muốn mua bao nhiêu ly pesi:45\n",
      "\n",
      "Tổng giá tiền là: 4.275.000 VNĐ\n",
      "Bạn được giảm: 641250 VNĐ\n",
      "Số tiền bạn cần thanh toán: 3633750 VNĐ\n",
      "\n",
      "Cảm ơn quý khách đã mua hàng\n"
     ]
    }
   ],
   "source": [
    "print(\"Gà rán giá 35k\")\n",
    "print(\"Hamburger giá 50k\")\n",
    "print(\"Pesi giá 10k\")\n",
    "print()\n",
    "slgaran = int(input(\"Bạn muốn mua bao nhiêu cái gà rán:\"))\n",
    "slham = int(input(\"Bạn muốn mua bao nhiêu cái hamburger:\"))\n",
    "slpesi = int(input(\"Bạn muốn mua bao nhiêu ly pesi:\"))\n",
    "print()\n",
    "tong = slgaran*35000 + slham*50000 + slpesi*10000\n",
    "\n",
    "tong_tam = \"\"\n",
    "tong = str(tong)\n",
    "k = -1\n",
    "dem = 0\n",
    "for i in range(len(tong)): ## chạy từng ký tự trong chuỗi tong (chạy ngược từ dưới lên)\n",
    "    if dem == 3: ## đếm được 3 ký tự thì đưa thêm dấu chấm vào\n",
    "        tong_tam += \".\"\n",
    "        dem = 0\n",
    "    tong_tam += tong[k]\n",
    "    dem += 1\n",
    "    k -= 1\n",
    "tong_tam = tong_tam[::-1]\n",
    "tong = int(tong)\n",
    "print(\"Tổng giá tiền là:\",tong_tam,\"VNĐ\")\n",
    "if tong > 4000000:\n",
    "    giam = int(tong*0.15)\n",
    "elif tong > 2000000:\n",
    "    giam = int(tong*0.1)\n",
    "else:\n",
    "    giam = 0\n",
    "\n",
    "print(\"Bạn được giảm:\",giam,\"VNĐ\")\n",
    "print(\"Số tiền bạn cần thanh toán:\",tong-giam,\"VNĐ\")\n",
    "print()\n",
    "print(\"Cảm ơn quý khách đã mua hàng\")"
   ]
  },
  {
   "cell_type": "code",
   "execution_count": 13,
   "id": "3c2bd458",
   "metadata": {},
   "outputs": [
    {
     "name": "stdout",
     "output_type": "stream",
     "text": [
      ".100\n"
     ]
    }
   ],
   "source": [
    "tong = 100\n",
    "tong_tam = \"\"\n",
    "tong = str(tong)\n",
    "k = -1\n",
    "dem = 0\n",
    "## TẠI SAO LẠI KHÔNG CỘNG TỪ TRÁI SANG PHẢI MÀ LẠI CỘNG TỪ PHẢI SANG\n",
    "## NẾU CỘNG TỪ PHẢI SANG THÌ RA CHUỖI NGƯỢC RỒI\n",
    "for i in range(len(tong)): ## chạy từng ký tự trong chuỗi tong (chạy ngược từ dưới lên)\n",
    "    if dem == 3: ## đếm được 3 ký tự thì đưa thêm dấu chấm vào\n",
    "        tong_tam += \".\"\n",
    "        dem = 0\n",
    "    tong_tam += tong[k]\n",
    "    dem += 1 ## khi dem tăng lên 3\n",
    "    k -= 1\n",
    "\n",
    "tong = tong_tam[::-1]\n",
    "# if tong[0] == \".\":\n",
    "#     tong = tong[1:]\n",
    "print(tong)"
   ]
  },
  {
   "cell_type": "markdown",
   "id": "ab10a1ce",
   "metadata": {},
   "source": [
    "### Bài 6\n",
    "\n",
    "Nhập vào chiều cao (cm) và cân nặng (kg), tính số BMI và xét rồi xin kết quả theo dữ liệu sau:\n",
    "\n",
    "- BMI < 16: Gầy cấp độ III\n",
    "- 16 <= BMI < 17:  Gầy cấp độ II\n",
    "- 17<= BMI < 18.5: Gầy cấp độ I\n",
    "- 18.5 <= BMI < 25: Bình thường\n",
    "- 25 <= BMI < 30: Thừa cân\n",
    "- 30 <= BMI < 35 : Béo phì cấp độ I\n",
    "- 35 <= BMI < 40: Béo phì cấp độ II\n",
    "- BMI > 40: Béo phì cấp độ III"
   ]
  },
  {
   "cell_type": "code",
   "execution_count": null,
   "id": "1058f441",
   "metadata": {},
   "outputs": [],
   "source": [
    "a = int(input(\" nhập chiều cao (cm): \"))\n",
    "b = int(input(\" nhập chiều cân nặng (kg): \"))\n",
    "BMI = b/((a/100)**2)\n",
    "if BMI < 16:\n",
    "    print(\"gầy cấp độ III\")\n",
    "elif BMI < 17:\n",
    "    print(\"Gầy cấp độ II\")\n",
    "elif BMI < 18.5:\n",
    "    print(\"Gầy cấp độ I\")\n",
    "elif BMI < 25:\n",
    "    print(\"Bình thường\")\n",
    "elif BMI < 30:\n",
    "    print(\"Thừa cân\")\n",
    "elif BMI < 35:\n",
    "    print(\"Béo phì cấp I\")\n",
    "elif BMI < 40:\n",
    "    print(\"Béo phì cấp II\")\n",
    "else:\n",
    "    print(\"Béo phì cấp III\")"
   ]
  },
  {
   "cell_type": "markdown",
   "id": "f7620342",
   "metadata": {},
   "source": [
    "### Bài 7\n",
    "\n",
    "Nhập ngày, tháng, năm. Hãy tính và in ra màn hình kể từ đầu năm đến ngày vừa nhập là bao nhiêu ngày."
   ]
  },
  {
   "cell_type": "code",
   "execution_count": 18,
   "id": "4c57f0a5",
   "metadata": {},
   "outputs": [
    {
     "name": "stdout",
     "output_type": "stream",
     "text": [
      "nhập ngày 14\n",
      "nhập tháng 06\n",
      "nhập năm 1999\n",
      "166\n"
     ]
    }
   ],
   "source": [
    "d = int(input(\"Nhập ngày:\"))\n",
    "m = int(input(\"Nhập tháng:\"))\n",
    "y = int(input(\"Nhập năm:\"))\n",
    "\n",
    "day = d\n",
    "## thí dụ mình nhập vào tháng 6 ~~> mình cho k chạy từ 1 đến 5\n",
    "k = 1\n",
    "for i in range(m-1):\n",
    "    if k == 4 or k == 6 or k == 9 or k == 11:\n",
    "        day += 30\n",
    "    elif k == 2:\n",
    "        if (y % 4 == 0 and y % 100 != 0) or y % 400:\n",
    "            day += 29\n",
    "        else:\n",
    "            day += 28\n",
    "    else:\n",
    "        day += 31\n",
    "    k += 1\n",
    "print(day)"
   ]
  }
 ],
 "metadata": {
  "kernelspec": {
   "display_name": "Python 3 (ipykernel)",
   "language": "python",
   "name": "python3"
  },
  "language_info": {
   "codemirror_mode": {
    "name": "ipython",
    "version": 3
   },
   "file_extension": ".py",
   "mimetype": "text/x-python",
   "name": "python",
   "nbconvert_exporter": "python",
   "pygments_lexer": "ipython3",
   "version": "3.10.4"
  }
 },
 "nbformat": 4,
 "nbformat_minor": 5
}
