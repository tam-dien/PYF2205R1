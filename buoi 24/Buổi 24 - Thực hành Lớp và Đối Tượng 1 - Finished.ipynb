{
 "cells": [
  {
   "cell_type": "markdown",
   "id": "ec00548e",
   "metadata": {},
   "source": [
    "# Thực hành Lớp và Đối Tượng 1"
   ]
  },
  {
   "cell_type": "markdown",
   "id": "e9a5b1b0",
   "metadata": {},
   "source": [
    "### Bài 1"
   ]
  },
  {
   "cell_type": "markdown",
   "id": "b89649bc",
   "metadata": {},
   "source": [
    "Viết một lớp point để lưu trữ một điểm trong hệ trục tọa độ Oxy\n",
    "\n",
    "Class này có:\n",
    "\n",
    "<b> Các biến: </b>\n",
    "- <b>x</b>: mang tọa độ x của diểm\n",
    "- <b>y</b>: mang tọa độ y của diểm\n",
    "\n",
    "<b> Các hàm: </b>\n",
    "- <b>khoangcachgoc:</b> hàm này trả về khoảng cách từ điểm đến điểm gốc(0,0)\n",
    "- <b>khoangcach(tham số đầu vào là 1 đối tượng có lớp point):</b> hàm này trả về khoảng cách từ điểm đến điểm được đưa vào\n",
    "- <b>diemdoixung:</b> hàm này trả về đối tượng có lớp point là điểm đối xứng của điểm qua điểm gốc(0,0)\n",
    "- <b>diemtrungbinh(tham số đầu vào là 1 đối tượng có lớp point):</b> hàm này trả về đối tượng có lớp point là điểm nằm chính giữa điểm và điểm được đưa vào\n",
    "- <b>thanghang(tham số đầu vào là 2 đối tượng có lớp point):</b> hàm này trả về kết quả kiểm tra 3 điểm có thẳng hằng hay không (True/False)\n",
    "- <b>vuonggoc((tham số đầu vào là 3 đối tượng có lớp point):</b> hàm trả trả về kết quả kiểm tra 4 điểm có tạo thành 2 đường thẳng vuông góc được hay không (True/False)"
   ]
  },
  {
   "cell_type": "code",
   "execution_count": 12,
   "id": "ca30ea7d",
   "metadata": {},
   "outputs": [
    {
     "name": "stdout",
     "output_type": "stream",
     "text": [
      "(4.0,6.5)\n"
     ]
    }
   ],
   "source": [
    "class Point:\n",
    "    def __init__(self,x,y):\n",
    "        self.x = x\n",
    "        self.y = y\n",
    "    def inDiem(self):\n",
    "        print(\"(\" + str(self.x) + \",\" + str(self.y) + \")\")\n",
    "    def khoangcachgoc(self):\n",
    "        return (self.x**2 + self.y**2)**0.5\n",
    "    def khoangcach(self,p2):\n",
    "        return ((self.x - p2.x)**2 + (self.y - p2.y)**2)**0.5\n",
    "    def diemdoixung(self):\n",
    "        return Point(-self.x,-self.y)\n",
    "    def diemtrungbinh(self,p2):\n",
    "        x = (self.x + p2.x)/2\n",
    "        y = (self.y + p2.y)/2\n",
    "        return Point(x,y)\n",
    "    def thanghang(self,p2,p3):\n",
    "        kc1 = self.khoangcach(p2)\n",
    "        kc2 = self.khoangcach(p3)\n",
    "        kc3 = p2.khoangcach(p3)\n",
    "        return kc1 + kc2 == kc3 or kc1 + kc3 == kc2 or kc2 + kc3 == kc1\n",
    "    def ktvuonggoc(vt1,vt2):\n",
    "        tichvohuong = vt1[0]*vt2[0] + vt1[1]*vt2[1]\n",
    "        return tichvohuong == 0\n",
    "        \n",
    "    def vuonggoc(self,p2,p3,p4):\n",
    "        vt1 = [self.x - p2.x,self.y - p2.y]\n",
    "        vt2 = [p3.x - p4.x,p3.y - p4.y]\n",
    "        if ktvuonggoc(vt1,vt2): return True\n",
    "        \n",
    "        vt1 = [self.x - p3.x,self.y - p3.y]\n",
    "        vt2 = [p2.x - p4.x,p2.y - p4.y]\n",
    "        if ktvuonggoc(vt1,vt2): return True\n",
    "        \n",
    "        vt1 = [self.x - p4.x,self.y - p4.y]\n",
    "        vt2 = [p2.x - p3.x,p2.y - p3.y]\n",
    "        if ktvuonggoc(vt1,vt2): return True\n",
    "    \n",
    "P1 = Point(3,4)\n",
    "P2 = Point(5,9)\n",
    "P3 = P1.diemdoixung()\n",
    "P4 = P1.diemtrungbinh(P2)\n",
    "P4.inDiem()"
   ]
  },
  {
   "cell_type": "markdown",
   "id": "59c44a5f",
   "metadata": {},
   "source": [
    "### Bài 2"
   ]
  },
  {
   "cell_type": "markdown",
   "id": "b6f8706c",
   "metadata": {},
   "source": [
    "Viết một lớp line để lưu trữ một đường thẳng trong hệ trục tọa độ Oxy (có dạng ax + by + c = 0)\n",
    "\n",
    "Class này có:\n",
    "\n",
    "<b> Các biến: </b>\n",
    "- <b>a</b>: hệ số a của phương trình\n",
    "- <b>b</b>: hệ số b của phương trình\n",
    "- <b>c</b>: hệ số c của phương trình\n",
    "\n",
    "<b> Các hàm: </b>\n",
    "- <b>khoangcachgoc:</b> hàm này trả về khoảng cách từ đường thẳng đến điểm gốc(0,0)\n",
    "- <b>khoangcach(tham số đầu vào là 1 đối tượng có lớp point):</b> hàm này trả về khoảng cách từ đường thẳng đến điểm được đưa vào\n",
    "- <b>tinhchat(tham số đầu vào là 1 đối tượng có lớp line):</b> hàm này kiểm tra xem 2 đường thẳng cắt nhau hay song song hay trùng nhau (trả về 0: cắt nhau, 1: song song, 2: trùng nhau)\n",
    "- <b>thuocduongthang(tham số đầu vào là 1 đối tượng có lớp point):</b> hàm này trả về kết quả điểm có thuộc đường thẳng hay không (True/False)\n",
    "- <b>duongthangtrungbinh(tham số đầu vào là 1 đối tượng có lớp point):</b> hàm này trả về đối tượng có lớp line là đường thẳng nằm chính giữa đường thẳng và điểm được đưa vào\n",
    "- <b>songsong(tham số đầu vào là 2 đối tượng có lớp point):</b> hàm này trả về kết quả kiểm tra 2 điểm có có tạo đường thẳng song song với đường thẳng hay không (True/False)\n",
    "- <b>vuonggoc((tham số đầu vào là 2 đối tượng có lớp point):</b> hàm này trả về kết quả kiểm tra 2 điểm có có tạo đường thẳng vuông góc với đường thẳng hay không (True/False)"
   ]
  },
  {
   "cell_type": "code",
   "execution_count": 19,
   "id": "ce32e9aa",
   "metadata": {},
   "outputs": [
    {
     "name": "stdout",
     "output_type": "stream",
     "text": [
      "3x + 5y + 10 = 0\n",
      "6.688444820557844\n"
     ]
    }
   ],
   "source": [
    "class Line:\n",
    "    def __init__(self,a,b,c):\n",
    "        self.a = a\n",
    "        self.b = b\n",
    "        self.c = c\n",
    "    def inLine(self):\n",
    "        print(str(self.a) + \"x + \" + str(self.b) + \"y + \" + str(self.c) + \" = 0\")\n",
    "    def khoangcachgoc(self):\n",
    "        return abs(self.c)/((self.a**2 + self.b**2)**0.5)\n",
    "    def khoangcach(self,p1):\n",
    "        return abs(self.a*p1.x + self.b*p1.y + self.c)/((self.a**2 + self.b**2)**0.5)\n",
    "    def tinhchat(self,l2):\n",
    "        ## chuyển từ dạng ax + by + c = 0 ~~> dạng y = ax + b\n",
    "        a1 = -self.a/self.b\n",
    "        a2 = -l2.a/l2.b\n",
    "        if a1 != a2: return 0\n",
    "        b1 = -self.c/self.b\n",
    "        b2 = -l2.c/l2.b\n",
    "        if b1 != b2: return 1\n",
    "        return 2\n",
    "    def thuocduongthang(self,p1):\n",
    "        return self.a*p1.x + self.b*p1.y + self.c == 0\n",
    "        \n",
    "L1 = Line(3,5,10)\n",
    "P1 = Point(3,4)\n",
    "L1.inLine()\n",
    "print(L1.khoangcach(P1))"
   ]
  }
 ],
 "metadata": {
  "kernelspec": {
   "display_name": "Python 3 (ipykernel)",
   "language": "python",
   "name": "python3"
  },
  "language_info": {
   "codemirror_mode": {
    "name": "ipython",
    "version": 3
   },
   "file_extension": ".py",
   "mimetype": "text/x-python",
   "name": "python",
   "nbconvert_exporter": "python",
   "pygments_lexer": "ipython3",
   "version": "3.10.4"
  }
 },
 "nbformat": 4,
 "nbformat_minor": 5
}
