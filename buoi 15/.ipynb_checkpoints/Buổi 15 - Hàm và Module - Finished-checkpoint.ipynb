{
 "cells": [
  {
   "cell_type": "markdown",
   "id": "73456e5e",
   "metadata": {},
   "source": [
    "# Hàm\n",
    "\n",
    "### Hàm\n",
    "\n",
    "Cú pháp:\n",
    "\n",
    "`def <tên hàm>(<tham số)>:\n",
    "    //Nội dung hàm`\n",
    "\n",
    "Gọi hàm:\n",
    "`<tên hàm>(<giá trị đầu vào>)`\n",
    "\n",
    "Ví dụ:\n",
    "\n",
    "Hãy viết 1 hàm số để tính tổng 2 số đầu vào và in nó ra màn hình"
   ]
  },
  {
   "cell_type": "code",
   "execution_count": 3,
   "id": "af5b9f6d",
   "metadata": {},
   "outputs": [
    {
     "name": "stdout",
     "output_type": "stream",
     "text": [
      "hello\n",
      "hello\n"
     ]
    }
   ],
   "source": [
    "def demo(): ## Khi khởi tạo hàm thì các lệnh trong hàm chưa được thực hiện\n",
    "    print(\"hello\")\n",
    "\n",
    "## chương trình chính\n",
    "demo()\n",
    "demo()"
   ]
  },
  {
   "cell_type": "code",
   "execution_count": 6,
   "id": "872dc58f",
   "metadata": {},
   "outputs": [
    {
     "name": "stdout",
     "output_type": "stream",
     "text": [
      "hello\n",
      "hi\n",
      "hello\n",
      "hello\n",
      "hi\n",
      "hello\n",
      "hello\n",
      "hi\n",
      "hello\n"
     ]
    }
   ],
   "source": [
    "## viết hàm in hello, in hi rồi in hello\n",
    "\n",
    "def demo():\n",
    "    print('hello')\n",
    "    print('hi')\n",
    "    print('hello')\n",
    "    \n",
    "demo()\n",
    "demo()\n",
    "demo()"
   ]
  },
  {
   "cell_type": "code",
   "execution_count": 8,
   "id": "f7a06695",
   "metadata": {},
   "outputs": [
    {
     "name": "stdout",
     "output_type": "stream",
     "text": [
      "hello\n",
      "hi\n",
      "hello\n",
      "hello\n",
      "hi\n",
      "hello\n",
      "hello\n",
      "hi\n",
      "hello\n"
     ]
    }
   ],
   "source": [
    "print('hello')\n",
    "print('hi')\n",
    "print('hello')\n",
    "print('hello')\n",
    "print('hi')\n",
    "print('hello')\n",
    "print('hello')\n",
    "print('hi')\n",
    "print('hello')"
   ]
  },
  {
   "cell_type": "code",
   "execution_count": 9,
   "id": "ab3860db",
   "metadata": {},
   "outputs": [
    {
     "name": "stdout",
     "output_type": "stream",
     "text": [
      "7\n"
     ]
    }
   ],
   "source": [
    "b = -7\n",
    "a = abs(b)\n",
    "print(a)"
   ]
  },
  {
   "cell_type": "code",
   "execution_count": 12,
   "id": "fa4382ba",
   "metadata": {},
   "outputs": [
    {
     "name": "stdout",
     "output_type": "stream",
     "text": [
      "49\n",
      "144\n",
      "37249\n"
     ]
    }
   ],
   "source": [
    "def mu2(a):\n",
    "    print(a**2)\n",
    "    \n",
    "mu2(7)\n",
    "mu2(12)\n",
    "mu2(193)"
   ]
  },
  {
   "cell_type": "code",
   "execution_count": 15,
   "id": "ff267c70",
   "metadata": {},
   "outputs": [
    {
     "name": "stdout",
     "output_type": "stream",
     "text": [
      "8\n",
      "22\n",
      "25\n"
     ]
    }
   ],
   "source": [
    "def tong(a,b):\n",
    "    print(a+b)\n",
    "    \n",
    "tong(3,5)\n",
    "tong(10,12)\n",
    "tong(15,10)"
   ]
  },
  {
   "cell_type": "code",
   "execution_count": 16,
   "id": "bf01c9e0",
   "metadata": {},
   "outputs": [
    {
     "name": "stdout",
     "output_type": "stream",
     "text": [
      "5\n",
      "2.4\n",
      "6\n"
     ]
    }
   ],
   "source": [
    "## viết hàm tính hiệu thương tích\n",
    "def tong(a,b):\n",
    "    print(a+b)\n",
    "def hieu(a,b):\n",
    "    print(a-b)\n",
    "def thuong(a,b):\n",
    "    print(a/b)\n",
    "def tich(a,b):\n",
    "    print(a*b)\n",
    "hieu(7,2)\n",
    "thuong(12,5)\n",
    "tich(2,3)"
   ]
  },
  {
   "cell_type": "code",
   "execution_count": 18,
   "id": "0d740733",
   "metadata": {},
   "outputs": [
    {
     "name": "stdout",
     "output_type": "stream",
     "text": [
      "hihello\n"
     ]
    },
    {
     "ename": "TypeError",
     "evalue": "can only concatenate str (not \"int\") to str",
     "output_type": "error",
     "traceback": [
      "\u001b[1;31m---------------------------------------------------------------------------\u001b[0m",
      "\u001b[1;31mTypeError\u001b[0m                                 Traceback (most recent call last)",
      "\u001b[1;32mC:\\Users\\HUONGG~1\\AppData\\Local\\Temp/ipykernel_12040/946449232.py\u001b[0m in \u001b[0;36m<module>\u001b[1;34m\u001b[0m\n\u001b[0;32m      9\u001b[0m \u001b[1;33m\u001b[0m\u001b[0m\n\u001b[0;32m     10\u001b[0m \u001b[0mtong\u001b[0m\u001b[1;33m(\u001b[0m\u001b[1;34m\"hi\"\u001b[0m\u001b[1;33m,\u001b[0m\u001b[1;34m\"hello\"\u001b[0m\u001b[1;33m)\u001b[0m\u001b[1;33m\u001b[0m\u001b[1;33m\u001b[0m\u001b[0m\n\u001b[1;32m---> 11\u001b[1;33m \u001b[0mtong\u001b[0m\u001b[1;33m(\u001b[0m\u001b[1;34m\"hi\"\u001b[0m\u001b[1;33m,\u001b[0m\u001b[1;36m3\u001b[0m\u001b[1;33m)\u001b[0m\u001b[1;33m\u001b[0m\u001b[1;33m\u001b[0m\u001b[0m\n\u001b[0m",
      "\u001b[1;32mC:\\Users\\HUONGG~1\\AppData\\Local\\Temp/ipykernel_12040/946449232.py\u001b[0m in \u001b[0;36mtong\u001b[1;34m(a, b)\u001b[0m\n\u001b[0;32m      1\u001b[0m \u001b[1;32mdef\u001b[0m \u001b[0mtong\u001b[0m\u001b[1;33m(\u001b[0m\u001b[0ma\u001b[0m\u001b[1;33m,\u001b[0m\u001b[0mb\u001b[0m\u001b[1;33m)\u001b[0m\u001b[1;33m:\u001b[0m\u001b[1;33m\u001b[0m\u001b[1;33m\u001b[0m\u001b[0m\n\u001b[1;32m----> 2\u001b[1;33m     \u001b[0mprint\u001b[0m\u001b[1;33m(\u001b[0m\u001b[0ma\u001b[0m\u001b[1;33m+\u001b[0m\u001b[0mb\u001b[0m\u001b[1;33m)\u001b[0m\u001b[1;33m\u001b[0m\u001b[1;33m\u001b[0m\u001b[0m\n\u001b[0m\u001b[0;32m      3\u001b[0m \u001b[1;32mdef\u001b[0m \u001b[0mhieu\u001b[0m\u001b[1;33m(\u001b[0m\u001b[0ma\u001b[0m\u001b[1;33m,\u001b[0m\u001b[0mb\u001b[0m\u001b[1;33m)\u001b[0m\u001b[1;33m:\u001b[0m\u001b[1;33m\u001b[0m\u001b[1;33m\u001b[0m\u001b[0m\n\u001b[0;32m      4\u001b[0m     \u001b[0mprint\u001b[0m\u001b[1;33m(\u001b[0m\u001b[0ma\u001b[0m\u001b[1;33m-\u001b[0m\u001b[0mb\u001b[0m\u001b[1;33m)\u001b[0m\u001b[1;33m\u001b[0m\u001b[1;33m\u001b[0m\u001b[0m\n\u001b[0;32m      5\u001b[0m \u001b[1;32mdef\u001b[0m \u001b[0mthuong\u001b[0m\u001b[1;33m(\u001b[0m\u001b[0ma\u001b[0m\u001b[1;33m,\u001b[0m\u001b[0mb\u001b[0m\u001b[1;33m)\u001b[0m\u001b[1;33m:\u001b[0m\u001b[1;33m\u001b[0m\u001b[1;33m\u001b[0m\u001b[0m\n",
      "\u001b[1;31mTypeError\u001b[0m: can only concatenate str (not \"int\") to str"
     ]
    }
   ],
   "source": [
    "def tong(a,b):\n",
    "    print(a+b)\n",
    "def hieu(a,b):\n",
    "    print(a-b)\n",
    "def thuong(a,b):\n",
    "    print(a/b)\n",
    "def tich(a,b):\n",
    "    print(a*b)\n",
    "\n",
    "tong(\"hi\",\"hello\")\n",
    "tong(\"hi\",3)"
   ]
  },
  {
   "cell_type": "code",
   "execution_count": 19,
   "id": "1b414ed9",
   "metadata": {
    "scrolled": true
   },
   "outputs": [
    {
     "ename": "TypeError",
     "evalue": "unsupported operand type(s) for -: 'str' and 'str'",
     "output_type": "error",
     "traceback": [
      "\u001b[1;31m---------------------------------------------------------------------------\u001b[0m",
      "\u001b[1;31mTypeError\u001b[0m                                 Traceback (most recent call last)",
      "\u001b[1;32mC:\\Users\\HUONGG~1\\AppData\\Local\\Temp/ipykernel_12040/3578374753.py\u001b[0m in \u001b[0;36m<module>\u001b[1;34m\u001b[0m\n\u001b[0;32m      9\u001b[0m     \u001b[0mprint\u001b[0m\u001b[1;33m(\u001b[0m\u001b[0ma\u001b[0m\u001b[1;33m*\u001b[0m\u001b[0mb\u001b[0m\u001b[1;33m)\u001b[0m\u001b[1;33m\u001b[0m\u001b[1;33m\u001b[0m\u001b[0m\n\u001b[0;32m     10\u001b[0m \u001b[1;33m\u001b[0m\u001b[0m\n\u001b[1;32m---> 11\u001b[1;33m \u001b[0mhieu\u001b[0m\u001b[1;33m(\u001b[0m\u001b[1;34m\"hi\"\u001b[0m\u001b[1;33m,\u001b[0m\u001b[1;34m\"hello\"\u001b[0m\u001b[1;33m)\u001b[0m\u001b[1;33m\u001b[0m\u001b[1;33m\u001b[0m\u001b[0m\n\u001b[0m",
      "\u001b[1;32mC:\\Users\\HUONGG~1\\AppData\\Local\\Temp/ipykernel_12040/3578374753.py\u001b[0m in \u001b[0;36mhieu\u001b[1;34m(a, b)\u001b[0m\n\u001b[0;32m      3\u001b[0m     \u001b[0mprint\u001b[0m\u001b[1;33m(\u001b[0m\u001b[0ma\u001b[0m\u001b[1;33m+\u001b[0m\u001b[0mb\u001b[0m\u001b[1;33m)\u001b[0m\u001b[1;33m\u001b[0m\u001b[1;33m\u001b[0m\u001b[0m\n\u001b[0;32m      4\u001b[0m \u001b[1;32mdef\u001b[0m \u001b[0mhieu\u001b[0m\u001b[1;33m(\u001b[0m\u001b[0ma\u001b[0m\u001b[1;33m,\u001b[0m\u001b[0mb\u001b[0m\u001b[1;33m)\u001b[0m\u001b[1;33m:\u001b[0m\u001b[1;33m\u001b[0m\u001b[1;33m\u001b[0m\u001b[0m\n\u001b[1;32m----> 5\u001b[1;33m     \u001b[0mprint\u001b[0m\u001b[1;33m(\u001b[0m\u001b[0ma\u001b[0m\u001b[1;33m-\u001b[0m\u001b[0mb\u001b[0m\u001b[1;33m)\u001b[0m\u001b[1;33m\u001b[0m\u001b[1;33m\u001b[0m\u001b[0m\n\u001b[0m\u001b[0;32m      6\u001b[0m \u001b[1;32mdef\u001b[0m \u001b[0mthuong\u001b[0m\u001b[1;33m(\u001b[0m\u001b[0ma\u001b[0m\u001b[1;33m,\u001b[0m\u001b[0mb\u001b[0m\u001b[1;33m)\u001b[0m\u001b[1;33m:\u001b[0m\u001b[1;33m\u001b[0m\u001b[1;33m\u001b[0m\u001b[0m\n\u001b[0;32m      7\u001b[0m     \u001b[0mprint\u001b[0m\u001b[1;33m(\u001b[0m\u001b[0ma\u001b[0m\u001b[1;33m/\u001b[0m\u001b[0mb\u001b[0m\u001b[1;33m)\u001b[0m\u001b[1;33m\u001b[0m\u001b[1;33m\u001b[0m\u001b[0m\n",
      "\u001b[1;31mTypeError\u001b[0m: unsupported operand type(s) for -: 'str' and 'str'"
     ]
    }
   ],
   "source": [
    "## viết hàm tính hiệu thương tích\n",
    "def tong(a,b):\n",
    "    print(a+b)\n",
    "def hieu(a,b):\n",
    "    print(a-b)\n",
    "def thuong(a,b):\n",
    "    print(a/b)\n",
    "def tich(a,b):\n",
    "    print(a*b)\n",
    "    \n",
    "hieu(\"hi\",\"hello\")"
   ]
  },
  {
   "cell_type": "code",
   "execution_count": 20,
   "id": "1e18e715",
   "metadata": {
    "scrolled": true
   },
   "outputs": [
    {
     "ename": "TypeError",
     "evalue": "bad operand type for abs(): 'str'",
     "output_type": "error",
     "traceback": [
      "\u001b[1;31m---------------------------------------------------------------------------\u001b[0m",
      "\u001b[1;31mTypeError\u001b[0m                                 Traceback (most recent call last)",
      "\u001b[1;32mC:\\Users\\HUONGG~1\\AppData\\Local\\Temp/ipykernel_12040/4077128199.py\u001b[0m in \u001b[0;36m<module>\u001b[1;34m\u001b[0m\n\u001b[1;32m----> 1\u001b[1;33m \u001b[0ma\u001b[0m \u001b[1;33m=\u001b[0m \u001b[0mabs\u001b[0m\u001b[1;33m(\u001b[0m\u001b[1;34m\"2\"\u001b[0m\u001b[1;33m)\u001b[0m\u001b[1;33m\u001b[0m\u001b[1;33m\u001b[0m\u001b[0m\n\u001b[0m",
      "\u001b[1;31mTypeError\u001b[0m: bad operand type for abs(): 'str'"
     ]
    }
   ],
   "source": [
    "a = abs(\"2\")"
   ]
  },
  {
   "cell_type": "code",
   "execution_count": 1,
   "id": "f366173c",
   "metadata": {},
   "outputs": [
    {
     "name": "stdout",
     "output_type": "stream",
     "text": [
      "In trong hàm: 5 3\n"
     ]
    },
    {
     "ename": "NameError",
     "evalue": "name 'a' is not defined",
     "output_type": "error",
     "traceback": [
      "\u001b[1;31m---------------------------------------------------------------------------\u001b[0m",
      "\u001b[1;31mNameError\u001b[0m                                 Traceback (most recent call last)",
      "\u001b[1;32mC:\\Users\\HUONGG~1\\AppData\\Local\\Temp/ipykernel_16088/290792539.py\u001b[0m in \u001b[0;36m<module>\u001b[1;34m\u001b[0m\n\u001b[0;32m      4\u001b[0m \u001b[1;33m\u001b[0m\u001b[0m\n\u001b[0;32m      5\u001b[0m \u001b[0mbiendoi\u001b[0m\u001b[1;33m(\u001b[0m\u001b[1;36m3\u001b[0m\u001b[1;33m,\u001b[0m\u001b[1;36m5\u001b[0m\u001b[1;33m)\u001b[0m\u001b[1;33m\u001b[0m\u001b[1;33m\u001b[0m\u001b[0m\n\u001b[1;32m----> 6\u001b[1;33m \u001b[0mprint\u001b[0m\u001b[1;33m(\u001b[0m\u001b[1;34m\"In ngoài hàm:\"\u001b[0m\u001b[1;33m,\u001b[0m\u001b[0ma\u001b[0m\u001b[1;33m,\u001b[0m\u001b[0mb\u001b[0m\u001b[1;33m)\u001b[0m\u001b[1;33m\u001b[0m\u001b[1;33m\u001b[0m\u001b[0m\n\u001b[0m",
      "\u001b[1;31mNameError\u001b[0m: name 'a' is not defined"
     ]
    }
   ],
   "source": [
    "def biendoi(a,b): ## a, b là biến local, có nghĩa là a và b chỉ được sử dụng trong hàm này\n",
    "    a, b = b, a\n",
    "    print(\"In trong hàm:\",a,b)\n",
    "    \n",
    "biendoi(3,5)\n",
    "print(\"In ngoài hàm:\",a,b)"
   ]
  },
  {
   "cell_type": "code",
   "execution_count": 2,
   "id": "21683068",
   "metadata": {},
   "outputs": [
    {
     "name": "stdout",
     "output_type": "stream",
     "text": [
      "In trong hàm: 7 5\n"
     ]
    },
    {
     "ename": "NameError",
     "evalue": "name 'a' is not defined",
     "output_type": "error",
     "traceback": [
      "\u001b[1;31m---------------------------------------------------------------------------\u001b[0m",
      "\u001b[1;31mNameError\u001b[0m                                 Traceback (most recent call last)",
      "\u001b[1;32mC:\\Users\\HUONGG~1\\AppData\\Local\\Temp/ipykernel_16088/3289997733.py\u001b[0m in \u001b[0;36m<module>\u001b[1;34m\u001b[0m\n\u001b[0;32m      7\u001b[0m \u001b[1;33m\u001b[0m\u001b[0m\n\u001b[0;32m      8\u001b[0m \u001b[0mbiendoi\u001b[0m\u001b[1;33m(\u001b[0m\u001b[1;36m5\u001b[0m\u001b[1;33m,\u001b[0m\u001b[1;36m7\u001b[0m\u001b[1;33m)\u001b[0m\u001b[1;33m\u001b[0m\u001b[1;33m\u001b[0m\u001b[0m\n\u001b[1;32m----> 9\u001b[1;33m \u001b[0mbiendoi2\u001b[0m\u001b[1;33m(\u001b[0m\u001b[1;36m10\u001b[0m\u001b[1;33m,\u001b[0m\u001b[1;36m2\u001b[0m\u001b[1;33m)\u001b[0m\u001b[1;33m\u001b[0m\u001b[1;33m\u001b[0m\u001b[0m\n\u001b[0m",
      "\u001b[1;32mC:\\Users\\HUONGG~1\\AppData\\Local\\Temp/ipykernel_16088/3289997733.py\u001b[0m in \u001b[0;36mbiendoi2\u001b[1;34m(c, d)\u001b[0m\n\u001b[0;32m      4\u001b[0m \u001b[1;33m\u001b[0m\u001b[0m\n\u001b[0;32m      5\u001b[0m \u001b[1;32mdef\u001b[0m \u001b[0mbiendoi2\u001b[0m\u001b[1;33m(\u001b[0m\u001b[0mc\u001b[0m\u001b[1;33m,\u001b[0m\u001b[0md\u001b[0m\u001b[1;33m)\u001b[0m\u001b[1;33m:\u001b[0m\u001b[1;33m\u001b[0m\u001b[1;33m\u001b[0m\u001b[0m\n\u001b[1;32m----> 6\u001b[1;33m     \u001b[0mprint\u001b[0m\u001b[1;33m(\u001b[0m\u001b[0ma\u001b[0m\u001b[1;33m,\u001b[0m\u001b[0mb\u001b[0m\u001b[1;33m)\u001b[0m\u001b[1;33m\u001b[0m\u001b[1;33m\u001b[0m\u001b[0m\n\u001b[0m\u001b[0;32m      7\u001b[0m \u001b[1;33m\u001b[0m\u001b[0m\n\u001b[0;32m      8\u001b[0m \u001b[0mbiendoi\u001b[0m\u001b[1;33m(\u001b[0m\u001b[1;36m5\u001b[0m\u001b[1;33m,\u001b[0m\u001b[1;36m7\u001b[0m\u001b[1;33m)\u001b[0m\u001b[1;33m\u001b[0m\u001b[1;33m\u001b[0m\u001b[0m\n",
      "\u001b[1;31mNameError\u001b[0m: name 'a' is not defined"
     ]
    }
   ],
   "source": [
    "def biendoi(a,b): ## a, b là biến local, có nghĩa là a và b chỉ được sử dụng trong hàm này\n",
    "    a, b = b, a\n",
    "    print(\"In trong hàm:\",a,b)\n",
    "    \n",
    "def biendoi2(c,d):\n",
    "    print(a,b)\n",
    "\n",
    "biendoi(5,7)\n",
    "biendoi2(10,2)"
   ]
  },
  {
   "cell_type": "code",
   "execution_count": 3,
   "id": "3aa0b8b8",
   "metadata": {},
   "outputs": [
    {
     "name": "stdout",
     "output_type": "stream",
     "text": [
      "Đây là in trong hàm: 2\n"
     ]
    },
    {
     "ename": "NameError",
     "evalue": "name 'c' is not defined",
     "output_type": "error",
     "traceback": [
      "\u001b[1;31m---------------------------------------------------------------------------\u001b[0m",
      "\u001b[1;31mNameError\u001b[0m                                 Traceback (most recent call last)",
      "\u001b[1;32mC:\\Users\\HUONGG~1\\AppData\\Local\\Temp/ipykernel_16088/344203560.py\u001b[0m in \u001b[0;36m<module>\u001b[1;34m\u001b[0m\n\u001b[0;32m      4\u001b[0m \u001b[1;33m\u001b[0m\u001b[0m\n\u001b[0;32m      5\u001b[0m \u001b[0mbiendoi\u001b[0m\u001b[1;33m(\u001b[0m\u001b[1;36m2\u001b[0m\u001b[1;33m,\u001b[0m\u001b[1;36m7\u001b[0m\u001b[1;33m)\u001b[0m\u001b[1;33m\u001b[0m\u001b[1;33m\u001b[0m\u001b[0m\n\u001b[1;32m----> 6\u001b[1;33m \u001b[0mprint\u001b[0m\u001b[1;33m(\u001b[0m\u001b[1;34m\"Đây là in ngoài hàm:\"\u001b[0m\u001b[1;33m,\u001b[0m\u001b[0mc\u001b[0m\u001b[1;33m)\u001b[0m\u001b[1;33m\u001b[0m\u001b[1;33m\u001b[0m\u001b[0m\n\u001b[0m",
      "\u001b[1;31mNameError\u001b[0m: name 'c' is not defined"
     ]
    }
   ],
   "source": [
    "def biendoi(a,b):\n",
    "    c = 2 ## biến c được khai báo trong hàm ~~> c là biến local\n",
    "    print(\"Đây là in trong hàm:\",c)\n",
    "    \n",
    "biendoi(2,7)\n",
    "print(\"Đây là in ngoài hàm:\",c)"
   ]
  },
  {
   "cell_type": "code",
   "execution_count": 4,
   "id": "72d86228",
   "metadata": {},
   "outputs": [
    {
     "name": "stdout",
     "output_type": "stream",
     "text": [
      "Đây là in trong hàm: 2\n",
      "Đây là in ngoài hàm: 7\n"
     ]
    }
   ],
   "source": [
    "def biendoi(a,b):\n",
    "    c = 2 ## biến c được khai báo trong hàm ~~> c là biến local\n",
    "    print(\"Đây là in trong hàm:\",c) ## in biến local\n",
    "\n",
    "c = 7 ## biến c được khai báo ngoài hàm ~~> c là biến global\n",
    "biendoi(2,7)\n",
    "print(\"Đây là in ngoài hàm:\",c) ## in biến global"
   ]
  },
  {
   "cell_type": "code",
   "execution_count": 5,
   "id": "d68ac85b",
   "metadata": {},
   "outputs": [
    {
     "name": "stdout",
     "output_type": "stream",
     "text": [
      "Đây là in trong hàm: 7\n",
      "Đây là in ngoài hàm: 7\n"
     ]
    }
   ],
   "source": [
    "def biendoi(a,b):\n",
    "    print(\"Đây là in trong hàm:\",c) ## in biến c global vì trong hàm này không có biến c local\n",
    "\n",
    "c = 7 ## biến c được khai báo ngoài hàm ~~> c là biến global\n",
    "biendoi(2,7)\n",
    "print(\"Đây là in ngoài hàm:\",c) ## in biến global"
   ]
  },
  {
   "cell_type": "code",
   "execution_count": 1,
   "id": "55d8b013",
   "metadata": {},
   "outputs": [
    {
     "ename": "NameError",
     "evalue": "name 'c' is not defined",
     "output_type": "error",
     "traceback": [
      "\u001b[1;31m---------------------------------------------------------------------------\u001b[0m",
      "\u001b[1;31mNameError\u001b[0m                                 Traceback (most recent call last)",
      "\u001b[1;32mC:\\Users\\HUONGG~1\\AppData\\Local\\Temp/ipykernel_3564/3327601203.py\u001b[0m in \u001b[0;36m<module>\u001b[1;34m\u001b[0m\n\u001b[0;32m      2\u001b[0m     \u001b[0mprint\u001b[0m\u001b[1;33m(\u001b[0m\u001b[1;34m\"Đây là in trong hàm:\"\u001b[0m\u001b[1;33m,\u001b[0m\u001b[0mc\u001b[0m\u001b[1;33m)\u001b[0m \u001b[1;31m## in biến c global vì trong hàm này không có biến c local\u001b[0m\u001b[1;33m\u001b[0m\u001b[1;33m\u001b[0m\u001b[0m\n\u001b[0;32m      3\u001b[0m \u001b[1;33m\u001b[0m\u001b[0m\n\u001b[1;32m----> 4\u001b[1;33m \u001b[0mbiendoi\u001b[0m\u001b[1;33m(\u001b[0m\u001b[1;36m2\u001b[0m\u001b[1;33m,\u001b[0m\u001b[1;36m7\u001b[0m\u001b[1;33m)\u001b[0m\u001b[1;33m\u001b[0m\u001b[1;33m\u001b[0m\u001b[0m\n\u001b[0m\u001b[0;32m      5\u001b[0m \u001b[0mc\u001b[0m \u001b[1;33m=\u001b[0m \u001b[1;36m7\u001b[0m \u001b[1;31m## biến c được khai báo ngoài hàm ~~> c là biến global\u001b[0m\u001b[1;33m\u001b[0m\u001b[1;33m\u001b[0m\u001b[0m\n\u001b[0;32m      6\u001b[0m \u001b[0mprint\u001b[0m\u001b[1;33m(\u001b[0m\u001b[1;34m\"Đây là in ngoài hàm:\"\u001b[0m\u001b[1;33m,\u001b[0m\u001b[0mc\u001b[0m\u001b[1;33m)\u001b[0m \u001b[1;31m## in biến global\u001b[0m\u001b[1;33m\u001b[0m\u001b[1;33m\u001b[0m\u001b[0m\n",
      "\u001b[1;32mC:\\Users\\HUONGG~1\\AppData\\Local\\Temp/ipykernel_3564/3327601203.py\u001b[0m in \u001b[0;36mbiendoi\u001b[1;34m(a, b)\u001b[0m\n\u001b[0;32m      1\u001b[0m \u001b[1;32mdef\u001b[0m \u001b[0mbiendoi\u001b[0m\u001b[1;33m(\u001b[0m\u001b[0ma\u001b[0m\u001b[1;33m,\u001b[0m\u001b[0mb\u001b[0m\u001b[1;33m)\u001b[0m\u001b[1;33m:\u001b[0m\u001b[1;33m\u001b[0m\u001b[1;33m\u001b[0m\u001b[0m\n\u001b[1;32m----> 2\u001b[1;33m     \u001b[0mprint\u001b[0m\u001b[1;33m(\u001b[0m\u001b[1;34m\"Đây là in trong hàm:\"\u001b[0m\u001b[1;33m,\u001b[0m\u001b[0mc\u001b[0m\u001b[1;33m)\u001b[0m \u001b[1;31m## in biến c global vì trong hàm này không có biến c local\u001b[0m\u001b[1;33m\u001b[0m\u001b[1;33m\u001b[0m\u001b[0m\n\u001b[0m\u001b[0;32m      3\u001b[0m \u001b[1;33m\u001b[0m\u001b[0m\n\u001b[0;32m      4\u001b[0m \u001b[0mbiendoi\u001b[0m\u001b[1;33m(\u001b[0m\u001b[1;36m2\u001b[0m\u001b[1;33m,\u001b[0m\u001b[1;36m7\u001b[0m\u001b[1;33m)\u001b[0m\u001b[1;33m\u001b[0m\u001b[1;33m\u001b[0m\u001b[0m\n\u001b[0;32m      5\u001b[0m \u001b[0mc\u001b[0m \u001b[1;33m=\u001b[0m \u001b[1;36m7\u001b[0m \u001b[1;31m## biến c được khai báo ngoài hàm ~~> c là biến global\u001b[0m\u001b[1;33m\u001b[0m\u001b[1;33m\u001b[0m\u001b[0m\n",
      "\u001b[1;31mNameError\u001b[0m: name 'c' is not defined"
     ]
    }
   ],
   "source": [
    "def biendoi(a,b):\n",
    "    print(\"Đây là in trong hàm:\",c) ## báo lỗi vì không tìm thấy biến c local và cả biến c global\n",
    "\n",
    "biendoi(2,7) ## gọi hàm trước khi khai báo c\n",
    "c = 7\n",
    "print(\"Đây là in ngoài hàm:\",c) ## in biến global"
   ]
  },
  {
   "cell_type": "code",
   "execution_count": 2,
   "id": "46ce8be8",
   "metadata": {},
   "outputs": [
    {
     "ename": "UnboundLocalError",
     "evalue": "local variable 'c' referenced before assignment",
     "output_type": "error",
     "traceback": [
      "\u001b[1;31m---------------------------------------------------------------------------\u001b[0m",
      "\u001b[1;31mUnboundLocalError\u001b[0m                         Traceback (most recent call last)",
      "\u001b[1;32mC:\\Users\\HUONGG~1\\AppData\\Local\\Temp/ipykernel_3564/1226672401.py\u001b[0m in \u001b[0;36m<module>\u001b[1;34m\u001b[0m\n\u001b[0;32m      4\u001b[0m \u001b[1;33m\u001b[0m\u001b[0m\n\u001b[0;32m      5\u001b[0m \u001b[0mc\u001b[0m \u001b[1;33m=\u001b[0m \u001b[1;36m7\u001b[0m \u001b[1;31m## biến c được khai báo ngoài hàm ~~> c là biến global\u001b[0m\u001b[1;33m\u001b[0m\u001b[1;33m\u001b[0m\u001b[0m\n\u001b[1;32m----> 6\u001b[1;33m \u001b[0mbiendoi\u001b[0m\u001b[1;33m(\u001b[0m\u001b[1;36m2\u001b[0m\u001b[1;33m,\u001b[0m\u001b[1;36m7\u001b[0m\u001b[1;33m)\u001b[0m\u001b[1;33m\u001b[0m\u001b[1;33m\u001b[0m\u001b[0m\n\u001b[0m\u001b[0;32m      7\u001b[0m \u001b[0mprint\u001b[0m\u001b[1;33m(\u001b[0m\u001b[1;34m\"Đây là in ngoài hàm:\"\u001b[0m\u001b[1;33m,\u001b[0m\u001b[0mc\u001b[0m\u001b[1;33m)\u001b[0m \u001b[1;31m## in biến global\u001b[0m\u001b[1;33m\u001b[0m\u001b[1;33m\u001b[0m\u001b[0m\n",
      "\u001b[1;32mC:\\Users\\HUONGG~1\\AppData\\Local\\Temp/ipykernel_3564/1226672401.py\u001b[0m in \u001b[0;36mbiendoi\u001b[1;34m(a, b)\u001b[0m\n\u001b[0;32m      1\u001b[0m \u001b[1;32mdef\u001b[0m \u001b[0mbiendoi\u001b[0m\u001b[1;33m(\u001b[0m\u001b[0ma\u001b[0m\u001b[1;33m,\u001b[0m\u001b[0mb\u001b[0m\u001b[1;33m)\u001b[0m\u001b[1;33m:\u001b[0m\u001b[1;33m\u001b[0m\u001b[1;33m\u001b[0m\u001b[0m\n\u001b[1;32m----> 2\u001b[1;33m     \u001b[0mprint\u001b[0m\u001b[1;33m(\u001b[0m\u001b[1;34m\"Đây là in trong hàm:\"\u001b[0m\u001b[1;33m,\u001b[0m\u001b[0mc\u001b[0m\u001b[1;33m)\u001b[0m\u001b[1;33m\u001b[0m\u001b[1;33m\u001b[0m\u001b[0m\n\u001b[0m\u001b[0;32m      3\u001b[0m     \u001b[0mc\u001b[0m \u001b[1;33m=\u001b[0m \u001b[1;36m2\u001b[0m\u001b[1;33m\u001b[0m\u001b[1;33m\u001b[0m\u001b[0m\n\u001b[0;32m      4\u001b[0m \u001b[1;33m\u001b[0m\u001b[0m\n\u001b[0;32m      5\u001b[0m \u001b[0mc\u001b[0m \u001b[1;33m=\u001b[0m \u001b[1;36m7\u001b[0m \u001b[1;31m## biến c được khai báo ngoài hàm ~~> c là biến global\u001b[0m\u001b[1;33m\u001b[0m\u001b[1;33m\u001b[0m\u001b[0m\n",
      "\u001b[1;31mUnboundLocalError\u001b[0m: local variable 'c' referenced before assignment"
     ]
    }
   ],
   "source": [
    "def biendoi(a,b):\n",
    "    print(\"Đây là in trong hàm:\",c) ## hiểu là in c local vì trong hàm có lệnh khai báo c\n",
    "    ## dù cho cái lệnh đó chưa được thực hiện\n",
    "    ## vì chưa được thực hiện nên c chưa được khai báo ~~> lỗi\n",
    "    c = 2 ## đặt khai báo c ở bất kỳ đầu trong hàm ~~> c cũng là local\n",
    "\n",
    "c = 7 ## biến c được khai báo ngoài hàm ~~> c là biến global\n",
    "biendoi(2,7)\n",
    "print(\"Đây là in ngoài hàm:\",c) ## in biến global"
   ]
  },
  {
   "cell_type": "code",
   "execution_count": 3,
   "id": "13e7902b",
   "metadata": {},
   "outputs": [
    {
     "ename": "UnboundLocalError",
     "evalue": "local variable 'c' referenced before assignment",
     "output_type": "error",
     "traceback": [
      "\u001b[1;31m---------------------------------------------------------------------------\u001b[0m",
      "\u001b[1;31mUnboundLocalError\u001b[0m                         Traceback (most recent call last)",
      "\u001b[1;32mC:\\Users\\HUONGG~1\\AppData\\Local\\Temp/ipykernel_3564/3425029041.py\u001b[0m in \u001b[0;36m<module>\u001b[1;34m\u001b[0m\n\u001b[0;32m      5\u001b[0m \u001b[1;33m\u001b[0m\u001b[0m\n\u001b[0;32m      6\u001b[0m \u001b[0mc\u001b[0m \u001b[1;33m=\u001b[0m \u001b[1;36m7\u001b[0m\u001b[1;33m\u001b[0m\u001b[1;33m\u001b[0m\u001b[0m\n\u001b[1;32m----> 7\u001b[1;33m \u001b[0mbiendoi\u001b[0m\u001b[1;33m(\u001b[0m\u001b[1;36m2\u001b[0m\u001b[1;33m,\u001b[0m\u001b[1;36m7\u001b[0m\u001b[1;33m)\u001b[0m\u001b[1;33m\u001b[0m\u001b[1;33m\u001b[0m\u001b[0m\n\u001b[0m\u001b[0;32m      8\u001b[0m \u001b[0mprint\u001b[0m\u001b[1;33m(\u001b[0m\u001b[1;34m\"Đây là in ngoài hàm:\"\u001b[0m\u001b[1;33m,\u001b[0m\u001b[0mc\u001b[0m\u001b[1;33m)\u001b[0m\u001b[1;33m\u001b[0m\u001b[1;33m\u001b[0m\u001b[0m\n",
      "\u001b[1;32mC:\\Users\\HUONGG~1\\AppData\\Local\\Temp/ipykernel_3564/3425029041.py\u001b[0m in \u001b[0;36mbiendoi\u001b[1;34m(a, b)\u001b[0m\n\u001b[0;32m      2\u001b[0m     \u001b[1;32mif\u001b[0m \u001b[1;32mFalse\u001b[0m\u001b[1;33m:\u001b[0m\u001b[1;33m\u001b[0m\u001b[1;33m\u001b[0m\u001b[0m\n\u001b[0;32m      3\u001b[0m         \u001b[0mc\u001b[0m \u001b[1;33m=\u001b[0m \u001b[1;36m2\u001b[0m\u001b[1;33m\u001b[0m\u001b[1;33m\u001b[0m\u001b[0m\n\u001b[1;32m----> 4\u001b[1;33m     \u001b[0mprint\u001b[0m\u001b[1;33m(\u001b[0m\u001b[1;34m\"Đây là in trong hàm:\"\u001b[0m\u001b[1;33m,\u001b[0m\u001b[0mc\u001b[0m\u001b[1;33m)\u001b[0m\u001b[1;33m\u001b[0m\u001b[1;33m\u001b[0m\u001b[0m\n\u001b[0m\u001b[0;32m      5\u001b[0m \u001b[1;33m\u001b[0m\u001b[0m\n\u001b[0;32m      6\u001b[0m \u001b[0mc\u001b[0m \u001b[1;33m=\u001b[0m \u001b[1;36m7\u001b[0m\u001b[1;33m\u001b[0m\u001b[1;33m\u001b[0m\u001b[0m\n",
      "\u001b[1;31mUnboundLocalError\u001b[0m: local variable 'c' referenced before assignment"
     ]
    }
   ],
   "source": [
    "def biendoi(a,b):\n",
    "    if False:\n",
    "        c = 2\n",
    "    print(\"Đây là in trong hàm:\",c)\n",
    "\n",
    "c = 7\n",
    "biendoi(2,7)\n",
    "print(\"Đây là in ngoài hàm:\",c)"
   ]
  },
  {
   "cell_type": "code",
   "execution_count": 8,
   "id": "431037e0",
   "metadata": {},
   "outputs": [
    {
     "name": "stdout",
     "output_type": "stream",
     "text": [
      "8\n"
     ]
    }
   ],
   "source": [
    "## khai một biến c là global\n",
    "## viết hàm thay đổi giá trị biến c global đó\n",
    "\n",
    "def thaydoicbang2():\n",
    "    global c ## ~~> sẽ không khai báo một biến c mới khi ta thực hiện một lệnh gán\n",
    "    c = 2 ## ~~> gán giá trị mới cho biến c global\n",
    "\n",
    "def thaydoic(a):\n",
    "    global c ## ~~> sẽ không khai báo một biến c mới khi ta thực hiện một lệnh gán\n",
    "    c = a ## ~~> gán giá trị mới cho biến c global\n",
    "\n",
    "c = 7\n",
    "thaydoic(8)\n",
    "print(c) ## in c global"
   ]
  },
  {
   "cell_type": "code",
   "execution_count": 9,
   "id": "ae3079e6",
   "metadata": {},
   "outputs": [
    {
     "name": "stdout",
     "output_type": "stream",
     "text": [
      "10\n"
     ]
    }
   ],
   "source": [
    "def demo(a): ## a là biến local\n",
    "    a = 7\n",
    "    \n",
    "b = 10\n",
    "demo(b)\n",
    "print(b)"
   ]
  },
  {
   "cell_type": "markdown",
   "id": "a7c39f47",
   "metadata": {},
   "source": [
    "### Giá trị trả về của hàm\n",
    "\n",
    "# return\n",
    "\n",
    "Cú pháp:\n",
    "\n",
    "`retrun <giá trị trả về>`\n",
    "\n",
    "##### Lưu ý: Sau khi thực hiện lệnh return, chương trình sẽ thoát khỏi hàm ngay lập tức (những lệnh sau đó không được thực hiện)\n",
    "\n",
    "Ví dụ:\n",
    "\n",
    "Hãy viết 1 hàm trả về giá trị trung bình của 2 số bất kỳ"
   ]
  },
  {
   "cell_type": "code",
   "execution_count": 11,
   "id": "0b527b95",
   "metadata": {},
   "outputs": [
    {
     "name": "stdout",
     "output_type": "stream",
     "text": [
      "hi\n",
      "7\n"
     ]
    }
   ],
   "source": [
    "print('hi') ## đây là một hàm không có giá trị\n",
    "a = abs(7) ## đây là một hàm có giá trị\n",
    "print(a)"
   ]
  },
  {
   "cell_type": "code",
   "execution_count": 12,
   "id": "fd0a12f7",
   "metadata": {},
   "outputs": [
    {
     "name": "stdout",
     "output_type": "stream",
     "text": [
      "2\n"
     ]
    }
   ],
   "source": [
    "def trave2():\n",
    "    return 2\n",
    "\n",
    "a = trave2()\n",
    "print(a)"
   ]
  },
  {
   "cell_type": "code",
   "execution_count": null,
   "id": "7bf48595",
   "metadata": {},
   "outputs": [],
   "source": [
    "def trave2():\n",
    "    return 2 ## nó sẽ trả về 2 vì chạy tới đây là thoát hàm\n",
    "    return 7\n",
    "\n",
    "a = trave2()\n",
    "print(a)"
   ]
  },
  {
   "cell_type": "code",
   "execution_count": 13,
   "id": "6841b0ed",
   "metadata": {},
   "outputs": [
    {
     "name": "stdout",
     "output_type": "stream",
     "text": [
      "4\n"
     ]
    }
   ],
   "source": [
    "def demo():\n",
    "    for i in range(10):\n",
    "        if i == 5:\n",
    "            return i - 1 ## thoát ra khi i = 5, trả về 4\n",
    "    return 0\n",
    "\n",
    "a = demo()\n",
    "print(a)"
   ]
  },
  {
   "cell_type": "code",
   "execution_count": null,
   "id": "8129adc8",
   "metadata": {},
   "outputs": [],
   "source": [
    "def demo():\n",
    "    for i in range(10):\n",
    "        for j in range(20):\n",
    "            if i*j == 15:\n",
    "                return i ## thoát ra khi i = 1 và j = 15, thoát ra là thoát hết tất cả vòng lặp\n",
    "            ## trong hàm\n",
    "    return 0\n",
    "\n",
    "a = demo()\n",
    "print(a)"
   ]
  },
  {
   "cell_type": "code",
   "execution_count": 15,
   "id": "c95cfafd",
   "metadata": {},
   "outputs": [
    {
     "name": "stdout",
     "output_type": "stream",
     "text": [
      "2\n"
     ]
    }
   ],
   "source": [
    "## viết hàm chanle kiểm tra chẵn lẽ\n",
    "## đưa vào một con số nguyên, kiểm tra xem đó là số chẵn hay lẻ\n",
    "## nếu là chẵn thì trả về 2, ngược lại trả về 1\n",
    "\n",
    "def chanle(x):\n",
    "    if x % 2 == 0: ## nếu x là chẵn thì ta return 2\n",
    "        return 2 ## không cần else vì nếu đã return 2 thì sẽ thoát hàm, không chạy return 1\n",
    "    return 1 ## nếu x là lẻ thì ta return 1\n",
    "\n",
    "print(chanle(8))"
   ]
  },
  {
   "cell_type": "code",
   "execution_count": 18,
   "id": "e5bef330",
   "metadata": {},
   "outputs": [
    {
     "name": "stdout",
     "output_type": "stream",
     "text": [
      "Giai thừa lớn hơn 100\n"
     ]
    }
   ],
   "source": [
    "## viết hàm giaithua100 để kiểm tra giai thừa của 1 số có lớn hơn 100 hay không\n",
    "## đưa vào một con số nguyên, tính toán và kiểm tra xem giai thừa của số đưa vào có lớn hơn 100 hay không\n",
    "## nếu có thì return True, nếu không return False\n",
    "\n",
    "def giaiThua100(a):\n",
    "    giaithua = 1\n",
    "    for i in range(1,a+1):\n",
    "        giaithua *= i\n",
    "    return giaithua > 100\n",
    "\n",
    "if giaiThua100(10): ## vì hàm trả về True/False nên đặt trong if được\n",
    "    print(\"Giai thừa lớn hơn 100\")\n",
    "else:\n",
    "    print(\"Giai thừa bé hơn 100\")"
   ]
  },
  {
   "cell_type": "markdown",
   "id": "1d7f8db0",
   "metadata": {},
   "source": [
    "### Bài tập"
   ]
  },
  {
   "cell_type": "markdown",
   "id": "75fb488b",
   "metadata": {},
   "source": [
    "Viết hàm kiểm tra số nguyên tố"
   ]
  },
  {
   "cell_type": "code",
   "execution_count": 21,
   "id": "63701bd7",
   "metadata": {},
   "outputs": [
    {
     "name": "stdout",
     "output_type": "stream",
     "text": [
      "False\n"
     ]
    }
   ],
   "source": [
    "def snt(a):\n",
    "    ## số nguyên tố là số chỉ có 2 ước là 1 và chính nó\n",
    "    ## trong khoảng từ 2 đến a - 1 không có ước của nó\n",
    "    ## nếu như trong khoảng từ 2 đến a - 1 mà có ước của nó thì nó không phải là số nguyên tố\n",
    "    if a < 2: return False\n",
    "    for i in range(2,a): ## range(2,2) ~~> tập rỗng\n",
    "        if a % i == 0:\n",
    "            return False\n",
    "    return True\n",
    "\n",
    "print(snt(8))"
   ]
  },
  {
   "cell_type": "markdown",
   "id": "221103cf",
   "metadata": {},
   "source": [
    "Nhập vào 3 điểm toán, lý, hóa\n",
    "\n",
    "Hãy viết hàm in điểm trung bung bình rồi tính điểm trung bình của toán lý, toán hóa, lý hóa và toán lý hóa"
   ]
  },
  {
   "cell_type": "code",
   "execution_count": 23,
   "id": "1ba1d8ae",
   "metadata": {},
   "outputs": [
    {
     "name": "stdout",
     "output_type": "stream",
     "text": [
      "Nhập vào toán:3\n",
      "Nhập vào lý:7\n",
      "Nhập vào hóa:1\n",
      "Đtb của toán lý là: 5.0\n",
      "Đtb của lý hóa là: 4.0\n",
      "Đtb của toán hóa là: 2.0\n",
      "Đtb của 3 môn toán lý hóa là: 3.6666666666666665\n"
     ]
    }
   ],
   "source": [
    "## viết 2 hàm\n",
    "## 1 hàm tính đtb 2 số\n",
    "## 1 hàm tính đtb 3 số\n",
    "def tb2so(a,b):\n",
    "    return (a + b)/2\n",
    "\n",
    "def tb3so(a,b,c):\n",
    "    return (a + b + c)/3\n",
    "\n",
    "toan = float(input(\"Nhập vào toán:\"))\n",
    "ly = float(input(\"Nhập vào lý:\"))\n",
    "hoa = float(input(\"Nhập vào hóa:\"))\n",
    "\n",
    "print(\"Đtb của toán lý là:\",tb2so(toan,ly))\n",
    "print(\"Đtb của lý hóa là:\",tb2so(ly,hoa))\n",
    "print(\"Đtb của toán hóa là:\",tb2so(toan,hoa))\n",
    "print(\"Đtb của 3 môn toán lý hóa là:\",tb3so(toan,ly,hoa))"
   ]
  },
  {
   "cell_type": "markdown",
   "id": "50f43307",
   "metadata": {},
   "source": [
    "Viết hàm đếm số lượng từ của một chuỗi đưa vào"
   ]
  },
  {
   "cell_type": "code",
   "execution_count": 27,
   "id": "d92346b7",
   "metadata": {},
   "outputs": [
    {
     "name": "stdout",
     "output_type": "stream",
     "text": [
      "xin chào các bạn\n",
      "4\n"
     ]
    }
   ],
   "source": [
    "## chuỗi được nhập theo đúng quy tắc gõ văn bản: \"xin chào các bạn, các bạn khỏe không?\"\n",
    "## không được sử dụng các hàm xử lý chuỗi\n",
    "def dem(a):\n",
    "    dem=1\n",
    "    for i in a:\n",
    "        if i == \" \":\n",
    "            dem += 1\n",
    "    return dem\n",
    "b=str(input())\n",
    "print(dem(b))"
   ]
  },
  {
   "cell_type": "markdown",
   "id": "b4adef40",
   "metadata": {},
   "source": [
    "Viết một hàm vẽ hình tròn, một hàm vẽ hình vuông và một hàm vẽ hình tam giác đều (giá trị đầu vào là a)\n",
    "\n",
    "Tất cả hàm này, bắt đầu từ 1 vị trí, sau khi vẽ ra, con trỏ sẽ tiến tới vị trí tiếp theo, cách vì đầu một khoảng a + 10 theo chiều x từ trái sang"
   ]
  },
  {
   "cell_type": "code",
   "execution_count": null,
   "id": "e405d1d4",
   "metadata": {},
   "outputs": [],
   "source": []
  }
 ],
 "metadata": {
  "kernelspec": {
   "display_name": "Python 3 (ipykernel)",
   "language": "python",
   "name": "python3"
  },
  "language_info": {
   "codemirror_mode": {
    "name": "ipython",
    "version": 3
   },
   "file_extension": ".py",
   "mimetype": "text/x-python",
   "name": "python",
   "nbconvert_exporter": "python",
   "pygments_lexer": "ipython3",
   "version": "3.10.4"
  }
 },
 "nbformat": 4,
 "nbformat_minor": 5
}
