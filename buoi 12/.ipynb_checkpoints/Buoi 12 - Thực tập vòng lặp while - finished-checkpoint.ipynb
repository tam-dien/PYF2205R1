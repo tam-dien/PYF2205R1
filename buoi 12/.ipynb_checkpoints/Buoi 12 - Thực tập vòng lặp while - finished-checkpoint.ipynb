{
 "cells": [
  {
   "cell_type": "markdown",
   "id": "1f7be993",
   "metadata": {},
   "source": [
    "# Thực tập vòng lặp While\n",
    "\n",
    "### Bài 1\n",
    "\n",
    "Nhập vào số a, sử dụng lệnh while (không sử dụng break và for) để xác định xem số đó có phải là số nguyên tố hay không"
   ]
  },
  {
   "cell_type": "code",
   "execution_count": 1,
   "id": "8cb73965",
   "metadata": {},
   "outputs": [
    {
     "name": "stdout",
     "output_type": "stream",
     "text": [
      "Nhập vào a:13\n",
      "Đây là số nguyên tố!\n"
     ]
    }
   ],
   "source": [
    "a = int(input(\"Nhập vào a:\"))\n",
    "\n",
    "i = 1\n",
    "dem = 0\n",
    "while i <= a:\n",
    "    if a % i == 0:\n",
    "        dem += 1\n",
    "    i += 1\n",
    "if dem == 2:\n",
    "    print(\"Đây là số nguyên tố!\")\n",
    "else:\n",
    "    print(\"Đây không là số nguyên tố!\")"
   ]
  },
  {
   "cell_type": "markdown",
   "id": "9f2357ca",
   "metadata": {},
   "source": [
    "### Bài 2\n",
    "\n",
    "Hãy sử dụng lệnh while lập trình cho bài đoán số ở buổi thứ 9"
   ]
  },
  {
   "cell_type": "code",
   "execution_count": null,
   "id": "db79cb9d",
   "metadata": {},
   "outputs": [],
   "source": []
  },
  {
   "cell_type": "markdown",
   "id": "58f5b789",
   "metadata": {},
   "source": [
    "### Bài 3\n",
    "\n",
    "Nhập vào số a, hãy đếm a có bao nhiêu chữ số chẵn, bao nhiêu cữ số lẻ\n",
    "\n",
    "#### Cách 1 (dùng chuỗi):"
   ]
  },
  {
   "cell_type": "code",
   "execution_count": 4,
   "id": "e7f9da21",
   "metadata": {},
   "outputs": [
    {
     "name": "stdout",
     "output_type": "stream",
     "text": [
      "Nhập a bất kì:543585\n",
      "2\n",
      "4\n"
     ]
    }
   ],
   "source": [
    "a = int(input(\"Nhập a bất kì:\"))\n",
    "\n",
    "a = str(a)\n",
    "i = 0\n",
    "demchan = 0\n",
    "demle = 0\n",
    "while i < len(a):\n",
    "    if int(a[i]) % 2 == 0 and chusocuoicung != 0:\n",
    "        demchan += 1\n",
    "    else:\n",
    "        demle += 1\n",
    "    i += 1\n",
    "print(demchan)\n",
    "print(demle)"
   ]
  },
  {
   "cell_type": "markdown",
   "id": "9a3d9703",
   "metadata": {},
   "source": [
    "#### Cách 2 (không dùng chuỗi):"
   ]
  },
  {
   "cell_type": "code",
   "execution_count": 3,
   "id": "d4e474c8",
   "metadata": {},
   "outputs": [
    {
     "name": "stdout",
     "output_type": "stream",
     "text": [
      "Nhập a bất kì:548963\n",
      "3\n",
      "3\n"
     ]
    }
   ],
   "source": [
    "a = int(input(\"Nhập a bất kì:\"))\n",
    "\n",
    "demchan = 0\n",
    "demle = 0\n",
    "\n",
    "while a != 0:\n",
    "    chusocuoicung = a % 10\n",
    "    a = a // 10\n",
    "    if chusocuoicung % 2 == 0 and chusocuoicung != 0:\n",
    "        demchan += 1\n",
    "    else:\n",
    "        demle += 1\n",
    "print(demchan)\n",
    "print(demle)"
   ]
  },
  {
   "cell_type": "markdown",
   "id": "69539ece",
   "metadata": {},
   "source": [
    "### Bài 4\n",
    "\n",
    "Nhập vào số a, hãy tính tổng các chữ số nguyên tố của a"
   ]
  },
  {
   "cell_type": "code",
   "execution_count": 6,
   "id": "f001bd9a",
   "metadata": {},
   "outputs": [
    {
     "name": "stdout",
     "output_type": "stream",
     "text": [
      "Nhập a bất kì:57896\n",
      "12\n"
     ]
    }
   ],
   "source": [
    "a = int(input(\"Nhập a bất kì:\"))\n",
    "\n",
    "S = 0\n",
    "\n",
    "while a != 0:\n",
    "    chusocuoicung = a % 10\n",
    "    a = a // 10\n",
    "    if chusocuoicung == 2 or chusocuoicung == 3 or chusocuoicung == 5 or chusocuoicung == 7:\n",
    "        S += chusocuoicung\n",
    "print(S)"
   ]
  },
  {
   "cell_type": "markdown",
   "id": "0a5075a4",
   "metadata": {},
   "source": [
    "### Bài 5\n",
    "\n",
    "Số armstrong là số có tổng của các chữ số mũ số lượng chữ số bằng chính nó\n",
    "\n",
    "Ví dụ\n",
    "\n",
    "Số 371 là một số armstrong vì:\n",
    "\n",
    "371 = 3^3 + 7^3 + 1^3 (3 là số lượng chữ số của 371)\n",
    "\n",
    "Số 1634 là một số armstrong vì:\n",
    "\n",
    "1634 = 1^4 + 6^4 + 3^4 + 4^4 (4 là số lượng chữ số của 1634)\n",
    "\n",
    "Nhập vào số a, kiểm tra xem a có phải là số armstrong không"
   ]
  },
  {
   "cell_type": "code",
   "execution_count": 10,
   "id": "b9ed54a5",
   "metadata": {},
   "outputs": [
    {
     "name": "stdout",
     "output_type": "stream",
     "text": [
      "Nhập a bất kì:3712\n",
      "Đây không là số Armstrong!\n"
     ]
    }
   ],
   "source": [
    "a = int(input(\"Nhập a bất kì:\"))\n",
    "\n",
    "S = 0\n",
    "a0 = a\n",
    "dem = 0\n",
    "\n",
    "while a != 0:\n",
    "    a = a//10\n",
    "    dem += 1\n",
    "a = a0\n",
    "\n",
    "while a != 0:\n",
    "    chusocuoicung = a % 10\n",
    "    a = a // 10\n",
    "    S += chusocuoicung**dem\n",
    "    \n",
    "if S == a0:\n",
    "    print(\"Đây là số Armstrong!\")\n",
    "else:\n",
    "    print(\"Đây không là số Armstrong!\")"
   ]
  },
  {
   "cell_type": "markdown",
   "id": "f8a584d3",
   "metadata": {},
   "source": [
    "### Bài 6\n",
    "\n",
    "Dãy số fibonacci là dãy số được định nghĩa như sau: 1, 1, 2, 3, 5, 8, 13,... với số kế tiếp sẽ bằng tổng hai số trước đó\n",
    "\n",
    "Nhập vào A, hãy tìm số trong dãy số fibonacci lớn nhất nhưng không vượt quá A"
   ]
  },
  {
   "cell_type": "code",
   "execution_count": null,
   "id": "3ad4d85b",
   "metadata": {},
   "outputs": [],
   "source": [
    "A = int(input(\"Nhập vào A:\"))\n",
    "\n",
    "a = 1\n",
    "b = 1\n",
    "c = a + b ## 2\n",
    "\n",
    "while c <= A: ## điều kiện dừng là c > A\n",
    "    a = b \n",
    "    b = c\n",
    "    c = a + b\n",
    "    \n",
    "print(b)"
   ]
  },
  {
   "cell_type": "markdown",
   "id": "9fa794f2",
   "metadata": {},
   "source": [
    "### Bài 7\n",
    "\n",
    "Nhập vào A, tìm n nhỏ nhất sao cho\n",
    "\n",
    "1 + 1/2 + 1/3 + 1/4 + ... + 1/n > A"
   ]
  },
  {
   "cell_type": "code",
   "execution_count": null,
   "id": "246ec002",
   "metadata": {},
   "outputs": [],
   "source": []
  },
  {
   "cell_type": "markdown",
   "id": "c5fd4d8a",
   "metadata": {},
   "source": [
    "### Bài 8\n",
    "\n",
    "Nhập vào a và b là số nguyên dương (b có một chữ số, nhập sai yêu cầu nhập lại), hãy tìm vị trí đầu tiên (bắt đầu từ bên trái) của b trong a, nếu không tìm thấy thì in kết quả là 0 (ví trí đầu bắt đầu từ 1)\n",
    "\n",
    "<b>Ví dụ:</b>\n",
    "\n",
    "<b>Nhập:</b>\n",
    "- a = 125785\n",
    "- b = 5\n",
    "\n",
    "<b>Kết quả:</b> 3 (do số 5 nằm ở vị trí 3)"
   ]
  },
  {
   "cell_type": "code",
   "execution_count": null,
   "id": "9edf35ac",
   "metadata": {},
   "outputs": [],
   "source": []
  }
 ],
 "metadata": {
  "kernelspec": {
   "display_name": "Python 3 (ipykernel)",
   "language": "python",
   "name": "python3"
  },
  "language_info": {
   "codemirror_mode": {
    "name": "ipython",
    "version": 3
   },
   "file_extension": ".py",
   "mimetype": "text/x-python",
   "name": "python",
   "nbconvert_exporter": "python",
   "pygments_lexer": "ipython3",
   "version": "3.10.4"
  }
 },
 "nbformat": 4,
 "nbformat_minor": 5
}
