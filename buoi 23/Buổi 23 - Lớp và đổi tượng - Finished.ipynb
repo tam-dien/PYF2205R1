{
 "cells": [
  {
   "cell_type": "markdown",
   "id": "1c805421",
   "metadata": {},
   "source": [
    "# Lớp và đối tượng\n",
    "\n",
    "### Lớp (class) là gì?\n",
    "\n",
    "Lớp (Class) là tập hợp tất cả các đối tượng có chung các thuộc tính và hành vi."
   ]
  },
  {
   "cell_type": "markdown",
   "id": "812bf15e",
   "metadata": {},
   "source": [
    "### Khai báo lớp\n",
    "\n",
    "`class <tên lớp>:\n",
    "    <khai báo biến>\n",
    "    <khai báo hàm>`\n",
    "    \n",
    "Ví dụ:\n",
    "\n",
    "`class giangvien:\n",
    "    ten = \"Nguyễn Tâm Điền\"\n",
    "    mon = \"Python căn bản\"\n",
    "    def inten(self):\n",
    "        print(self.ten)        \n",
    "dien = giangvien()\n",
    "print(dien.mon)\n",
    "dien.inten()`\n",
    "\n",
    "##### Lưu ý:\n",
    "\n",
    "- giangvien là 1 lớp\n",
    "- dien là 1 đối tượng có tất cả thuộc tính (có biến ten, mon và hàm inten) của lớp giangvien\n",
    "- inten là 1 hàm trong lớp giangvien\n",
    "- dien.mon là 1 biến trong đối tượng dien\n",
    "- dien.inten() là cách để gọi hàm inten trong đối tượng dien\n",
    "\n",
    "\n",
    "<b> Hãy chạy thử đoạn lệnh ở ví dụ: </b>"
   ]
  },
  {
   "cell_type": "code",
   "execution_count": 31,
   "id": "40598ff8",
   "metadata": {},
   "outputs": [
    {
     "name": "stdout",
     "output_type": "stream",
     "text": [
      "Nguyễn Tâm Điền đang dạy!\n"
     ]
    }
   ],
   "source": [
    "class GiangVien():\n",
    "    ten = \"Nguyễn Tâm Điền\"\n",
    "    tuoi = 32\n",
    "    def day(self):\n",
    "        print(self.ten,\"đang dạy!\")\n",
    "        \n",
    "GiangVien_Dien = GiangVien()\n",
    "GiangVien_Dien.day()\n",
    "# GiangVien_Binh = GiangVien()\n",
    "# GiangVien_Binh.ten = \"Võ Thanh Bình\"\n",
    "# GiangVien_Binh.tuoi = 20\n",
    "\n",
    "# GiangVien_Dien.day()"
   ]
  },
  {
   "cell_type": "markdown",
   "id": "6c4daedf",
   "metadata": {},
   "source": [
    "<b> Hãy tạo 1 class hocvien với 1 biến và 1 def giúp in giá trị biến đó ra màn hình </b>"
   ]
  },
  {
   "cell_type": "code",
   "execution_count": 22,
   "id": "5358318d",
   "metadata": {},
   "outputs": [
    {
     "name": "stdout",
     "output_type": "stream",
     "text": [
      "Tên: Nguyễn Việt Hoàn\n",
      "Điểm số: 9\n",
      "Đạt\n",
      "Tên: Ngọc Phạm\n",
      "Điểm số: 5\n",
      "Không đạt\n"
     ]
    }
   ],
   "source": [
    "## tạo lớp HocVien với 2 thuộc tính: Tên và điểm số\n",
    "## 1 hành vi: in ra tên và điểm số của cái đối tượng đó\n",
    "## 1 hành vi: danhGiaNangLuc dùng để kiểm tra năng lực của đối tượng, nếu đối tượng có điểm > 5 thì in ra \"Đạt\"\n",
    "## ngược lại, in ra \"Không đạt\"\n",
    "class HocVien():\n",
    "    ten = \"Nguyễn Việt Hoàn\"\n",
    "    diem = 9\n",
    "    def inThongTin(self):\n",
    "        print(\"Tên:\",self.ten)\n",
    "        print(\"Điểm số:\",self.diem)\n",
    "    def danhGiaNangLuc(self):\n",
    "        if self.diem > 5:\n",
    "            print(\"Đạt\")\n",
    "        else:\n",
    "            print(\"Không đạt\")\n",
    "    def setDiem(self,diem):\n",
    "        ## nếu diem không thuộc trong khoảng từ 0 đến 10 thì diem của đối tượng không đổi\n",
    "        ## ngược lại thì thay đổi diem của đối tượng theo biến diem\n",
    "        if 0 <= diem <= 10:\n",
    "            self.diem = diem\n",
    "        \n",
    "hoan = HocVien() ## hoan là 1 đối tượng\n",
    "ngoc = HocVien()\n",
    "\n",
    "ngoc.setDiem(8)"
   ]
  },
  {
   "cell_type": "markdown",
   "id": "b2481280",
   "metadata": {},
   "source": [
    "### Tham số self\n",
    "\n",
    "Tham số self là tham số được sử dụng khi khai báo các hàm trong lớp\n",
    "\n",
    "Tham số self miêu tả chính lớp ta đang xây dựng, giúp chúng ta sử dụng được những biến và hàm của lớp đó\n",
    "\n",
    "Ví dụ:\n",
    "\n",
    "`class giangvien:\n",
    "    ten = \"Nguyễn Tâm Điền\"\n",
    "    mon = \"Python căn bản\"\n",
    "    def doiten(self,ten):\n",
    "        self.ten = ten\n",
    "    def inten(self):\n",
    "        print(self.ten)        \n",
    "dien = giangvien()\n",
    "dien.doiten(\"NTD\")\n",
    "dien.inten()`\n",
    "\n",
    "Sau khi thực hiện đoạn code trên, giá trị của biến ten trong đối tượng dien đã bị thay đổi thành \"NTD\"\n",
    "\n",
    "<b> Hãy chạy thử đoạn lệnh ở ví dụ: </b>"
   ]
  },
  {
   "cell_type": "code",
   "execution_count": null,
   "id": "fd2f5d7c",
   "metadata": {},
   "outputs": [],
   "source": []
  },
  {
   "cell_type": "markdown",
   "id": "4dfd8d1d",
   "metadata": {},
   "source": [
    "<b> Hãy thêm 1 def vào class hocvien giúp thay đổi giá trị biến bất kỳ trong class </b>"
   ]
  },
  {
   "cell_type": "code",
   "execution_count": null,
   "id": "98d911c0",
   "metadata": {},
   "outputs": [],
   "source": []
  },
  {
   "cell_type": "markdown",
   "id": "b2909dd4",
   "metadata": {},
   "source": [
    "### Hàm \\_\\_init__\n",
    "\n",
    "Hàm \\_\\_init__ là hàm khởi tạo\n",
    "\n",
    "Ví dụ:\n",
    "\n",
    "`class giangvien:\n",
    "    def __init__(self,ten,mon):\n",
    "        self.ten = ten\n",
    "        self.mon = mon\n",
    "    def doiten(self,ten):\n",
    "        self.ten = ten\n",
    "    def inten(self):\n",
    "        print(self.ten)   \n",
    "dien = giangvien(\"Điền\",\"Python căn bản\")\n",
    "thang = giangvien(\"Thắng\",\"Python siêu cấp\")\n",
    "dien.inten()\n",
    "thang.inten()`\n",
    "\n",
    "<b> Hãy chạy thử đoạn lệnh ở ví dụ: </b>"
   ]
  },
  {
   "cell_type": "code",
   "execution_count": 28,
   "id": "f15266fb",
   "metadata": {},
   "outputs": [
    {
     "name": "stdout",
     "output_type": "stream",
     "text": [
      "Tên: 20\n",
      "Tuổi: Võ Thanh Bình\n"
     ]
    }
   ],
   "source": [
    "class GiangVien():\n",
    "    def __init__(self,ten,tuoi):\n",
    "        self.ten = ten\n",
    "        self.tuoi = tuoi\n",
    "    def inThongTin(self):\n",
    "        print(\"Tên:\",self.ten)\n",
    "        print(\"Tuổi:\",self.tuoi)\n",
    "    def day(self):\n",
    "        print(self.ten,\"đang dạy!\")\n",
    "        \n",
    "GiangVien_Dien = GiangVien(\"NTD\",30)\n",
    "GiangVien_Binh = GiangVien(\"Võ Thanh Bình\",20)\n",
    "\n",
    "GiangVien_Binh.inThongTin()"
   ]
  },
  {
   "cell_type": "markdown",
   "id": "9064cc0a",
   "metadata": {},
   "source": [
    "<b> Hãy thêm 1 def \\_\\_init__ vào class hocvien để khởi tạo tên và tuổi của học viên </b>"
   ]
  },
  {
   "cell_type": "code",
   "execution_count": null,
   "id": "3e6a0dae",
   "metadata": {},
   "outputs": [],
   "source": []
  },
  {
   "cell_type": "markdown",
   "id": "d137f2f5",
   "metadata": {},
   "source": [
    "### Bài tập"
   ]
  },
  {
   "cell_type": "markdown",
   "id": "d243726c",
   "metadata": {},
   "source": [
    "Hãy xây dựng 1 class hình tròn có các thuộc tính sau:\n",
    "\n",
    "- biến x và y chứa tọa độ tâm đường tròn\n",
    "- biến r chứa bán kính đường chọn\n",
    "- hàm draw: để vẽ đường tròn"
   ]
  },
  {
   "cell_type": "code",
   "execution_count": 1,
   "id": "4121525f",
   "metadata": {},
   "outputs": [],
   "source": [
    "import turtle\n",
    "\n",
    "t = turtle.Turtle()\n",
    "\n",
    "class HinhTron:\n",
    "    def __init__(self,x,y,r):\n",
    "        self.x = x\n",
    "        self.y = y\n",
    "        self.r = r\n",
    "    def draw(self):\n",
    "        t.pu()\n",
    "        t.goto(self.x,self.y - self.r)\n",
    "        t.pd()\n",
    "        t.circle(self.r)\n",
    "        \n",
    "ht1 = HinhTron(0,0,100)\n",
    "ht2 = HinhTron(200,0,100)\n",
    "ht1.draw()\n",
    "ht2.draw()"
   ]
  },
  {
   "cell_type": "markdown",
   "id": "9017050f",
   "metadata": {},
   "source": [
    "Tạo một lớp phân số có các thuộc tính:\n",
    "\n",
    "- biến tử số và mẫu số\n",
    "- hàm cong: để cộng với một đối tượng khác có lớp phân số rồi trả về dối tượng có phân số mới\n",
    "- hàm tru: để trừ với một đối tượng khác có lớp phân số rồi trả về dối tượng có phân số mới\n",
    "- hàm nhan: để nhân với một đối tượng khác có lớp phân số rồi trả về dối tượng có phân số mới\n",
    "- hàm chia: để chia với một đối tượng khác có lớp phân số rồi trả về dối tượng có phân số mới\n",
    "- hàm toigian: để tối giản phân số rồi trả về dối tượng có phân số mới"
   ]
  },
  {
   "cell_type": "code",
   "execution_count": 12,
   "id": "2ae72d93",
   "metadata": {
    "scrolled": true
   },
   "outputs": [
    {
     "name": "stdout",
     "output_type": "stream",
     "text": [
      "6/15\n",
      "2/5\n"
     ]
    }
   ],
   "source": [
    "class PhanSo:\n",
    "    def __init__(self,tuso,mauso):\n",
    "        self.tuso = tuso\n",
    "        self.mauso = mauso\n",
    "    def inPhanSo(self):\n",
    "        print(self.tuso,\"/\",self.mauso,sep = \"\")\n",
    "    def cong(self,psA):\n",
    "        tuso_ketqua = self.tuso*psA.mauso + psA.tuso*self.mauso\n",
    "        mauso_ketqua = self.mauso*psA.mauso\n",
    "        return PhanSo(tuso_ketqua,mauso_ketqua)\n",
    "    def tru(self,psA):\n",
    "        tuso_ketqua = self.tuso*psA.mauso - psA.tuso*self.mauso\n",
    "        mauso_ketqua = self.mauso*psA.mauso\n",
    "        return PhanSo(tuso_ketqua,mauso_ketqua)\n",
    "    def nhan(self,psA):\n",
    "        tuso_ketqua = self.tuso*psA.tuso\n",
    "        mauso_ketqua = self.mauso*psA.mauso\n",
    "        return PhanSo(tuso_ketqua,mauso_ketqua)\n",
    "    def chia(self,psA):\n",
    "        tuso_ketqua = self.tuso*psA.mauso\n",
    "        mauso_ketqua = self.mauso*psA.tuso\n",
    "        return PhanSo(tuso_ketqua,mauso_ketqua)\n",
    "    def toigian(self):\n",
    "        for i in range(self.tuso,1,-1):\n",
    "            if self.tuso % i == 0 and self.mauso % i == 0:\n",
    "                tuso_toigian = self.tuso//i\n",
    "                mauso_toigian = self.mauso//i\n",
    "                return PhanSo(tuso_toigian,mauso_toigian)\n",
    "    \n",
    "ps1 = PhanSo(2,3)\n",
    "ps2 = PhanSo(3,5)\n",
    "ps3 = ps1.nhan(ps2) ## ps3 cũng là một đối tượng có lớp Phân Số\n",
    "ps3.inPhanSo()\n",
    "ps3 = ps3.toigian()\n",
    "ps3.inPhanSo()"
   ]
  },
  {
   "cell_type": "markdown",
   "id": "39a8cb80",
   "metadata": {},
   "source": [
    "Viết class NhanVien gồm các thuộc tính:\n",
    "\n",
    "<b> Các biến </b>\n",
    "\n",
    "- Tên\n",
    "- Tuổi\n",
    "- Địa chỉ\n",
    "- Tiền lương\n",
    "- Tổng số giờ làm\n",
    "\n",
    "<b> Các hàm </b>\n",
    "\n",
    "- nhap : Nhập các thông tin cho nhân viên từ bàn phím\n",
    "- in : In ra tất cả các thông tin của nhân viên\n",
    "- thuong: Tính toán và trả về số tiền thưởng của nhân viên theo công thức sau:\n",
    "\n",
    "    Nếu tổng số giờ làm của nhân viên >=200 thì thưởng = lương * 20%\n",
    "    \n",
    "    Nếu tổng số giờ làm của nhân viên <200 và >=100 thì thưởng = lương * 10%\n",
    "    \n",
    "    Nếu tổng số giờ làm của nhân viên <100 thì thưởng = 0"
   ]
  },
  {
   "cell_type": "code",
   "execution_count": null,
   "id": "26d12a44",
   "metadata": {},
   "outputs": [],
   "source": []
  }
 ],
 "metadata": {
  "kernelspec": {
   "display_name": "Python 3 (ipykernel)",
   "language": "python",
   "name": "python3"
  },
  "language_info": {
   "codemirror_mode": {
    "name": "ipython",
    "version": 3
   },
   "file_extension": ".py",
   "mimetype": "text/x-python",
   "name": "python",
   "nbconvert_exporter": "python",
   "pygments_lexer": "ipython3",
   "version": "3.10.4"
  }
 },
 "nbformat": 4,
 "nbformat_minor": 5
}
