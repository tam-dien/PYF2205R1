{
 "cells": [
  {
   "cell_type": "markdown",
   "id": "fad0ff18",
   "metadata": {},
   "source": [
    "# List\n",
    "\n",
    "### Đặt vấn đề\n",
    "\n",
    "Nếu như ta có một lượng dữ liệu không biết trước được số lượng cần lưu vào biến, ta không thể lưu bằng cách thông thường\n",
    "\n",
    "Lấy ví dụ:\n",
    "\n",
    "Nhập vào số n, sau đó nhập tiếp n số và lưu trữ n số đó vào biến\n",
    "\n",
    "Vậy ta hoàn toàn không biết được người dùng sẽ nhập bao nhiêu số để lưu trữ\n",
    "\n",
    "Lúc này ta cần đến List\n",
    "\n",
    "List giúp chúng ta lưu nhiều giá trị cùng 1 lúc, nhưng chỉ cần đặt tên cho nó lần\n",
    "\n",
    "##### Tài liệu tham khảo: https://www.w3schools.com/python/python_lists.asp"
   ]
  },
  {
   "cell_type": "markdown",
   "id": "4ca9e91e",
   "metadata": {},
   "source": [
    "### Cách thức khai báo List\n",
    "\n",
    "Cú pháp:\n",
    "\n",
    "`<tên list> = []`\n",
    "\n",
    "##### List được khai báo bằng 2 dấu ngoặc vuông\n",
    "\n",
    "<b> Ví dụ 1: </b>\n",
    "\n",
    "`a = []`\n",
    "\n",
    "a là một list, không có bất kỳ phần tử nào trong đó\n",
    "\n",
    "<b> Ví dụ 2: </b>\n",
    "\n",
    "`b = [1,2,3]`\n",
    "\n",
    "##### Các phần tử trong list được khai báo, mỗi phần tử cách nhau một dấu phẩy\n",
    "\n",
    "b là một list có 3 phần tử\n",
    "\n",
    "<b> Ví dụ 3: </b>\n",
    "\n",
    "`c = [\"abc\",5,1.5]`\n",
    "\n",
    "##### Các phần tử trong list có thể có những kiểu dữ liệu khác nhau\n",
    "\n",
    "c là một list có 3 phần tử, phần tử thứ nhất có kiểu dữ liệu là chuỗi, phần tử thứ hai có kiểu dữ liệu là số nguyên và phần tử cuối cùng có kiểu dữ liệu là số thực\n",
    "\n",
    "<b> Hãy khai báo một list xong rồi in list đó lên màn hình </b>"
   ]
  },
  {
   "cell_type": "code",
   "execution_count": 1,
   "id": "c2f37351",
   "metadata": {},
   "outputs": [
    {
     "name": "stdout",
     "output_type": "stream",
     "text": [
      "['abc', 5, 1.5]\n"
     ]
    }
   ],
   "source": [
    "c = [\"abc\",5,1.5]\n",
    "print(c)"
   ]
  },
  {
   "cell_type": "code",
   "execution_count": 5,
   "id": "4df91d69",
   "metadata": {},
   "outputs": [
    {
     "name": "stdout",
     "output_type": "stream",
     "text": [
      "1\n",
      "1\n",
      "['1', 1]\n"
     ]
    }
   ],
   "source": [
    "chuoi = \"1\"\n",
    "songuyen = 1\n",
    "L = ['1',1]\n",
    "print(chuoi)\n",
    "print(songuyen)\n",
    "print(L)"
   ]
  },
  {
   "cell_type": "markdown",
   "id": "be8e19b0",
   "metadata": {},
   "source": [
    "### Truy xuất phần tử trong List\n",
    "\n",
    "Giống như chuỗi, các phần tử trong list được truy xuất theo cú pháp:\n",
    "\n",
    "`<tên list>[<vị trí của phần tử>]`\n",
    "\n",
    "<b> Ví dụ 1: </b>\n",
    "\n",
    "`a = [1,4,6]\n",
    "print(a[1])`\n",
    "\n",
    "Màn hình sẽ in ra 4\n",
    "\n",
    "<b> Hãy khai báo một list có một chuỗi và một số rồi in chuỗi trong list đó ra màn hình </b>"
   ]
  },
  {
   "cell_type": "code",
   "execution_count": 8,
   "id": "bb3f9141",
   "metadata": {},
   "outputs": [
    {
     "name": "stdout",
     "output_type": "stream",
     "text": [
      "6\n"
     ]
    }
   ],
   "source": [
    "L = [1,4,6]\n",
    "print(L[-1])"
   ]
  },
  {
   "cell_type": "code",
   "execution_count": 10,
   "id": "ad2566fd",
   "metadata": {},
   "outputs": [
    {
     "name": "stdout",
     "output_type": "stream",
     "text": [
      "b\n"
     ]
    }
   ],
   "source": [
    "L = ['abc',4,5.2]\n",
    "print(L[0][1]) ## [0] là truy xuất vào phần tử của list, [1] truy xuất vào ký tự của chuỗi"
   ]
  },
  {
   "cell_type": "markdown",
   "id": "ad61e236",
   "metadata": {},
   "source": [
    "### Thêm phần tử vào List\n",
    "\n",
    "Cú pháp:\n",
    "\n",
    "`<tên list>.append()`\n",
    "\n",
    "<b>Ví dụ:</b>\n",
    "\n",
    "`a = []\n",
    "a.append(5)`\n",
    "\n",
    "a sẽ có 1 phần tử là 5\n",
    "\n",
    "<b> Hãy khai báo một list rỗng, rồi thêm 2 phần tử bất kỳ vào list đó, sau đó in list đó ra</b>"
   ]
  },
  {
   "cell_type": "code",
   "execution_count": 12,
   "id": "5823ddca",
   "metadata": {},
   "outputs": [
    {
     "name": "stdout",
     "output_type": "stream",
     "text": [
      "[5]\n"
     ]
    }
   ],
   "source": [
    "L = []\n",
    "L.append(5)\n",
    "print(L)"
   ]
  },
  {
   "cell_type": "code",
   "execution_count": 13,
   "id": "04761ecc",
   "metadata": {},
   "outputs": [
    {
     "ename": "IndexError",
     "evalue": "list index out of range",
     "output_type": "error",
     "traceback": [
      "\u001b[1;31m---------------------------------------------------------------------------\u001b[0m",
      "\u001b[1;31mIndexError\u001b[0m                                Traceback (most recent call last)",
      "\u001b[1;32m~\\AppData\\Local\\Temp/ipykernel_1540/2966809956.py\u001b[0m in \u001b[0;36m<module>\u001b[1;34m\u001b[0m\n\u001b[0;32m      1\u001b[0m \u001b[0mL\u001b[0m \u001b[1;33m=\u001b[0m \u001b[1;33m[\u001b[0m\u001b[1;36m1\u001b[0m\u001b[1;33m,\u001b[0m\u001b[1;36m2\u001b[0m\u001b[1;33m,\u001b[0m\u001b[1;36m3\u001b[0m\u001b[1;33m]\u001b[0m\u001b[1;33m\u001b[0m\u001b[1;33m\u001b[0m\u001b[0m\n\u001b[1;32m----> 2\u001b[1;33m \u001b[0mprint\u001b[0m\u001b[1;33m(\u001b[0m\u001b[0mL\u001b[0m\u001b[1;33m[\u001b[0m\u001b[1;36m3\u001b[0m\u001b[1;33m]\u001b[0m\u001b[1;33m)\u001b[0m\u001b[1;33m\u001b[0m\u001b[1;33m\u001b[0m\u001b[0m\n\u001b[0m",
      "\u001b[1;31mIndexError\u001b[0m: list index out of range"
     ]
    }
   ],
   "source": [
    "L = [1,2,3]\n",
    "print(L[3])"
   ]
  },
  {
   "cell_type": "code",
   "execution_count": 14,
   "id": "1de75363",
   "metadata": {},
   "outputs": [
    {
     "name": "stdout",
     "output_type": "stream",
     "text": [
      "hello\n"
     ]
    }
   ],
   "source": [
    "L = [1,2,3]\n",
    "L.append(\"hello\")\n",
    "## sau khi append thì L = [1,2,3,\"hello\"]\n",
    "print(L[3])"
   ]
  },
  {
   "cell_type": "markdown",
   "id": "8c92d3d3",
   "metadata": {},
   "source": [
    "### Thay đổi giá trị của List\n",
    "\n",
    "Cú pháp:\n",
    "\n",
    "`<tên list>[<vị trí của phần tử>] = <giá trị mới>`\n",
    "\n",
    "<b> Hãy khai báo một list bất kỳ, rồi thay đổi 1 phần tử trong nó, sau đó in list đó ra</b>"
   ]
  },
  {
   "cell_type": "code",
   "execution_count": 15,
   "id": "13c61075",
   "metadata": {},
   "outputs": [
    {
     "name": "stdout",
     "output_type": "stream",
     "text": [
      "[5, 2, 3]\n"
     ]
    }
   ],
   "source": [
    "L = [1,2,3]\n",
    "L[0] = 5\n",
    "print(L)"
   ]
  },
  {
   "cell_type": "code",
   "execution_count": 16,
   "id": "fd3c9765",
   "metadata": {},
   "outputs": [
    {
     "ename": "IndexError",
     "evalue": "list assignment index out of range",
     "output_type": "error",
     "traceback": [
      "\u001b[1;31m---------------------------------------------------------------------------\u001b[0m",
      "\u001b[1;31mIndexError\u001b[0m                                Traceback (most recent call last)",
      "\u001b[1;32m~\\AppData\\Local\\Temp/ipykernel_1540/3360751343.py\u001b[0m in \u001b[0;36m<module>\u001b[1;34m\u001b[0m\n\u001b[0;32m      1\u001b[0m \u001b[0mL\u001b[0m \u001b[1;33m=\u001b[0m \u001b[1;33m[\u001b[0m\u001b[1;36m1\u001b[0m\u001b[1;33m,\u001b[0m\u001b[1;36m2\u001b[0m\u001b[1;33m,\u001b[0m\u001b[1;36m3\u001b[0m\u001b[1;33m]\u001b[0m\u001b[1;33m\u001b[0m\u001b[1;33m\u001b[0m\u001b[0m\n\u001b[1;32m----> 2\u001b[1;33m \u001b[0mL\u001b[0m\u001b[1;33m[\u001b[0m\u001b[1;36m3\u001b[0m\u001b[1;33m]\u001b[0m \u001b[1;33m=\u001b[0m \u001b[1;36m5\u001b[0m\u001b[1;33m\u001b[0m\u001b[1;33m\u001b[0m\u001b[0m\n\u001b[0m\u001b[0;32m      3\u001b[0m \u001b[0mprint\u001b[0m\u001b[1;33m(\u001b[0m\u001b[0mL\u001b[0m\u001b[1;33m)\u001b[0m\u001b[1;33m\u001b[0m\u001b[1;33m\u001b[0m\u001b[0m\n",
      "\u001b[1;31mIndexError\u001b[0m: list assignment index out of range"
     ]
    }
   ],
   "source": [
    "L = [1,2,3]\n",
    "L[3] = 5\n",
    "print(L)"
   ]
  },
  {
   "cell_type": "code",
   "execution_count": 17,
   "id": "24c16820",
   "metadata": {},
   "outputs": [
    {
     "name": "stdout",
     "output_type": "stream",
     "text": [
      "[1, 2, 3, 5]\n"
     ]
    }
   ],
   "source": [
    "L = [1,2,3]\n",
    "L.append(10)\n",
    "## sau khi append thì L = [1,2,3,10]\n",
    "L[3] = 5\n",
    "print(L)"
   ]
  },
  {
   "cell_type": "code",
   "execution_count": 19,
   "id": "2e92b227",
   "metadata": {},
   "outputs": [
    {
     "ename": "TypeError",
     "evalue": "'str' object does not support item assignment",
     "output_type": "error",
     "traceback": [
      "\u001b[1;31m---------------------------------------------------------------------------\u001b[0m",
      "\u001b[1;31mTypeError\u001b[0m                                 Traceback (most recent call last)",
      "\u001b[1;32m~\\AppData\\Local\\Temp/ipykernel_1540/2931720772.py\u001b[0m in \u001b[0;36m<module>\u001b[1;34m\u001b[0m\n\u001b[0;32m      1\u001b[0m \u001b[0mchuoi\u001b[0m \u001b[1;33m=\u001b[0m \u001b[1;34m\"abc\"\u001b[0m\u001b[1;33m\u001b[0m\u001b[1;33m\u001b[0m\u001b[0m\n\u001b[1;32m----> 2\u001b[1;33m \u001b[0mchuoi\u001b[0m\u001b[1;33m[\u001b[0m\u001b[1;36m1\u001b[0m\u001b[1;33m]\u001b[0m \u001b[1;33m=\u001b[0m \u001b[1;34m\"d\"\u001b[0m\u001b[1;33m\u001b[0m\u001b[1;33m\u001b[0m\u001b[0m\n\u001b[0m\u001b[0;32m      3\u001b[0m \u001b[0mprint\u001b[0m\u001b[1;33m(\u001b[0m\u001b[0mchuoi\u001b[0m\u001b[1;33m[\u001b[0m\u001b[1;36m1\u001b[0m\u001b[1;33m]\u001b[0m\u001b[1;33m)\u001b[0m\u001b[1;33m\u001b[0m\u001b[1;33m\u001b[0m\u001b[0m\n",
      "\u001b[1;31mTypeError\u001b[0m: 'str' object does not support item assignment"
     ]
    }
   ],
   "source": [
    "chuoi = \"abc\"\n",
    "chuoi[1] = \"d\" ## chuỗi không thay đổi theo như list được\n",
    "print(chuoi[1])"
   ]
  },
  {
   "cell_type": "markdown",
   "id": "ce14eefe",
   "metadata": {},
   "source": [
    "### Xóa 1 phần tử trong list\n",
    "\n",
    "#### Lệnh remove()\n",
    "\n",
    "Cú pháp:\n",
    "\n",
    "`<tên list>.remove(<giá trị cần xóa>)`\n",
    "\n",
    "<b>Ví dụ:</b>\n",
    "\n",
    "`a = [\"hi\",3,\"hello\",4]\n",
    "a.remove(\"hi\")`\n",
    "\n",
    "Sau khi thực hiện lệnh trên, a chỉ còn [3,\"hello\",4]\n",
    "\n",
    "<b> Hãy khai báo một list bất kỳ, rồi xóa 1 phần tử trong nó bằng lệnh remove(), sau đó in list đó ra</b>"
   ]
  },
  {
   "cell_type": "code",
   "execution_count": 20,
   "id": "f79402ad",
   "metadata": {
    "scrolled": true
   },
   "outputs": [
    {
     "name": "stdout",
     "output_type": "stream",
     "text": [
      "[1, 3]\n"
     ]
    }
   ],
   "source": [
    "L = [1,2,3]\n",
    "L.remove(2)\n",
    "print(L)"
   ]
  },
  {
   "cell_type": "code",
   "execution_count": 21,
   "id": "2996857f",
   "metadata": {},
   "outputs": [
    {
     "name": "stdout",
     "output_type": "stream",
     "text": [
      "[1, 3, 2]\n"
     ]
    }
   ],
   "source": [
    "L = [1,2,3,2]\n",
    "L.remove(2) ## lệnh remove chỉ xóa 1 phần tử, và nó sẽ xóa đi phần tử nằm bên trái\n",
    "print(L)"
   ]
  },
  {
   "cell_type": "code",
   "execution_count": 22,
   "id": "17e44540",
   "metadata": {},
   "outputs": [
    {
     "ename": "ValueError",
     "evalue": "list.remove(x): x not in list",
     "output_type": "error",
     "traceback": [
      "\u001b[1;31m---------------------------------------------------------------------------\u001b[0m",
      "\u001b[1;31mValueError\u001b[0m                                Traceback (most recent call last)",
      "\u001b[1;32m~\\AppData\\Local\\Temp/ipykernel_1540/3369970334.py\u001b[0m in \u001b[0;36m<module>\u001b[1;34m\u001b[0m\n\u001b[0;32m      1\u001b[0m \u001b[0mL\u001b[0m \u001b[1;33m=\u001b[0m \u001b[1;33m[\u001b[0m\u001b[1;36m1\u001b[0m\u001b[1;33m,\u001b[0m\u001b[1;36m2\u001b[0m\u001b[1;33m,\u001b[0m\u001b[1;36m3\u001b[0m\u001b[1;33m]\u001b[0m\u001b[1;33m\u001b[0m\u001b[1;33m\u001b[0m\u001b[0m\n\u001b[0;32m      2\u001b[0m \u001b[0mL\u001b[0m\u001b[1;33m.\u001b[0m\u001b[0mremove\u001b[0m\u001b[1;33m(\u001b[0m\u001b[1;36m2\u001b[0m\u001b[1;33m)\u001b[0m\u001b[1;33m\u001b[0m\u001b[1;33m\u001b[0m\u001b[0m\n\u001b[1;32m----> 3\u001b[1;33m \u001b[0mL\u001b[0m\u001b[1;33m.\u001b[0m\u001b[0mremove\u001b[0m\u001b[1;33m(\u001b[0m\u001b[1;36m2\u001b[0m\u001b[1;33m)\u001b[0m\u001b[1;33m\u001b[0m\u001b[1;33m\u001b[0m\u001b[0m\n\u001b[0m\u001b[0;32m      4\u001b[0m \u001b[0mprint\u001b[0m\u001b[1;33m(\u001b[0m\u001b[0mL\u001b[0m\u001b[1;33m)\u001b[0m\u001b[1;33m\u001b[0m\u001b[1;33m\u001b[0m\u001b[0m\n",
      "\u001b[1;31mValueError\u001b[0m: list.remove(x): x not in list"
     ]
    }
   ],
   "source": [
    "L = [1,2,3]\n",
    "L.remove(2) ## sau khi xóa thì list L = [1,3] (không có số 2)\n",
    "L.remove(2) ## báo lỗi ở dòng này vì lúc này list L không có số 2 để mà xóa\n",
    "print(L)"
   ]
  },
  {
   "cell_type": "code",
   "execution_count": 24,
   "id": "ba85eda5",
   "metadata": {},
   "outputs": [
    {
     "name": "stdout",
     "output_type": "stream",
     "text": [
      "[1, 3]\n"
     ]
    }
   ],
   "source": [
    "L = [1,2,3,2]\n",
    "L.remove(2) ## xóa số 2 thứ nhất\n",
    "L.remove(2) ## xóa số 2 thứ hai\n",
    "print(L)"
   ]
  },
  {
   "cell_type": "code",
   "execution_count": 25,
   "id": "30a645e5",
   "metadata": {},
   "outputs": [
    {
     "name": "stdout",
     "output_type": "stream",
     "text": [
      "[1, 2, 3, 5, 4]\n"
     ]
    }
   ],
   "source": [
    "L = [1,2,3,5,4]\n",
    "if 6 in L: ## kiểm tra coi 6 có trong list hay không\n",
    "    L.remove(6)\n",
    "print(L)"
   ]
  },
  {
   "cell_type": "code",
   "execution_count": 26,
   "id": "3bd69897",
   "metadata": {
    "scrolled": true
   },
   "outputs": [
    {
     "name": "stdout",
     "output_type": "stream",
     "text": [
      "[1, 2, 3, 5, 4]\n"
     ]
    }
   ],
   "source": [
    "L = [1,2,6,3,5,4]\n",
    "if 6 in L: ## kiểm tra coi 6 có trong list hay không\n",
    "    L.remove(6)\n",
    "print(L)"
   ]
  },
  {
   "cell_type": "code",
   "execution_count": 29,
   "id": "2bcaea2e",
   "metadata": {},
   "outputs": [
    {
     "name": "stdout",
     "output_type": "stream",
     "text": [
      "[6, 9]\n"
     ]
    }
   ],
   "source": [
    "## cho một list bất kỳ, xóa toàn bộ số từ 1 đến 5 trong list\n",
    "L = [2,4,5,6,9,1,1,2,3]\n",
    "for i in range (1,6):\n",
    "    while i in L:\n",
    "        L.remove(i)\n",
    "print(L)\n"
   ]
  },
  {
   "cell_type": "markdown",
   "id": "ec66c5cc",
   "metadata": {},
   "source": [
    "#### Lệnh pop()\n",
    "\n",
    "Cú pháp:\n",
    "\n",
    "`<tên list>.pop(<vị trí cần xóa>)`\n",
    "\n",
    "<b>Ví dụ:</b>\n",
    "\n",
    "`a = [\"hi\",3,\"hello\",4]\n",
    "a.pop(3)`\n",
    "\n",
    "Sau khi thực hiện lệnh trên, a chỉ còn [\"hi\",3,\"hello\"]\n",
    "\n",
    "<b> Hãy khai báo một list bất kỳ, rồi xóa 1 phần tử trong nó bằng lệnh pop(), sau đó in list đó ra</b>"
   ]
  },
  {
   "cell_type": "code",
   "execution_count": 30,
   "id": "eeaa0766",
   "metadata": {},
   "outputs": [
    {
     "name": "stdout",
     "output_type": "stream",
     "text": [
      "['hi', 3, 'hello']\n"
     ]
    }
   ],
   "source": [
    "L = [\"hi\",3,\"hello\",4]\n",
    "L.pop(3)\n",
    "print(L)"
   ]
  },
  {
   "cell_type": "code",
   "execution_count": 31,
   "id": "58901cb9",
   "metadata": {
    "scrolled": true
   },
   "outputs": [
    {
     "ename": "IndexError",
     "evalue": "pop index out of range",
     "output_type": "error",
     "traceback": [
      "\u001b[1;31m---------------------------------------------------------------------------\u001b[0m",
      "\u001b[1;31mIndexError\u001b[0m                                Traceback (most recent call last)",
      "\u001b[1;32m~\\AppData\\Local\\Temp/ipykernel_1540/2916715731.py\u001b[0m in \u001b[0;36m<module>\u001b[1;34m\u001b[0m\n\u001b[0;32m      1\u001b[0m \u001b[0mL\u001b[0m \u001b[1;33m=\u001b[0m \u001b[1;33m[\u001b[0m\u001b[1;34m\"hi\"\u001b[0m\u001b[1;33m,\u001b[0m\u001b[1;36m3\u001b[0m\u001b[1;33m,\u001b[0m\u001b[1;34m\"hello\"\u001b[0m\u001b[1;33m,\u001b[0m\u001b[1;36m4\u001b[0m\u001b[1;33m]\u001b[0m\u001b[1;33m\u001b[0m\u001b[1;33m\u001b[0m\u001b[0m\n\u001b[0;32m      2\u001b[0m \u001b[0mL\u001b[0m\u001b[1;33m.\u001b[0m\u001b[0mpop\u001b[0m\u001b[1;33m(\u001b[0m\u001b[1;36m3\u001b[0m\u001b[1;33m)\u001b[0m\u001b[1;33m\u001b[0m\u001b[1;33m\u001b[0m\u001b[0m\n\u001b[1;32m----> 3\u001b[1;33m \u001b[0mL\u001b[0m\u001b[1;33m.\u001b[0m\u001b[0mpop\u001b[0m\u001b[1;33m(\u001b[0m\u001b[1;36m3\u001b[0m\u001b[1;33m)\u001b[0m\u001b[1;33m\u001b[0m\u001b[1;33m\u001b[0m\u001b[0m\n\u001b[0m\u001b[0;32m      4\u001b[0m \u001b[0mprint\u001b[0m\u001b[1;33m(\u001b[0m\u001b[0mL\u001b[0m\u001b[1;33m)\u001b[0m\u001b[1;33m\u001b[0m\u001b[1;33m\u001b[0m\u001b[0m\n",
      "\u001b[1;31mIndexError\u001b[0m: pop index out of range"
     ]
    }
   ],
   "source": [
    "L = [\"hi\",3,\"hello\",4]\n",
    "L.pop(3) ## sau khi xóa list L = ['hi', 3, 'hello'] (không còn phần tử ở vị trí 3)\n",
    "L.pop(3) ## do không có phần tử ở vị trí 3 nên chương trình báo lỗi\n",
    "print(L)"
   ]
  },
  {
   "cell_type": "code",
   "execution_count": 32,
   "id": "a42b1c61",
   "metadata": {},
   "outputs": [
    {
     "name": "stdout",
     "output_type": "stream",
     "text": [
      "['hi', 3]\n"
     ]
    }
   ],
   "source": [
    "L = [\"hi\",3,\"hello\",4]\n",
    "L.pop(2) ## xóa lần dầu thì list L = [\"hi\",3,4] (lúc này, 4 nằm ở vị trí 2)\n",
    "L.pop(2) ## xóa lần 2 thì sẽ xóa số 4\n",
    "print(L)"
   ]
  },
  {
   "cell_type": "code",
   "execution_count": 33,
   "id": "a4366732",
   "metadata": {},
   "outputs": [
    {
     "ename": "IndexError",
     "evalue": "pop index out of range",
     "output_type": "error",
     "traceback": [
      "\u001b[1;31m---------------------------------------------------------------------------\u001b[0m",
      "\u001b[1;31mIndexError\u001b[0m                                Traceback (most recent call last)",
      "\u001b[1;32m~\\AppData\\Local\\Temp/ipykernel_1540/823479672.py\u001b[0m in \u001b[0;36m<module>\u001b[1;34m\u001b[0m\n\u001b[0;32m      1\u001b[0m \u001b[0mL\u001b[0m \u001b[1;33m=\u001b[0m \u001b[1;33m[\u001b[0m\u001b[1;34m\"hi\"\u001b[0m\u001b[1;33m,\u001b[0m\u001b[1;36m3\u001b[0m\u001b[1;33m,\u001b[0m\u001b[1;34m\"hello\"\u001b[0m\u001b[1;33m,\u001b[0m\u001b[1;36m4\u001b[0m\u001b[1;33m]\u001b[0m\u001b[1;33m\u001b[0m\u001b[1;33m\u001b[0m\u001b[0m\n\u001b[0;32m      2\u001b[0m \u001b[0mL\u001b[0m\u001b[1;33m.\u001b[0m\u001b[0mpop\u001b[0m\u001b[1;33m(\u001b[0m\u001b[1;36m2\u001b[0m\u001b[1;33m)\u001b[0m \u001b[1;31m## xóa lần dầu thì list L = [\"hi\",3,4] (lúc này không còn phần tử ở vị trí 3 nữa)\u001b[0m\u001b[1;33m\u001b[0m\u001b[1;33m\u001b[0m\u001b[0m\n\u001b[1;32m----> 3\u001b[1;33m \u001b[0mL\u001b[0m\u001b[1;33m.\u001b[0m\u001b[0mpop\u001b[0m\u001b[1;33m(\u001b[0m\u001b[1;36m3\u001b[0m\u001b[1;33m)\u001b[0m \u001b[1;31m## xóa phần tử ở vị trí 3 sẽ gây ra lỗi do không có phần tử ở vị trí 3\u001b[0m\u001b[1;33m\u001b[0m\u001b[1;33m\u001b[0m\u001b[0m\n\u001b[0m\u001b[0;32m      4\u001b[0m \u001b[0mprint\u001b[0m\u001b[1;33m(\u001b[0m\u001b[0mL\u001b[0m\u001b[1;33m)\u001b[0m\u001b[1;33m\u001b[0m\u001b[1;33m\u001b[0m\u001b[0m\n",
      "\u001b[1;31mIndexError\u001b[0m: pop index out of range"
     ]
    }
   ],
   "source": [
    "L = [\"hi\",3,\"hello\",4]\n",
    "L.pop(2) ## xóa lần dầu thì list L = [\"hi\",3,4] (lúc này không còn phần tử ở vị trí 3 nữa)\n",
    "L.pop(3) ## xóa phần tử ở vị trí 3 sẽ gây ra lỗi do không có phần tử ở vị trí 3\n",
    "print(L)"
   ]
  },
  {
   "cell_type": "code",
   "execution_count": 35,
   "id": "43528f75",
   "metadata": {},
   "outputs": [
    {
     "name": "stdout",
     "output_type": "stream",
     "text": [
      "['hi', 3, 'helo', 4]\n"
     ]
    }
   ],
   "source": [
    "L = [\"hi\",3,\"hello\",4]\n",
    "## thứ nhất phải nhớ lại cách để mình xóa ký tự trong chuỗi\n",
    "## muốn xóa 1 ký tự trong chuỗi thì ta phải xài cách chuoi = chuoi[:vitri] + chuoi[vitri+1:]\n",
    "L[2] = L[2][:2] + L[2][2+1:]\n",
    "print(L)"
   ]
  },
  {
   "cell_type": "markdown",
   "id": "96daac1c",
   "metadata": {},
   "source": [
    "### Sao chép list\n",
    "\n",
    "###### Lưu ý: Nếu ta có list a, ta thực hiện lệnh b = a, list b sẽ bị ảnh hưởng khi list a có sự thay đổi\n",
    "\n",
    "<b> Ví dụ: </b>\n",
    "\n",
    "`a = [5,7,1]\n",
    "b = a\n",
    "a.remove(5)`\n",
    "\n",
    "Khi thực hiện 3 lệnh trên, b sẽ bằng [7,1], dù cho ta thực hiện lệnh `b = a` trước `a.remove(5)`\n",
    "\n",
    "<b> Kiểm chứng sự ảnh hưởng khi gán list </b>"
   ]
  },
  {
   "cell_type": "code",
   "execution_count": 37,
   "id": "1dbdf54b",
   "metadata": {},
   "outputs": [
    {
     "name": "stdout",
     "output_type": "stream",
     "text": [
      "[7, 1, 10]\n",
      "[7, 1, 10]\n"
     ]
    }
   ],
   "source": [
    "a = [5,7,1]\n",
    "b = a ## khi mình khai báo như thế này, ta không có tạo thêm list b\n",
    "a.remove(5)\n",
    "b.append(10)\n",
    "print(a)\n",
    "print(b)"
   ]
  },
  {
   "cell_type": "markdown",
   "id": "c9c51aad",
   "metadata": {},
   "source": [
    "### Lệnh copy()\n",
    "\n",
    "Cú pháp:\n",
    "\n",
    "`<tên list>.copy()`\n",
    "\n",
    "##### Dùng lệnh copy sẽ khắc phục được vấn đề gán list a cho b\n",
    "\n",
    "<b> Ví dụ: </b>\n",
    "\n",
    "`a = [5,7,1]\n",
    "b = a.copy()\n",
    "a.remove(5)`\n",
    "\n",
    "Khi thực hiện 3 lệnh trên, b vẫn sẽ bằng [5,7,1]\n",
    "\n",
    "Lúc này, b sẽ là một list mới độc lập hoàn toàn với a\n",
    "\n",
    "<b> Khai báo list a, dùng lệnh copy cho list b, rồi thêm phần tử vào list a, sau đó in cả 2 list lên màn hình</b>"
   ]
  },
  {
   "cell_type": "code",
   "execution_count": 38,
   "id": "46759662",
   "metadata": {},
   "outputs": [
    {
     "name": "stdout",
     "output_type": "stream",
     "text": [
      "[7, 1]\n",
      "[5, 7, 1, 10]\n"
     ]
    }
   ],
   "source": [
    "a = [5,7,1]\n",
    "b = a.copy()\n",
    "a.remove(5)\n",
    "b.append(10)\n",
    "print(a)\n",
    "print(b)"
   ]
  },
  {
   "cell_type": "code",
   "execution_count": 40,
   "id": "b6266eb7",
   "metadata": {},
   "outputs": [
    {
     "name": "stdout",
     "output_type": "stream",
     "text": [
      "[]\n"
     ]
    }
   ],
   "source": [
    "a = [5,7,1]\n",
    "a = []\n",
    "print(a)"
   ]
  },
  {
   "cell_type": "code",
   "execution_count": 41,
   "id": "4bb38493",
   "metadata": {},
   "outputs": [
    {
     "name": "stdout",
     "output_type": "stream",
     "text": [
      "[]\n"
     ]
    }
   ],
   "source": [
    "a = [5,7,1]\n",
    "a.clear()\n",
    "print(a)"
   ]
  },
  {
   "cell_type": "code",
   "execution_count": 42,
   "id": "0938e795",
   "metadata": {},
   "outputs": [
    {
     "name": "stdout",
     "output_type": "stream",
     "text": [
      "[]\n",
      "[5, 7, 1]\n"
     ]
    }
   ],
   "source": [
    "a = [5,7,1]\n",
    "b = a\n",
    "a = []\n",
    "print(a)\n",
    "print(b)"
   ]
  },
  {
   "cell_type": "code",
   "execution_count": 43,
   "id": "6508a448",
   "metadata": {},
   "outputs": [
    {
     "name": "stdout",
     "output_type": "stream",
     "text": [
      "[]\n",
      "[]\n"
     ]
    }
   ],
   "source": [
    "a = [5,7,1]\n",
    "b = a\n",
    "a.clear()\n",
    "print(a)\n",
    "print(b)"
   ]
  },
  {
   "cell_type": "code",
   "execution_count": 44,
   "id": "f0311bde",
   "metadata": {},
   "outputs": [
    {
     "name": "stdout",
     "output_type": "stream",
     "text": [
      "[5, 7]\n"
     ]
    }
   ],
   "source": [
    "a = [5,7,1]\n",
    "b = a[:-1]\n",
    "print(b)"
   ]
  },
  {
   "cell_type": "code",
   "execution_count": 46,
   "id": "e1b7449c",
   "metadata": {},
   "outputs": [
    {
     "name": "stdout",
     "output_type": "stream",
     "text": [
      "[5, 7, 1, 5]\n",
      "[5, 1]\n"
     ]
    }
   ],
   "source": [
    "a = [5,7,1]\n",
    "b = a[:] ## cũng tạo ra lu (list) mới\n",
    "a.append(5)\n",
    "b.remove(7)\n",
    "print(a)\n",
    "print(b)"
   ]
  },
  {
   "cell_type": "code",
   "execution_count": 47,
   "id": "bcbfa9fa",
   "metadata": {},
   "outputs": [
    {
     "name": "stdout",
     "output_type": "stream",
     "text": [
      "['hello', 1]\n"
     ]
    }
   ],
   "source": [
    "a = [5,\"hello\",1,\"hi\"]\n",
    "b = a[1:3]\n",
    "print(b)"
   ]
  },
  {
   "cell_type": "markdown",
   "id": "d8f470e0",
   "metadata": {},
   "source": [
    "### Lệnh len()\n",
    "\n",
    "Tương tự như chuỗi, ta có thể dùng lệnh len cho list để trả về số lượng của list\n",
    "\n",
    "<b> Ví dụ:</b>\n",
    "\n",
    "`a = [3,\"Hello\",5,\"hi\"]\n",
    "b = len(a)`\n",
    "\n",
    "Giá trị của b là 4\n",
    "\n",
    "<b> Khai báo list a, in lên độ dài của list a </b>"
   ]
  },
  {
   "cell_type": "code",
   "execution_count": 49,
   "id": "dfbcf0db",
   "metadata": {},
   "outputs": [
    {
     "name": "stdout",
     "output_type": "stream",
     "text": [
      "4\n"
     ]
    }
   ],
   "source": [
    "a = [3,\"Hello\",5,\"hi\"]\n",
    "b = len(a)\n",
    "print(b)"
   ]
  },
  {
   "cell_type": "code",
   "execution_count": 50,
   "id": "136afbc2",
   "metadata": {
    "scrolled": true
   },
   "outputs": [
    {
     "name": "stdout",
     "output_type": "stream",
     "text": [
      "['hello', 'hi', 'xin chào', 'xin chào', 'xin chào']\n",
      "5\n"
     ]
    }
   ],
   "source": [
    "a = [\"hello\",\"hi\"]\n",
    "for i in range(1,10): ## i sẽ từ 1 ~~> 9\n",
    "    if i % 3 != 0: ## if đúng khi i = 1,2,4,5,7,8 ~~> 6 lần\n",
    "        a.append(\"xin chào\") ## thêm 6 lần\n",
    "    else: ## if sai khi i = 3,6,9 ~~> 3 lần\n",
    "        a.remove(\"xin chào\") ## xóa 3 lần\n",
    "    ## tổng cộng là thêm 3 lần\n",
    "print(a) \n",
    "print(len(a))"
   ]
  },
  {
   "cell_type": "markdown",
   "id": "8ac29b78",
   "metadata": {},
   "source": [
    "### Duyệt list bằng lệnh for\n",
    "\n",
    "<b> Duyệt list với vị trí </b>"
   ]
  },
  {
   "cell_type": "code",
   "execution_count": 52,
   "id": "1be33622",
   "metadata": {},
   "outputs": [
    {
     "name": "stdout",
     "output_type": "stream",
     "text": [
      "hello\n",
      "hi\n",
      "xin chào\n",
      "xin chào\n",
      "xin chào\n"
     ]
    }
   ],
   "source": [
    "L = ['hello', 'hi', 'xin chào', 'xin chào', 'xin chào']\n",
    "for i in range(len(L)): ## len(L) bằng 5, ## i sẽ chạy từ 0, 1, 2, 3, 4\n",
    "    print(L[i])"
   ]
  },
  {
   "cell_type": "markdown",
   "id": "53b6e6eb",
   "metadata": {},
   "source": [
    "<b> Duyệt list với giá trị từng phần tử</b>"
   ]
  },
  {
   "cell_type": "code",
   "execution_count": 54,
   "id": "cdf22aa3",
   "metadata": {},
   "outputs": [
    {
     "name": "stdout",
     "output_type": "stream",
     "text": [
      "hello\n",
      "hi\n",
      "xin chào\n",
      "xin chào\n",
      "xin chào\n"
     ]
    }
   ],
   "source": [
    "L = ['hello', 'hi', 'xin chào', 'xin chào', 'xin chào']\n",
    "for i in L:\n",
    "    print(i)"
   ]
  },
  {
   "cell_type": "code",
   "execution_count": 55,
   "id": "42721426",
   "metadata": {},
   "outputs": [
    {
     "name": "stdout",
     "output_type": "stream",
     "text": [
      "[1, 1, 1, 1, 1]\n"
     ]
    }
   ],
   "source": [
    "## có một cái list bất kỳ, muốn thay đổi toàn bộ giá trị phần tử bên trong list thành 1\n",
    "## ví dụ L = ['hello', 'hi', 'xin chào', 'xin chào', 'xin chào']\n",
    "## ~~> L = [1,1,1,1,1]\n",
    "L = ['hello', 'hi', 'xin chào', 'xin chào', 'xin chào']\n",
    "for i in range(len(L)):\n",
    "    L[i] = 1\n",
    "print(L)"
   ]
  },
  {
   "cell_type": "code",
   "execution_count": 58,
   "id": "2fcfb251",
   "metadata": {},
   "outputs": [
    {
     "name": "stdout",
     "output_type": "stream",
     "text": [
      "['hello', 'hi', 'xin chào', 'xin chào', 'xin chào']\n"
     ]
    }
   ],
   "source": [
    "L = ['hello', 'hi', 'xin chào', 'xin chào', 'xin chào']\n",
    "for i in L: ## khi chạy for duyệt list với giá trị thì tuyệt đối không thay đổi list L\n",
    "#     L[i] ## ~> L['hello']\n",
    "    L.remove(i)\n",
    "    L.append(1)\n",
    "    i = 1\n",
    "print(L)"
   ]
  },
  {
   "cell_type": "code",
   "execution_count": null,
   "id": "86de9f09",
   "metadata": {},
   "outputs": [],
   "source": [
    "## KẾT LUẬN NẾU MUỐN THAY ĐỔI NỘI DUNG (KHÔNG THAY ĐỔI SỐ LƯỢNG PHẦN TỬ) THÌ DÙNG DUYỆT FOR VỚI VỊ TRÍ\n",
    "## NẾU MUỐN THAY ĐỔI SỐ LƯỢNG PHẦN TỬ CỦA LIST THÌ NÊN DÙNG WHILE"
   ]
  },
  {
   "cell_type": "markdown",
   "id": "3fcda853",
   "metadata": {},
   "source": [
    "### Bài tập"
   ]
  },
  {
   "cell_type": "markdown",
   "id": "72d9a5fa",
   "metadata": {},
   "source": [
    "Nhập vào một dãy số nguyên dương (ngưng nhập nếu người dùng nhập -1)\n",
    "\n",
    "Sau khi nhập hãy:\n",
    "- In ra số lớn nhất trong dãy\n",
    "- In ra số bé nhất trong dãy\n",
    "- In ra dãy số nguyên tố tìm được trong dãy vừa nhập"
   ]
  },
  {
   "cell_type": "code",
   "execution_count": 63,
   "id": "38805cc0",
   "metadata": {},
   "outputs": [
    {
     "name": "stdout",
     "output_type": "stream",
     "text": [
      "Nhập vào số thứ 1:2\n",
      "Nhập vào số thứ 2:3\n",
      "Nhập vào số thứ 3:4\n",
      "Nhập vào số thứ 4:1\n",
      "Nhập vào số thứ 5:234\n",
      "Nhập vào số thứ 6:24\n",
      "Nhập vào số thứ 7:5\n",
      "Nhập vào số thứ 8:-1\n",
      "[2, 3, 4, 1, 234, 24, 5]\n",
      "234\n",
      "1\n",
      "[2, 3, 5]\n"
     ]
    }
   ],
   "source": [
    "dem = 1\n",
    "a = int(input(\"Nhập vào số thứ \" + str(dem) + \":\"))\n",
    "L = []\n",
    "while a != -1:\n",
    "    L.append(a)\n",
    "    dem += 1\n",
    "    a = int(input(\"Nhập vào số thứ \" + str(dem) + \":\"))\n",
    "\n",
    "print(L)\n",
    "ma = L[0]\n",
    "for i in L:\n",
    "    if ma < i:\n",
    "        ma = i\n",
    "print(ma)\n",
    "\n",
    "mi = L[0]\n",
    "for i in L:\n",
    "    if mi > i:\n",
    "        mi = i\n",
    "print(mi)\n",
    "\n",
    "def songuyento(a):\n",
    "    if a < 2: return False\n",
    "    for i in range(2,a):\n",
    "        if a % i == 0:\n",
    "            return False\n",
    "    return True\n",
    "\n",
    "L_snt = []\n",
    "for i in L:\n",
    "    if songuyento(i):\n",
    "        L_snt.append(i)\n",
    "print(L_snt)"
   ]
  },
  {
   "cell_type": "markdown",
   "id": "f493bb3e",
   "metadata": {},
   "source": [
    "Viết hàm với dữ liệu đầu vào bao gồm 3 tham số: list, a, b. Hàm này có công dụng tìm số lớn nhất trong đoạn từ vị trí a đến vị trí b trong list."
   ]
  },
  {
   "cell_type": "code",
   "execution_count": 64,
   "id": "a730c2f8",
   "metadata": {},
   "outputs": [
    {
     "name": "stdout",
     "output_type": "stream",
     "text": [
      "12\n"
     ]
    }
   ],
   "source": [
    "L = [1,3,6,4,8,12,9,213,2]\n",
    "\n",
    "def ham(L,a,b):\n",
    "    ma = L[a]\n",
    "    for i in range(a+1,b+1):\n",
    "        if ma < L[i]:\n",
    "            ma = L[i]\n",
    "    return ma\n",
    "\n",
    "print(ham(L,2,6))"
   ]
  },
  {
   "cell_type": "markdown",
   "id": "87acccb8",
   "metadata": {},
   "source": [
    "Viết hàm có tham số đầu vào là list, giá trị trả về là số lượng số nguyên tố bé hơn 100 trong list"
   ]
  },
  {
   "cell_type": "code",
   "execution_count": 66,
   "id": "c605991d",
   "metadata": {},
   "outputs": [
    {
     "name": "stdout",
     "output_type": "stream",
     "text": [
      "5\n"
     ]
    }
   ],
   "source": [
    "def songuyento(a):\n",
    "    if a < 2: return False\n",
    "    for i in range(2,a):\n",
    "        if a % i == 0:\n",
    "            return False\n",
    "    return True\n",
    "\n",
    "def demsnt(L):\n",
    "    count = 0\n",
    "    for i in L:\n",
    "        if i < 100 and songuyento(i): ## để i < 100 lên đằng trước sẽ tối ưu hơn vì sẽ kiểm tra i có bé hơn 100 không trước\n",
    "            count += 1\n",
    "    return count\n",
    "\n",
    "print(demsnt([3,4,6,1,3,8,3,1,17,29,101]))"
   ]
  },
  {
   "cell_type": "markdown",
   "id": "13840ec8",
   "metadata": {},
   "source": [
    "Viết hàm tìm giá trị dương đầu tiên của list, nếu không có giá trị dương trả về -1"
   ]
  },
  {
   "cell_type": "code",
   "execution_count": 2,
   "id": "d7ffb2b7",
   "metadata": {},
   "outputs": [
    {
     "name": "stdout",
     "output_type": "stream",
     "text": [
      "7\n"
     ]
    }
   ],
   "source": [
    "def ham(L):\n",
    "    for i in L:\n",
    "        if i > 0:\n",
    "            return i\n",
    "    return -1\n",
    "\n",
    "print(ham([-1,-7,7,1,2,3]))"
   ]
  },
  {
   "cell_type": "markdown",
   "id": "0f71c71e",
   "metadata": {},
   "source": [
    "Viết hàm có 2 giá trị đầu vào là list và x. Tìm giá trị trong list xa x nhất"
   ]
  },
  {
   "cell_type": "code",
   "execution_count": 4,
   "id": "03ef7d4c",
   "metadata": {},
   "outputs": [
    {
     "name": "stdout",
     "output_type": "stream",
     "text": [
      "42\n"
     ]
    }
   ],
   "source": [
    "def timgiatri(L,x):\n",
    "    m = L[0]\n",
    "    for i in range(1,len(L)):\n",
    "        if abs(L[i] - x) > abs(m - x):\n",
    "            m = L[i]\n",
    "    return m\n",
    "\n",
    "print(timgiatri([5,7,4,42,12,4,5],5))"
   ]
  },
  {
   "cell_type": "markdown",
   "id": "3b634d0f",
   "metadata": {},
   "source": [
    "Một người dùng số tiền là U đô-la và V Euro để mua một loại nguyên liệu sản xuất. \n",
    "\n",
    "Có N công ty nước ngoài bán nguyên liệu trên được đánh số từ 1 đến N. Công ty thứ i có giá bán Ai đô la/1 kg nguyên liệu và Bi Euro/1 kg nguyên liệu. \n",
    "\n",
    "Tuy nhiên, tại mỗi công ty chỉ bán nguyên liệu cho một khách hàng hoặc theo đô-la, hoặc theo Euro. \n",
    "\n",
    "Hãy giúp người đó tìm cách chọn ra 2 công ty để mua hàng sao cho số lượng nguyên liệu sản xuất có thể mua được là nhiều nhất.\n",
    "\n",
    "Nhập vào: Từ bàn phím 3 số theo thứ tự : N U V (1 ≤ N ≤ 20; 1 ≤ U, V ≤ 1000) và N cặp số nguyên Ai, Bi (1 < Ai, Bi < 1000) (nhập lần lượng A1, B1 rồi A2, B2)\n",
    "\n",
    "In ra : Số lượng nguyên liệu S(kg) người đó mua được với 2 chữ số thập phân."
   ]
  },
  {
   "cell_type": "code",
   "execution_count": 13,
   "id": "677abefe",
   "metadata": {},
   "outputs": [
    {
     "name": "stdout",
     "output_type": "stream",
     "text": [
      "1 4 36.67\n"
     ]
    }
   ],
   "source": [
    "## Tuy nhiên, tại mỗi công ty chỉ bán nguyên liệu cho một khách hàng hoặc theo đô-la, hoặc theo Euro\n",
    "## Tức là một công ty sẽ có 2 giá bán theo dola và euro, khách hàng chỉ được chọn mua theo 1 giá bán\n",
    "U = [10,6,8,9,5]\n",
    "V = [8,7,11,10,5]\n",
    "n = len(U)\n",
    "so_dola = 100\n",
    "so_euro = 100\n",
    "m = 0\n",
    "cty_dola = 0\n",
    "cty_euro = 0\n",
    "### cách này không cần suy nghĩ gì nhiều, máy lo hết (máy chạy lâu)\n",
    "for i in range(n):\n",
    "    for j in range(n):\n",
    "        if i != j:\n",
    "            kl = so_dola/U[i] + so_euro/V[j]\n",
    "            if kl > m:\n",
    "                m = kl\n",
    "                cty_dola = i\n",
    "                cty_euro = j\n",
    "print(cty_dola,cty_euro,round(m,2))"
   ]
  },
  {
   "cell_type": "code",
   "execution_count": 14,
   "id": "9c562d0b",
   "metadata": {},
   "outputs": [
    {
     "name": "stdout",
     "output_type": "stream",
     "text": [
      "36.67\n"
     ]
    }
   ],
   "source": [
    "U = [10,6,8,9,5]\n",
    "V = [8,7,11,10,5]\n",
    "n = len(U)\n",
    "so_dola = 100\n",
    "so_euro = 100\n",
    "\n",
    "def timvtmin(L):\n",
    "    vt = 0\n",
    "    for i in range(1,len(L)):\n",
    "        if L[vt] > L[i]:\n",
    "            vt = i\n",
    "    return vt\n",
    "\n",
    "vt_dola_min = timvtmin(U) ## tìm vị trí của công ty bán rẻ nhất theo Dola\n",
    "vt_euro_min = timvtmin(V) ## tìm vị trí của công ty bán rẻ nhất theo Euro\n",
    "\n",
    "if vt_dola_min != vt_euro_min:\n",
    "    kg = so_dola/U[vt_dola_min] + so_euro/V[vt_euro_min]\n",
    "    print(round(kg,2))\n",
    "else:\n",
    "    giatri_dola_min = U[vt_dola_min]\n",
    "    giatri_euro_min = V[vt_euro_min]\n",
    "    U.pop(vt_dola_min) ## xóa đi công ty có giá min theo dola\n",
    "    V.pop(vt_euro_min) ## xóa đi công ty có giá min theo euro\n",
    "    vt_dola_min_nhi = timvtmin(U)\n",
    "    vt_euro_min_nhi = timvtmin(V)\n",
    "    giatri_dola_min_nhi = U[vt_dola_min_nhi]\n",
    "    giatri_euro_min_nhi = V[vt_euro_min_nhi]\n",
    "    kg1 = so_dola/giatri_dola_min + so_euro/giatri_euro_min_nhi\n",
    "    kg2 = so_dola/giatri_dola_min_nhi + so_euro/giatri_euro_min\n",
    "    if kg1 > kg2:\n",
    "        print(round(kg1,2))\n",
    "    else:\n",
    "        print(round(kg2,2))"
   ]
  }
 ],
 "metadata": {
  "kernelspec": {
   "display_name": "Python 3 (ipykernel)",
   "language": "python",
   "name": "python3"
  },
  "language_info": {
   "codemirror_mode": {
    "name": "ipython",
    "version": 3
   },
   "file_extension": ".py",
   "mimetype": "text/x-python",
   "name": "python",
   "nbconvert_exporter": "python",
   "pygments_lexer": "ipython3",
   "version": "3.10.4"
  }
 },
 "nbformat": 4,
 "nbformat_minor": 5
}
