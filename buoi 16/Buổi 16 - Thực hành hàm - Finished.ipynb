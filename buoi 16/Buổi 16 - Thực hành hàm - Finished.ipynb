{
 "cells": [
  {
   "cell_type": "markdown",
   "id": "028ffec3",
   "metadata": {},
   "source": [
    "# Thực hành hàm\n",
    "\n",
    "### Bài 1\n",
    "\n",
    "Viết hàm có dữ liệu đầu vào là 2 số a và b, số nào lớn hơn thì in bảng cửu chương của số đó"
   ]
  },
  {
   "cell_type": "code",
   "execution_count": 2,
   "id": "1974966b",
   "metadata": {},
   "outputs": [
    {
     "name": "stdout",
     "output_type": "stream",
     "text": [
      "7 x 0 = 0\n",
      "7 x 1 = 4\n",
      "7 x 2 = 8\n",
      "7 x 3 = 12\n",
      "7 x 4 = 16\n",
      "7 x 5 = 20\n",
      "7 x 6 = 24\n",
      "7 x 7 = 28\n",
      "7 x 8 = 32\n",
      "7 x 9 = 36\n",
      "7 x 10 = 40\n"
     ]
    }
   ],
   "source": [
    "def ham1(a,b):\n",
    "    if a > b:\n",
    "        for i in range(11):\n",
    "            print(a, \"x\",i, '=',a*i)\n",
    "    else:\n",
    "        for i in range(11):\n",
    "            print(b,'x',i, '=',a*i)\n",
    "\n",
    "ham1(4,7)"
   ]
  },
  {
   "cell_type": "markdown",
   "id": "9de8ffaa",
   "metadata": {},
   "source": [
    "### Bài 2\n",
    "\n",
    "Viết hàm `xoachuoi` có dữ liệu đầu vào là 2 chuỗi a và b, hãy tìm trong chuỗi a có chuỗi b hay không, nếu có hãy xóa toán bộ chuỗi b trong a.\n",
    "\n",
    "Sau đó trả về chuỗi a mới\n",
    "\n",
    "Ví dụ:\n",
    "\n",
    "chuoi1 = \"xin chào các bạn, các bạn có khỏe không?\"\n",
    "\n",
    "chuoi2 = \"các bạn\"\n",
    "\n",
    "chuoi3 = xoachuoi(chuoi1,chuoi2)\n",
    "\n",
    "print(chuoi3)\n",
    "\n",
    "Kết quả in ra là:\n",
    "xin chào ,  có khỏe không"
   ]
  },
  {
   "cell_type": "code",
   "execution_count": 9,
   "id": "05de1584",
   "metadata": {},
   "outputs": [
    {
     "name": "stdout",
     "output_type": "stream",
     "text": [
      "xin chào các bạn có khỏe không?\n"
     ]
    }
   ],
   "source": [
    "### bài này không được sử dụng hàm có sẵn như: find, count, replace,...\n",
    "### được phép dùng len và cắt chuỗi\n",
    "### được dùng for, if, so sánh chuỗi\n",
    "\n",
    "chuoi1 = \"xin chào các bạncác bạn có khỏe không?\"\n",
    "chuoi2 = \"các bạn\"\n",
    "\n",
    "def xoachuoi(chuoi1, chuoi2):\n",
    "    a = len(chuoi1)\n",
    "    b = len(chuoi2)\n",
    "    for i in range(a - b): ## cho i chạy từ 0 đến a - b\n",
    "        ## tại thời điểm i = 9 ~~> xóa đi cụm 'các bạn' đầu tiên\n",
    "        if chuoi1[i:i+b] == chuoi2:\n",
    "            chuoi1 = chuoi1[:i] + chuoi1[i+b:]\n",
    "    return chuoi1\n",
    "\n",
    "chuoi3 = xoachuoi(chuoi1,chuoi2)\n",
    "print(chuoi3)"
   ]
  },
  {
   "cell_type": "code",
   "execution_count": 13,
   "id": "c44987b9",
   "metadata": {},
   "outputs": [
    {
     "name": "stdout",
     "output_type": "stream",
     "text": [
      "xin chào  có khỏe không?\n"
     ]
    }
   ],
   "source": [
    "chuoi1 = \"xin chào các bạncác bạn có khỏe không?\"\n",
    "chuoi2 = \"các bạn\"\n",
    "\n",
    "def xoachuoi(chuoi1, chuoi2):\n",
    "    a = len(chuoi1)\n",
    "    b = len(chuoi2)\n",
    "    i = 0\n",
    "    while i < (a - b):\n",
    "        if chuoi1[i:i+b] == chuoi2:\n",
    "            chuoi1 = chuoi1[:i] + chuoi1[i+b:]\n",
    "            a -= b\n",
    "        else:\n",
    "            i += 1\n",
    "    return chuoi1\n",
    "\n",
    "chuoi3 = xoachuoi(chuoi1,chuoi2)\n",
    "print(chuoi3)"
   ]
  },
  {
   "cell_type": "code",
   "execution_count": 15,
   "id": "241f60b8",
   "metadata": {},
   "outputs": [
    {
     "name": "stdout",
     "output_type": "stream",
     "text": [
      "Có b trong a\n",
      "Có b trong a\n"
     ]
    },
    {
     "data": {
      "text/plain": [
       "'xin chào  có khỏe không?'"
      ]
     },
     "execution_count": 15,
     "metadata": {},
     "output_type": "execute_result"
    }
   ],
   "source": [
    "def xoachuoi(a,b):\n",
    "    c = \"\"\n",
    "    ito = 0\n",
    "    for i in range(len(a)-len(b)):\n",
    "        if i < ito:\n",
    "            continue\n",
    "        if a[i:i+len(b)] == b:\n",
    "            print('Có b trong a')\n",
    "            ito = i+len(b)\n",
    "        else:\n",
    "            c += a[i]\n",
    "    return c + a[len(a)-len(b):]\n",
    "            \n",
    "a = \"xin chào các bạncác bạn có khỏe không?\"\n",
    "b = \"các bạn\"\n",
    "\n",
    "xoachuoi(a,b)"
   ]
  },
  {
   "cell_type": "markdown",
   "id": "d626394e",
   "metadata": {},
   "source": [
    "### Bài 3\n",
    "\n",
    "Viết hàm `kiemtramatkhau` với dữ liệu đầu vào là 1 chuỗi có công dụng như sau:\n",
    "\n",
    "Kiểm tra xem chuỗi đầu vào có phải là mật khẩu mạnh hay không, nếu có trả về True, nếu không trả về False\n",
    "\n",
    "Mật khẩu mạnh là mật khẩu phải có ít nhất 1 chữ hoa, 1 chữ thường, 1 số và 1 ký tự đặc biệt"
   ]
  },
  {
   "cell_type": "code",
   "execution_count": 22,
   "id": "875d88f5",
   "metadata": {
    "scrolled": true
   },
   "outputs": [
    {
     "name": "stdout",
     "output_type": "stream",
     "text": [
      "True\n"
     ]
    }
   ],
   "source": [
    "def kiemtramatkhau(x):\n",
    "    kt_hoa = False\n",
    "    kt_thuong = False\n",
    "    kt_so = False\n",
    "    kt_dacbiet = False\n",
    "    for i in x:\n",
    "        if i.isupper():\n",
    "            kt_hoa = True\n",
    "        elif i.islower():\n",
    "            kt_thuong = True\n",
    "        elif i.isnumeric():\n",
    "            kt_so = True\n",
    "        else:\n",
    "            kt_dacbiet = True\n",
    "        if kt_hoa and kt_thuong and kt_so and kt_dacbiet:\n",
    "            return True\n",
    "    return False\n",
    "\n",
    "print(kiemtramatkhau(\"Xinchao@12\"))"
   ]
  },
  {
   "cell_type": "markdown",
   "id": "1572568f",
   "metadata": {},
   "source": [
    "### Bài 4\n",
    "\n",
    "Viết hàm có 5 dữ liệu đầu vào là 5 số nguyên, tìm giá trị lớn nhì trong 5 số đó"
   ]
  },
  {
   "cell_type": "code",
   "execution_count": 26,
   "id": "876707ae",
   "metadata": {},
   "outputs": [
    {
     "name": "stdout",
     "output_type": "stream",
     "text": [
      "7\n"
     ]
    }
   ],
   "source": [
    "def ham4(a,b,c,d,e):\n",
    "    ### tìm ra số lớn nhất đưa lên a\n",
    "    if a < b:\n",
    "        a, b = b, a\n",
    "    if a < c:\n",
    "        a, c = c, a\n",
    "    if a < d:\n",
    "        a, d = d, a\n",
    "    if a < e:\n",
    "        a, e = e, a\n",
    "    ### trong 4 số b, c, d, e còn lại thì tìm số lớn nhất đưa lên b\n",
    "    if b < c:\n",
    "        b, c = c, b\n",
    "    if b < d:\n",
    "        b, d = d, b\n",
    "    if b < e:\n",
    "        b, e = e, b\n",
    "    return b\n",
    "\n",
    "print(ham4(7,8,5,4,3))"
   ]
  },
  {
   "cell_type": "code",
   "execution_count": 23,
   "id": "9f9ebc41",
   "metadata": {},
   "outputs": [
    {
     "name": "stdout",
     "output_type": "stream",
     "text": [
      "nhập số thứ 1 7\n",
      "nhập số thứ 2 6\n",
      "nhập số thứ 3 8\n",
      "nhập số thứ 4 2\n",
      "nhập số thứ 5 3\n",
      "7\n"
     ]
    }
   ],
   "source": [
    "def sosanh(st1,st2,st3,st4,st5):\n",
    "    \n",
    "    khoangtrang = ''\n",
    "    a = st1+' '+st2+' '+st3+' '+st4+' '+st5+' '  \n",
    "    if int(st1) > int(st2):\n",
    "        max,max2 = int(st1),int(st2)\n",
    "    else:\n",
    "        max,max2 = int(st2),int(st1)\n",
    "    for i in range(a.count(' ')):\n",
    "        khoangtrang = a.find(' ')\n",
    "        c = a[0:khoangtrang]\n",
    "        a = a[(khoangtrang+1):len(a)]\n",
    "        if int(c) > max2:\n",
    "            if int(c) > max:\n",
    "                max2, max = max, int(c)\n",
    "            else:\n",
    "                max2 = int(c)\n",
    "    print(max2)      \n",
    "        \n",
    "st1 = input(\"nhập số thứ 1 \")  \n",
    "st2 = input(\"nhập số thứ 2 \")  \n",
    "st3 = input(\"nhập số thứ 3 \")  \n",
    "st4 = input(\"nhập số thứ 4 \")   \n",
    "st5 = input(\"nhập số thứ 5 \")\n",
    "sosanh(st1,st2,st3,st4,st5)"
   ]
  },
  {
   "cell_type": "markdown",
   "id": "974d7da1",
   "metadata": {},
   "source": [
    "### Bài 5\n",
    "\n",
    "Nhập vào 2 cặp tọa độ tâm đường tròn và 2 bán kính R\n",
    "\n",
    "Hãy vẽ 2 hình tròn theo tọa độ và bán kính trên (tọa độ thứ nhất và bán kính thứ nhất là hình tròn thứ nhất, tọa độ thứ 2 với bán kính thứ 2 là hình tròn thứ hai)\n",
    "\n",
    "Viết hàm kiểm tra xem 2 hình tròn trên cắt nhau bao nhiêu điểm"
   ]
  },
  {
   "cell_type": "code",
   "execution_count": 2,
   "id": "f7722021",
   "metadata": {},
   "outputs": [
    {
     "name": "stdout",
     "output_type": "stream",
     "text": [
      "-1\n"
     ]
    }
   ],
   "source": [
    "import turtle\n",
    "\n",
    "t = turtle.Turtle()\n",
    "\n",
    "x1 = 0\n",
    "y1 = 50\n",
    "r1 = 50\n",
    "x2 = 0\n",
    "y2 = 0\n",
    "r2 = 100\n",
    "\n",
    "def ham5(x1,y1,r1,x2,y2,r2):\n",
    "    d = ((x1 - x2)**2 + (y1 - y2)**2)**0.5 ## khoảng cách 2 tâm\n",
    "    if d > r1 + r2:\n",
    "        return 0\n",
    "    if d == r1 + r2:\n",
    "        return 1\n",
    "    if d == abs(r1 - r2):\n",
    "        if d == 0 and r1 == r2:\n",
    "            return -1 ## cắt tại vô số điểm (trùng nhau)\n",
    "        return 1\n",
    "    if d < abs(r1 - r2):\n",
    "        return 0\n",
    "    return 2\n",
    "\n",
    "def vehinhtron(x,y,r):\n",
    "    t.pu()\n",
    "    t.goto(x,y-r)\n",
    "    t.pd()\n",
    "    t.circle(r)\n",
    "    \n",
    "print(ham5(x1,y1,r1,x2,y2,r2))\n",
    "vehinhtron(x1,y1,r1)\n",
    "vehinhtron(x2,y2,r2)"
   ]
  },
  {
   "cell_type": "markdown",
   "id": "a2157de8",
   "metadata": {},
   "source": [
    "### Bài 6\n",
    "\n",
    "Nhập vào 2 tọa độ là 2 đỉnh của một hình chữ nhật\n",
    "\n",
    "Sau đó\n",
    "\n",
    "Nhập vào tọa độ tâm đường tròn và bán kính R\n",
    "\n",
    "Hãy vẽ hình hình chữ nhật và đường tròn trên\n",
    "\n",
    "Viết hàm kiểm tra xem đường tròn trên và hình chữ nhật cắt nhau tại bao nhiêu điểm"
   ]
  },
  {
   "cell_type": "code",
   "execution_count": null,
   "id": "e0d7b1a2",
   "metadata": {},
   "outputs": [],
   "source": []
  },
  {
   "cell_type": "markdown",
   "id": "d1491579",
   "metadata": {},
   "source": [
    "### Bài 7\n",
    "\n",
    "Viết hàm kiểm tra số nguyên tố\n",
    "\n",
    "Viết hàm kiểm tra số hoàn hảo\n",
    "\n",
    "Viết hàm kiểm tra số chính phương\n",
    "\n",
    "Viết hàm kiểm tra số Armstrong\n",
    "\n",
    "Nhập vào một chuỗi, hãy lọc và tìm ra những số ở trong chuỗi (2 chữ số liền nhau là một chuỗi)\n",
    "\n",
    "Ví dụ chuỗi: \"AB25SDc5DSjjh52\"\n",
    "\n",
    "Trong chuỗi này ta có 3 số: 25, 5 và 52\n",
    "\n",
    "Sau khi lọc số, dùng các hàm trên để kiểm tra và thực hiện như sau:\n",
    "\n",
    "Cho biến S\n",
    "\n",
    "- Nếu số đó là số nguyên tố, ta thực hiện S += số đó\n",
    "- Nếu số đó là số hoàn hảo, ta thực hiện S -= số đó\n",
    "- Nếu số đó là số chính phương, ta thực hiện S /= số đó\n",
    "- Nếu đó là số Armstrong ta cho S = 0\n",
    "\n",
    "Hãy tính và in S"
   ]
  },
  {
   "cell_type": "code",
   "execution_count": 8,
   "id": "0b699e33",
   "metadata": {},
   "outputs": [
    {
     "name": "stdout",
     "output_type": "stream",
     "text": [
      "Nhập vào chuỗi:AB25SDc5DSjjh52\n",
      "5.0\n"
     ]
    }
   ],
   "source": [
    "def snt(a):\n",
    "    ## số nguyên tố là số chỉ có 2 ước là 1 và chính nó\n",
    "    ## trong khoảng từ 2 đến a - 1 không có ước của nó\n",
    "    ## nếu như trong khoảng từ 2 đến a - 1 mà có ước của nó thì nó không phải là số nguyên tố\n",
    "    if a < 2: return False\n",
    "    for i in range(2,a): ## range(2,2) ~~> tập rỗng\n",
    "        if a % i == 0:\n",
    "            return False\n",
    "    return True\n",
    "\n",
    "def sohoanhao(a):\n",
    "    S = 0\n",
    "    for i in range(1,a): ## không bao gồm a\n",
    "        if a % i == 0:\n",
    "            S += i\n",
    "    return S == a\n",
    "\n",
    "def sochinhphuong(a):\n",
    "    cana = a**0.5\n",
    "    return cana == int(cana)\n",
    "\n",
    "def soArmstrong(a):\n",
    "    a = str(a)\n",
    "    b = len(a)\n",
    "    S = 0\n",
    "    for i in a:\n",
    "        S += int(i)**b\n",
    "    return S == int(a)\n",
    "\n",
    "chuoi = input(\"Nhập vào chuỗi:\")\n",
    "chuoi += \" \"\n",
    "S = 0\n",
    "chuoitam = \"\"\n",
    "for i in chuoi:\n",
    "    if i.isnumeric():\n",
    "        chuoitam += i\n",
    "    else:\n",
    "        if chuoitam != \"\":\n",
    "            so = int(chuoitam)\n",
    "            chuoitam = \"\"\n",
    "            if snt(so):\n",
    "                S += so\n",
    "            elif sohoanhao(so):\n",
    "                S -= so\n",
    "            elif sochinhphuong(so):\n",
    "                S /= so\n",
    "            elif soArmstrong(so):\n",
    "                S = 0\n",
    "print(S)"
   ]
  }
 ],
 "metadata": {
  "kernelspec": {
   "display_name": "Python 3 (ipykernel)",
   "language": "python",
   "name": "python3"
  },
  "language_info": {
   "codemirror_mode": {
    "name": "ipython",
    "version": 3
   },
   "file_extension": ".py",
   "mimetype": "text/x-python",
   "name": "python",
   "nbconvert_exporter": "python",
   "pygments_lexer": "ipython3",
   "version": "3.10.4"
  }
 },
 "nbformat": 4,
 "nbformat_minor": 5
}
