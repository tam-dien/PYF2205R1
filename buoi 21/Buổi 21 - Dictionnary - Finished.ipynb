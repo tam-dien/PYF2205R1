{
 "cells": [
  {
   "cell_type": "markdown",
   "id": "a20f121d",
   "metadata": {},
   "source": [
    "# Dictionnary\n",
    "\n",
    "Dictionnary là một dạng list đặc biệt, nó khác list ở chỗ không lưu trữ các giá trị theo chỉ số vị trí, thay vào đó Dictionary sẽ lưu trữ các giá trị theo key\n",
    "\n",
    "##### Tài liệu tham khảo: https://www.w3schools.com/python/python_dictionaries.asp\n",
    "\n",
    "### Khai báo một dictionary\n",
    "\n",
    "Cú pháp:\n",
    "\n",
    "`<tên dictionary> = {}`\n",
    "\n",
    "### Dictionary được khai báo bằng hai dấu hoặc nhọn\n",
    "\n",
    "Đây là một dictionary rỗng\n",
    "\n",
    "<b>Ví dụ 1:</b>\n",
    "\n",
    "`a = {}`\n",
    "\n",
    "a là một dictionary rỗng\n",
    "\n",
    "<b>Ví dụ 2:</b>\n",
    "\n",
    "`a = {\"tên\": \"Nguyễn Tâm Điền\", \"tuổi\": 13, \"giới tính\": \"Nam\"}`\n",
    "\n",
    "b là một dictionary có 3 key, mõi key đều có một giá trị riêng biệt\n",
    "\n",
    "Key có thể mang kiểu dữ liệu là chuỗi hoặc số\n",
    "\n",
    "##### Mỗi một key đều phải có giá trị của riêng nó, không thể khai báo key không có giá trị\n",
    "\n",
    "<b>Hãy khai báo một dictionary có 3 phần tử</b>"
   ]
  },
  {
   "cell_type": "code",
   "execution_count": 7,
   "id": "d835f461",
   "metadata": {
    "scrolled": true
   },
   "outputs": [
    {
     "name": "stdout",
     "output_type": "stream",
     "text": [
      "4\n"
     ]
    }
   ],
   "source": [
    "D = {'tiếng anh':'hi','tiếng việt':'xin chào','tiếng pháp':'bonjour','tiếng nhật':'hi'}\n",
    "print(len(D))"
   ]
  },
  {
   "cell_type": "code",
   "execution_count": 10,
   "id": "faca80ba",
   "metadata": {},
   "outputs": [
    {
     "name": "stdout",
     "output_type": "stream",
     "text": [
      "4\n",
      "{'tiếng anh': 'hello', 'tiếng việt': 'xin chào', 'tiếng pháp': 'bonjour', 'tiếng nhật': 'hi'}\n",
      "hello\n"
     ]
    }
   ],
   "source": [
    "D = {'tiếng anh':'hi','tiếng việt':'xin chào','tiếng pháp':'bonjour','tiếng nhật':'hi','tiếng anh':'hello'}\n",
    "print(len(D))\n",
    "print(D)\n",
    "print(D['tiếng anh'])"
   ]
  },
  {
   "cell_type": "code",
   "execution_count": null,
   "id": "269da363",
   "metadata": {},
   "outputs": [],
   "source": [
    "## phải phân biệt được đâu là key đâu là giá trị\n",
    "## trong 1 dictionary không được phép trùng key nhưng được phép trùng giá trị"
   ]
  },
  {
   "cell_type": "markdown",
   "id": "be1e321c",
   "metadata": {},
   "source": [
    "### Thêm key vào dictionary\n",
    "\n",
    "Cú pháp:\n",
    "\n",
    "`<tên dictionary>[<key>] = <giá trị>`\n",
    "\n",
    "<b>Ví dụ 1:</b>\n",
    "\n",
    "`a = {}\n",
    "a[\"tên\"] = \"NTD\"`\n",
    "\n",
    "a là một dictionary có một phần tử, phần tử đó có key là \"tên\" và giá trị của key đó là \"NTD\"\n",
    "\n",
    "##### Lưu ý, nếu trong trường hợp đã tồn tại key trong dictionary, dùng lệnh trên sẽ thay đổi giá trị key đó (không phải thêm key khác vào)\n",
    "\n",
    "<b>Ví dụ 2:</b>\n",
    "\n",
    "`a = {}\n",
    "a[\"tên\"] = \"NTD\"\n",
    "a[\"tên\"] = \"Nguyễn Tâm Điền\"`\n",
    "\n",
    "a vẫn là một dictionary có một phần tử, phần tử đó có key là \"tên\" và giá trị của key đó là \"Nguyễn Tâm Điền\"\n",
    "\n",
    "<b>Hãy khai báo một dictionary không có phần tử nào, sau đó thêm một phần tử vào dictionary đó</b>"
   ]
  },
  {
   "cell_type": "code",
   "execution_count": 11,
   "id": "7573ebef",
   "metadata": {},
   "outputs": [
    {
     "name": "stdout",
     "output_type": "stream",
     "text": [
      "['hi', 'hello', 'xin chào']\n"
     ]
    }
   ],
   "source": [
    "L = ['hi','hello']\n",
    "L.append('xin chào')\n",
    "print(L)"
   ]
  },
  {
   "cell_type": "code",
   "execution_count": 12,
   "id": "525f1402",
   "metadata": {
    "scrolled": true
   },
   "outputs": [
    {
     "name": "stdout",
     "output_type": "stream",
     "text": [
      "{'tiếng anh': 'hi', 'tiếng việt': 'xin chào', 'tiếng pháp': 'bonjour'}\n"
     ]
    }
   ],
   "source": [
    "D = {'tiếng anh':'hi','tiếng việt':'xin chào'}\n",
    "D['tiếng pháp'] = 'bonjour' ## đây là lệnh thêm phần tử vì key 'tiếng pháp' chưa có trong D\n",
    "D['tiếng việt'] = 'chào' ## đây là lệnh thay đổi giá trị của key 'tiếng việt' vì key 'tiếng việt' đã có trong D rồi\n",
    "print(D)"
   ]
  },
  {
   "cell_type": "code",
   "execution_count": 13,
   "id": "c4dbc94b",
   "metadata": {},
   "outputs": [],
   "source": [
    "L = ['hi','xin chào','hello']\n",
    "## if 'hello' in L ~~> kiểm tra 'hello' có trong L hay không ('hello' đóng vai trò là giá trị)\n",
    "D = {'tiếng anh':'hello','tiếng việt':'xin chào'}\n",
    "## if 'hello' in D ~~> kiểm tra trong D đã có KEY là 'hello hay chưa' ('hello' đóng vai trò là KEY)"
   ]
  },
  {
   "cell_type": "code",
   "execution_count": 15,
   "id": "e0572b06",
   "metadata": {},
   "outputs": [
    {
     "name": "stdout",
     "output_type": "stream",
     "text": [
      "Nhập vào key:hi\n",
      "Nhập vào giá trị:hello\n",
      "Nhập vào key:ho\n",
      "Nhập vào giá trị:hillo\n",
      "Nhập vào key:\n",
      "{'hi': 'hello', 'ho': 'hillo'}\n"
     ]
    }
   ],
   "source": [
    "### bài tập nhỏ\n",
    "### cho một D rỗng\n",
    "### thực hiện chương trình sau:\n",
    "### B1: yêu cầu người dùng nhập vào key\n",
    "### B2: nếu key không có trong D, yêu cầu người dùng nhập vào giá trị, rồi sang B3\n",
    "####### nếu key có trong D, in ra thông bao \"key đã tồn tại\" và quay lại B1\n",
    "### B3: yêu cầu người dùng nhập vào giá trị rồi thêm giá trị và key vào trong D, rồi quay lại B1\n",
    "### nếu người dùng nhập key là rỗng thì kết thúc chương trình\n",
    "\n",
    "D = {}\n",
    "while True:\n",
    "    key = input(\"Nhập vào key:\")\n",
    "    if key == \"\": break\n",
    "    if key not in D:\n",
    "        value = input(\"Nhập vào giá trị:\")\n",
    "        D[key] = value\n",
    "    else:\n",
    "        print(\"Key đã tồn tại\")\n",
    "\n",
    "print(D)"
   ]
  },
  {
   "cell_type": "markdown",
   "id": "65c98825",
   "metadata": {},
   "source": [
    "### Truy xuất phần tử trong dictionary\n",
    "\n",
    "Cú pháp:\n",
    "\n",
    "`<tên dictionary>[<key>]`\n",
    "\n",
    "<b>Ví dụ:</b>\n",
    "\n",
    "`a = {\"tên\": \"Nguyễn Tâm Điền\", \"tuổi\": 13, \"giới tính\": \"Nam\"}\n",
    "print(a[\"tên\"])`\n",
    "\n",
    "Màn hình sẽ in: Nguyễn Tâm Điền\n",
    "\n",
    "<b>Hãy khai báo một dictionary rồi in ra màn hình một phần tử bất kỳ trong dictionary đó</b>"
   ]
  },
  {
   "cell_type": "code",
   "execution_count": 16,
   "id": "f6159385",
   "metadata": {},
   "outputs": [
    {
     "name": "stdout",
     "output_type": "stream",
     "text": [
      "Nguyễn Tâm Điền\n"
     ]
    }
   ],
   "source": [
    "D = {\"tên\": \"Nguyễn Tâm Điền\", \"tuổi\": 13, \"giới tính\": \"Nam\"}\n",
    "print(D['tên'])"
   ]
  },
  {
   "cell_type": "code",
   "execution_count": 17,
   "id": "93a84ce4",
   "metadata": {},
   "outputs": [
    {
     "name": "stdout",
     "output_type": "stream",
     "text": [
      "{'tên': 'NTD', 'tuổi': 13, 'giới tính': 'Nam'}\n"
     ]
    }
   ],
   "source": [
    "D = {\"tên\": \"Nguyễn Tâm Điền\", \"tuổi\": 13, \"giới tính\": \"Nam\"}\n",
    "D2 = D ## 2 cái dictionary là 1\n",
    "D2['tên'] = 'NTD'\n",
    "print(D)"
   ]
  },
  {
   "cell_type": "code",
   "execution_count": 18,
   "id": "44314467",
   "metadata": {},
   "outputs": [
    {
     "name": "stdout",
     "output_type": "stream",
     "text": [
      "{'tên': 'Nguyễn Tâm Điền', 'tuổi': 13, 'giới tính': 'Nam'}\n",
      "{'tên': 'NTD', 'tuổi': 13, 'giới tính': 'Nam'}\n"
     ]
    }
   ],
   "source": [
    "D = {\"tên\": \"Nguyễn Tâm Điền\", \"tuổi\": 13, \"giới tính\": \"Nam\"}\n",
    "D2 = D.copy() ## 2 cái dictionary này khác nhau\n",
    "D2['tên'] = 'NTD'\n",
    "print(D)\n",
    "print(D2)"
   ]
  },
  {
   "cell_type": "markdown",
   "id": "afa92f87",
   "metadata": {},
   "source": [
    "### Sao chép dictionary\n",
    "\n",
    "##### Việc sao chép dictionary được thực hiện hệt như sao chép list, chúng ta cần phải sử dụng lệnh copy()"
   ]
  },
  {
   "cell_type": "markdown",
   "id": "ef7e800d",
   "metadata": {},
   "source": [
    "### Duyệt dictionary bằng lệnh for\n",
    "\n",
    "Cú pháp:\n",
    "\n",
    "`for <tên biến> in <tên dictionary>:`\n",
    "\n",
    "Biến sẽ có giá trị là từng key trong dictionary\n",
    "\n",
    "<b>Ví dụ:</b>\n",
    "\n",
    "`a = {\"tên\": \"Nguyễn Tâm Điền\", \"tuổi\": 13, \"giới tính\": \"Nam\"}\n",
    "for i in a:\n",
    "    print(i)`\n",
    "    \n",
    "Màn hình sẽ in ra:\n",
    "\n",
    "tên\n",
    "\n",
    "tuổi\n",
    "\n",
    "giới tính\n",
    "\n",
    "<b>Hãy khai báo một dictionary rồi in ra màn hình toàn bộ giá trị trong dictionary đó</b>"
   ]
  },
  {
   "cell_type": "code",
   "execution_count": null,
   "id": "3bdd1508",
   "metadata": {},
   "outputs": [],
   "source": [
    "D = {\"tên\": \"Nguyễn Tâm Điền\", \"tuổi\": 13, \"giới tính\": \"Nam\"}\n",
    "for i in range(len(D)): ## i là 0, 1, 2 ~~> không duyệt dict theo kiểu này được\n",
    "    D[i]"
   ]
  },
  {
   "cell_type": "code",
   "execution_count": 20,
   "id": "412b301e",
   "metadata": {},
   "outputs": [
    {
     "name": "stdout",
     "output_type": "stream",
     "text": [
      "tên Nguyễn Tâm Điền\n",
      "tuổi 13\n",
      "giới tính Nam\n"
     ]
    }
   ],
   "source": [
    "D = {\"tên\": \"Nguyễn Tâm Điền\", \"tuổi\": 13, \"giới tính\": \"Nam\"}\n",
    "for i in D: ## i đóng vai trò là KEY\n",
    "    print(i,D[i])"
   ]
  },
  {
   "cell_type": "markdown",
   "id": "1982f4b1",
   "metadata": {},
   "source": [
    "### Bài tập"
   ]
  },
  {
   "cell_type": "markdown",
   "id": "3060a950",
   "metadata": {},
   "source": [
    "Viết chương trình đếm số lần xuất hiện của một từ trong một văn bản nhất định"
   ]
  },
  {
   "cell_type": "code",
   "execution_count": 34,
   "id": "af64832c",
   "metadata": {},
   "outputs": [
    {
     "name": "stdout",
     "output_type": "stream",
     "text": [
      "{'trưởng': 5, 'phòng': 5, 'tôi': 37, 'là': 23, 'người': 12, 'sâu': 2, 'sắc': 3, 'lại': 12, 'cũng': 10, 'lắm': 2, 'sáng': 9, 'kiến': 1, 'đến': 9, 'cái': 19, 'mức': 3, 'có': 29, 'khi': 7, 'bọn': 1, 'chúng': 5, 'trong': 15, 'cơ': 2, 'quan': 1, 'phát': 1, 'mệt': 1, 'vì': 1, 'anh': 11, 'trước': 8, 'đây': 4, 'chừng': 4, 'dăm': 2, 'tháng': 14, 'để': 6, 'chuẩn': 1, 'bị': 3, 'cho': 11, 'tấm': 4, 'lịch': 3, 'năm': 13, 'sau': 8, 'tỏ': 2, 'ý': 4, 'không': 17, 'bằng': 7, 'lòng': 4, 'với': 8, 'cách': 5, 'làm': 17, 'ăn': 4, 'từ': 8, 'tới': 3, 'giờ': 6, 'sang': 2, 'ta': 5, 'sẽ': 2, 'đem': 1, 'mỗi': 5, 'gia': 4, 'đình': 4, 'một': 54, 'bộ': 4, 'sưu': 3, 'tập': 4, 'chuyên': 2, 'đề': 3, 'về': 8, 'thuyền': 20, 'và': 20, 'biển': 11, 'nói': 4, 'quả': 2, 'quyết': 4, 'thôi': 3, 'bỏ': 2, 'lối': 1, 'thứ': 2, 'tí': 1, 'đi': 9, 'phải': 8, '12': 2, 'bức': 5, 'ảnh': 11, 'nghệ': 2, 'thuật': 2, 'hoàn': 2, 'toàn': 1, 'thế': 5, 'giới': 1, 'tĩnh': 1, 'vật': 2, 'xách': 2, 'máy': 9, 'lên': 5, 'đường': 2, 'suy': 1, 'nghĩ': 4, 'chọn': 3, 'cảnh': 9, 'bấm': 1, 'suốt': 4, 'tất': 2, 'cả': 5, 'những': 22, 'gì': 7, 'thu': 6, 'được': 9, 'ánh': 1, 'đen': 2, 'trắng': 4, 'trên': 17, 'giấy': 1, 'đang': 6, 'bày': 1, 'ra': 11, 'la': 2, 'liệt': 1, 'hai': 8, 'chiếc': 18, 'bàn': 2, 'ghép': 1, 'tình': 2, 'lúc': 8, 'đó': 7, 'đã': 24, 'lấy': 4, 'đoán': 1, 'chắc': 1, 'còn': 6, 'chụp': 5, 'bổ': 2, 'sung': 2, 'như': 16, 'mọi': 2, 'nữa': 4, 'làn': 1, 'khói': 2, 'thuốc': 1, 'lá': 1, 'cuộn': 1, 'phun': 1, 'mù': 2, 'mịt': 1, 'cặp': 2, 'mắt': 8, 'đầy': 6, 'tinh': 1, 'khôn': 1, 'của': 20, 'nheo': 1, 'kính': 2, 'lão': 2, 'đột': 1, 'nhiên': 2, 'quay': 1, 'phía': 1, 'hỏi': 1, 'bây': 3, 'mấy': 4, 'nhỉ': 1, 'bảy': 5, 'đáp': 1, 'vẻ': 3, 'dè': 1, 'này': 6, 'ở': 13, 'vẫn': 4, 'sương': 7, 'chứ': 5, 'chỉ': 12, 'bão': 1, 'táp': 1, 'động': 2, 'muốn': 2, 'thì': 2, 'ba': 3, 'phùng': 1, 'dường': 2, 'nhìn': 4, 'thấy': 4, 'rõ': 2, 'ngần': 1, 'ngại': 1, 'nên': 2, 'vừa': 7, 'nhăn': 1, 'nhó': 1, 'mặt': 5, 'lộ': 1, 'đau': 1, 'khổ': 1, 'đủ': 3, 'giúp': 1, 'thêm': 1, 'buổi': 3, 'trời': 8, 'ơi': 1, 'nhặt': 1, 'ngay': 7, 'tầm': 2, 'tay': 4, 'hàng': 6, 'trăm': 3, 'đẹp': 4, 'công': 4, 'phu': 1, 'mà': 9, 'thực': 4, 'cướp': 1, 'lời': 2, 'nhất': 2, 'hồn': 2, 'đúng': 1, 'nay': 2, 'các': 4, 'khác': 3, 'nào': 4, 'ít': 4, 'nhiều': 3, 'thích': 2, 'nhưng': 5, 'thể': 3, 'mười': 4, 'thiếu': 1, 'tờ': 3, 'đời': 3, 'con': 7, 'bản': 2, 'tính': 1, 'vốn': 1, 'lười': 1, 'biếng': 1, 'đôi': 3, 'mình': 3, 'hãy': 1, 'cứ': 4, 'rơi': 1, 'vào': 25, 'ép': 1, 'buộc': 1, 'khéo': 1, 'ngày': 5, 'vùng': 8, 'hà': 1, 'nội': 1, 'ngoài': 4, 'sáu': 2, 'cây': 6, 'số': 5, 'vác': 3, 'dải': 2, 'bờ': 5, 'cát': 5, 'nằm': 3, 'phục': 1, 'kích': 1, 'thiên': 1, 'khoảng': 4, 'giao': 1, 'điểm': 1, 'rạng': 1, 'đêm': 8, 'chưa': 3, 'tắt': 3, 'hẳn': 1, 'bấy': 1, 'đánh': 5, 'cá': 5, 'vó': 5, 'bè': 4, 'hiện': 1, 'mờ': 2, 'bình': 1, 'minh': 1, 'chuyến': 1, 'trở': 2, 'thăm': 2, 'chiến': 1, 'trường': 1, 'cũ': 1, 'đấy': 3, 'thằng': 7, 'bạn': 1, 'đồng': 2, 'hương': 2, 'đội': 2, 'từng': 4, 'nhau': 4, 'rừng': 6, 'a': 2, 'so': 2, 'trung': 1, 'phó': 1, 'binh': 1, 'nổi': 2, 'tiếng': 7, 'hay': 1, 'đùa': 1, 'tếu': 1, 'lạy': 1, 'ấy': 5, 'hắn': 3, 'tác': 2, 'nghiêm': 1, 'túc': 1, 'chẳng': 3, 'ai': 2, 'tưởng': 1, 'tượng': 1, 'chính': 2, 'tế': 1, 'đám': 4, 'lính': 1, 'thời': 3, 'chống': 1, 'mỹ': 1, 'nhăm': 2, 'thật': 10, 'chuyện': 1, 'trớ': 1, 'trêu': 1, 'bất': 2, 'ngờ': 1, 'mới': 6, 'phá': 5, 'đất': 2, 'liền': 1, 'chạy': 2, 'quanh': 2, 'quất': 1, 'chơi': 1, 'trò': 1, 'trốn': 2, 'tìm': 2, 'giữa': 8, 'thôn': 1, 'ổ': 1, 'chợ': 1, 'búa': 1, 'phạm': 1, 'vi': 1, 'chục': 2, 'nước': 8, 'thơ': 2, 'mộng': 1, 'khắp': 2, 'nơi': 2, 'nếu': 1, 'bãi': 4, 'xe': 3, 'tăng': 2, 'vứt': 3, 'hồi': 2, 'bẩy': 1, 'gần': 3, 'hơi': 2, 'mặn': 1, 'gặm': 1, 'mòn': 1, 'sét': 1, 'gỉ': 1, 'phẳng': 1, 'lặng': 1, 'tươi': 1, 'mát': 2, 'da': 1, 'thịt': 1, 'mùa': 3, 'ấp': 1, 'tâm': 1, 'ngây': 1, 'ngất': 1, 'bầu': 3, 'xanh': 2, 'biếc': 1, 'cao': 2, 'thẳm': 1, 'đượm': 1, 'xám': 2, 'hạ': 2, 'thấp': 1, 'xuống': 5, 'ngưng': 1, 'đọng': 1, 'lại;': 1, 'nghề': 2, 'tỏa': 1, 'bếp': 1, 'đứng': 4, 'im': 2, 'cáctông': 1, 'dán': 1, 'êm': 1, 'ả': 1, 'đầu': 5, 'suýt': 1, 'định': 3, 'đưa': 1, 'khung': 1, 'đẩy': 2, 'đóng': 2, 'xong': 1, 'thơm': 1, 'mùi': 2, 'gỗ': 2, 'lẫn': 1, 'dầu': 2, 'rái': 1, 'bé': 4, 'ngoại': 2, 'hình': 3, 'trai': 1, 'nhà': 3, 'chài': 1, 'gợi': 2, 'vẽ': 1, 'mũi': 3, 'trần': 2, 'lội': 1, 'lượn': 2, 'sóng': 5, 'bạc': 1, 'giang': 1, 'nắm': 1, 'phoi': 1, 'bào': 1, 'xa': 2, 'bố': 1, 'mẹ': 1, 'nó': 3, 'lớn': 2, 'xếp': 1, 'dọc': 1, 'ghé': 1, 'vai': 2, 'bên': 2, 'mạn': 1, 'cần': 1, 'đặc': 1, 'tả': 1, 'ngư': 1, 'phủ': 1, 'cùng': 4, 'chân': 2, 'to': 1, 'họ': 3, 'dậm': 1, 'lún': 1, 'vội': 1, 'khí': 1, 'vui': 1, 'nhộn': 1, 'thô': 1, 'lỗ': 1, 'hùng': 1, 'tráng': 1, 'thất': 1, 'bại': 1, 'sao': 3, 'ống': 1, 'khoảnh': 2, 'khắc': 1, 'đập': 1, 'vỡ': 1, 'tung': 1, 'toé': 1, 'bọt': 1, 'xoá': 1, 'mặc': 1, 'lý': 1, 'thú': 2, 'ngủ': 3, 'ven': 1, 'theo': 1, 'rủ': 1, 'rê': 1, 'xấu': 1, 'xí': 1, 'trí': 1, 'nhớ': 1, 'thường': 3, 'quần': 1, 'áo': 1, 'dính': 1, 'nhựa': 1, 'đứa': 1, 'cháu': 2, 'ông': 2, 'sơn': 2, 'tràng': 1, 'tận': 2, 'miền': 1, 'lái': 1, 'reo': 1, 'chở': 1, 'bán': 1, 'xưởng': 1, 'nhóc': 1, 'hiền': 1, 'triết': 1, 'kê': 1, 'ngón': 1, 'đan': 1, 'ngửa': 1, 'đăm': 2, 'hộp': 1, 'chờ': 2, 'vạc': 1, 'rất': 2, 'nhỏ': 1, 'kêu': 1, 'thảng': 1, 'thốt': 1, 'tít': 1, 'nghe': 5, 'vọng': 1, 'hồng': 2, 'hoang': 1, 'chung': 1, 'lau': 1, 'lách': 1, 'vỗ': 1, 'rồi': 1, 'cuối': 1, 'kiếm': 1, 'tha': 1, 'thẩn': 1, 'tuần': 1, 'lễ': 1, 'lưới': 4, 'nhập': 1, 'nhoạng': 1, 'cầm': 2, 'kinh': 1, 'nghiệm': 1, 'đều': 1, 'biết': 1, 'chết': 2, 'cháy': 1, 'tài': 1, 'quá': 1, 'khai': 1, 'thác': 1, 'chất': 1, 'tên': 1, 'tuổi': 1, 'xui': 1, 'khiến': 1, 'tự': 1, 'thách': 1, 'thức': 2, 'việc': 2, 'mạo': 1, 'hiểm': 1, 'lẽ': 1, 'hết': 4, 'do': 1, 'sự': 2, 'hấp': 1, 'dẫn': 1, 'náo': 1, 'nhiệt': 1, 'nhóm': 2, 'âm': 1, 'thanh': 1, 'ma': 1, 'quái': 1, 'tối': 1, 'quãng': 1, 'phác': 1, 'nép': 1, 'sườn': 1, 'say': 1, 'cặn': 1, 'kẽ': 1, 'giải': 1, 'cuộc': 3, 'sống': 2, 'giống': 1, 'chim': 1, 'giá': 1, 'rét': 1, 'lâu': 3, 'nháo': 1, 'nhác': 1, 'rời': 1, 'tổ': 2, 'xây': 1, 'lùm': 1, 'dẻ': 1, 'um': 1, 'tùm': 1, 'di': 1, 'cư': 1, 'trọn': 1, 'cuốn': 1, 'phim': 1, 'dịp': 1, 'hiểu': 1, 'chút': 1, 'hợp': 2, 'gồm': 1, 'bến': 1, 'bao': 1, 'liên': 1, 'kết': 2, 'hoặc': 2, 'vài': 1, 'mủng': 5, 'lênh': 1, 'đênh': 1, 'mênh': 1, 'mông': 1, 'cưới': 1, 'xin': 1, 'sinh': 1, 'đẻ': 1, 'nhắm': 1, 'xóm': 1, 'giềng': 1, 'quê': 1, 'quán': 1, 'cố': 1, 'dậy': 1, 'đàng': 1, 'đông': 1, 'nửa': 1, 'vòm': 1, 'lặn': 1, 'mây': 1, 'vỏ': 1, 'sò': 1, 'dần': 1, 'tuy': 1, 'gấp': 1, 'nếp': 1, 'lăn': 1, 'tăn': 1, 'thép': 1, 'dát': 1, 'màu': 2, 'đục': 1, 'tẻ': 1, 'nhạt': 1, 'ồ': 2, 'dội': 1, 'giấc': 1, 'đâu': 1, 'thít': 1, 'sứa': 1, 'khổng': 1, 'lồ': 1, 'giạt': 1, 'chỗ': 1, 'đèn': 1, 'măng': 1, 'sông': 1, 'treo': 1, 'thõng': 1, 'đợt': 1, 'thét': 1, 'vang': 1, 'phân': 1, 'xua': 1, 'phần': 1, 'đàn': 1, 'bà': 1, 'trẻ': 1, 'ngồi': 1, 'thả': 1, 'trôi': 1, 'lờ': 1, 'mé': 1, 'tản': 1, 'chợt': 1, 'bốn': 1, 'góc': 1, 'hối': 1, 'hả': 1, 'chèo': 3, 'cự': 1, 'ly': 1, 'mét': 1, 'buông': 1, 'vớ': 1, 'gióng': 1, 'tre': 1, 'khô': 1, 'gõ': 3, 'ầm': 2, 'dùng': 1, 'bơi': 1, 'thành': 1, 'miệng': 1, 'hét': 1, 'hới': 2, 'phút': 2, 'quỳ': 1, 'nền': 1, 'ướt': 1, 'đặt': 1, 'sát': 1, 'săn': 1, 'rình': 1, 'tuông': 1, 'khỏi': 1, 'cánh': 1, 'dâng': 1}\n"
     ]
    }
   ],
   "source": [
    "vanban = '''Trưởng phòng tôi là người sâu sắc, lại cũng lắm sáng kiến đến cái mức có khi bọn chúng tôi trong cơ quan phát mệt vì anh.\n",
    "Trước đây chừng dăm tháng, để chuẩn bị cho tấm lịch năm sau, anh tỏ ý không bằng lòng với cách làm ăn từ trước tới giờ - Sang năm chúng ta sẽ đem đến cho mỗi gia đình một bộ sưu tập chuyên đề về thuyền và biển - anh nói quả quyết - Thôi, bỏ cái lối mỗi thứ một tí đi. Phải có một bộ sưu tập chuyên đề. 12 tháng là 12 bức ảnh nghệ thuật về thuyền và biển. Không có người. Hoàn toàn thế giới tĩnh vật.\n",
    "Chúng tôi xách máy lên đường, suy nghĩ, chọn cảnh, bấm máy suốt năm tháng. Và tất cả những gì thu được bằng ánh sáng đen trắng trên giấy ảnh đang được bày ra la liệt trên hai chiếc bàn ghép lại, và quả tình lúc đó tôi đã lấy làm bằng lòng lắm, đoán chắc không còn phải xách máy đi chụp bổ sung như mọi năm nữa.\n",
    "Làn khói thuốc lá cuộn phun ra mù mịt trước cặp mắt đầy tinh khôn của trưởng phòng đang nheo lại sau mắt kính lão. Đột nhiên trưởng phòng quay sang phía tôi hỏi:\n",
    "- Bây giờ đã là tháng mấy nhỉ?\n",
    "- Tháng bảy. - Tôi đáp với một vẻ dè chừng.\n",
    "- Tháng này ở biển vẫn còn sương chứ?\n",
    "- Chỉ có bão táp với biển động. Muốn lấy sương thì phải nghĩ đến từ tháng ba cơ.\n",
    "- Này anh Phùng - trưởng phòng dường như đã nhìn thấy rõ mọi ý nghĩ ngần ngại của tôi, cho nên anh vừa nói vừa nhăn nhó cái mặt lộ vẻ đau khổ - tôi cho anh một tháng, một tháng là đủ chứ gì?... Anh giúp tôi thêm một cảnh buổi sáng có sương đi.\n",
    "- Trời ơi - tôi nhặt một bức ảnh ngay trong tầm tay - với hàng trăm bức ảnh đẹp, chụp công phu thế này mà anh... - Đẹp thì đẹp thực - anh cướp lời tôi - Và nhất là lại có hồn nữa. Đúng là những bức ảnh nghệ thuật. Nói thực tình năm nay các anh đi về, khác với những năm khác, tấm nào ít nhiều tôi cũng thích. Nhưng không thể chọn đủ cho mười hai tháng, vẫn đang còn thiếu một tờ.\n",
    "Ở đời cái gì cũng thế, con người bản tính vốn lười biếng, đôi khi mình hãy cứ để cho mình rơi vào hoàn cảnh bị ép buộc phải làm, không khéo lại làm được một cái gì. Năm ngày sau tôi đã có mặt ở một vùng biển cách Hà Nội ngoài sáu trăm cây số. Tôi vác máy tới một dải bờ cát nằm \"phục kích\" thiên nhiên ở cái khoảng giao điểm ngày vừa rạng, đêm chưa tắt hẳn, bấy giờ cũng là lúc những chiếc thuyền đánh cá bằng vó bè hiện ra trong khoảng mờ tỏ của bình minh.\n",
    "Thực ra đi chuyến này tôi có ý muốn trở về thăm một vùng chiến trường cũ ở đấy tôi có một thằng bạn vừa là đồng hương, vừa là đồng đội đã từng mười năm ở với nhau trên rừng A So, trước đây là một trung đội phó bộ binh nổi tiếng hay đùa tếu và bây giờ, lạy trời, ở ngay cái vùng biển ấy hắn ta đang làm một thứ công tác... nghiêm túc đến mức chẳng ai có thể tưởng tượng, chính hắn lại có thể làm nổi, mà trong thực tế hắn ta đã làm hai ba năm nay chứ không ít. Đời chúng tôi, cái đám lính của một thời chống Mỹ, từ sau bảy nhăm thật chẳng ít chuyện trớ trêu và bất ngờ.\n",
    "Thật ra ở đấy chưa phải là biển mà mới chỉ là một vùng phá ăn sâu vào đất liền, chạy quanh quất như chơi trò trốn tìm giữa các thôn, ổ, chợ búa trong một phạm vi hàng mấy chục cây số. Chẳng phải nói, cái vùng nước mà tôi vừa mới vác máy ảnh đến để chụp bổ sung cho bộ sưu tập thật là thơ mộng, và nhất là dường như trong suốt dải bờ biển của khắp cả nước, chỉ ở đây vào giữa tháng bảy là còn sương mù. Nơi đây, nếu bỏ ra ngoài tầm mắt những bãi xe tăng vứt lại hồi \"tháng ba bẩy nhăm\" (bây giờ sau gần mười năm, đã bị hơi nước mặn gặm mòn và làm cho sét gỉ), vùng phá nước có một cái gì đấy thật là phẳng lặng và tươi mát như da thịt của mùa thu đang ấp vào tâm hồn anh. Tôi trở nên ngây ngất vào mỗi buổi sáng, bầu trời không xanh biếc, cao thăm thẳm mà đượm một sắc giữa xanh và xám, bầu trời như hạ thấp xuống và như ngưng đọng lại; giữa trời và nước ấy chỉ có một chiếc thuyền của một gia đình làm nghề vó bè đang tỏa khói bếp giữa phá - chiếc thuyền đứng im như làm bằng các-tông dán vào cảnh vật êm ả.\n",
    "Hai ngày đầu, suýt nữa tôi đã quyết định đưa vào tờ lịch tháng bảy khung cảnh người ta đẩy một chiếc thuyền xuống nước. Đó là một chiếc thuyền mới đóng xong vẫn còn thơm mùi gỗ lẫn mùi dầu rái. Tôi đã chọn được một thằng bé khoảng lên năm có đầy đủ ngoại hình con trai một nhà hàng chài, lại có cặp mắt thật đen gợi cho tôi nghĩ đến con mắt người ta vẽ trên đầu mũi thuyền, thằng bé đánh trần, lội ra đứng giữa những lượn sóng bạc đầu giang tay vứt một nắm phoi bào ra thật xa. Trong khi đó, ở trên bờ, bố mẹ nó và những người lớn đứng xếp hàng dọc ghé vai vào hai bên mạn chiếc thuyền mới. Tôi chỉ cần chụp đặc tả những chiếc vai trần của ngư phủ cùng với một hàng bàn chân to bè của họ dậm lún vào cát.\n",
    "Nhưng tôi vội thôi ngay cảnh đẩy thuyền đầy không khí vui nhộn hơi thô lỗ và thật hùng tráng. Thất bại thấy trước là tôi đã không làm sao thu được vào ống kính khoảnh khắc chiếc thuyền đập mình xuống nước làm vỡ tung toé từng đám bọt sóng trắng xoá.\n",
    "Tôi cũng quyết định thôi không lấy cảnh sương và cát như trưởng phòng ở nhà đã gợi ý, mặc dầu có những đêm thật lý thú, tôi ra ngủ ngay giữa bãi cát ven bờ phá, theo lời rủ rê của một thằng bé mặt mũi xấu xí nhưng có một trí nhớ khác thường, quần áo dính đầy nhựa cây, nó là đứa cháu ngoại của một ông lão làm nghề sơn tràng ở tận trên miền rừng A So, hai ông cháu lái một chiếc xe Reo của gia đình chở gỗ về bán cho xưởng đóng thuyền. Trong những đêm như thế, thằng nhóc tận trên rừng xuống và tôi như hai nhà hiền triết nằm kê đầu trên mười ngón tay đan vào nhau, nằm ngửa sóng đôi bên nhau, mắt nhìn đăm đăm vào khoảng mờ trắng của sương đêm, cùng hồi hộp chờ một tiếng vạc rất nhỏ kêu thảng thốt trong bầu sương tít trên cao, nghe như vọng về từ một thời hồng hoang nào đó, cái thời chung quanh vùng biển này chỉ có lau lách và tiếng sóng vỗ, chưa có người.\n",
    "Thế rồi cuối cùng, tìm đi kiếm lại, vác máy ảnh tha thẩn suốt một tuần lễ, tôi quyết định thu vào tờ lịch tháng bảy của năm sau cảnh thuyền đánh cá thu lưới vào lúc nhập nhoạng sáng. Ai đã cầm máy ảnh có kinh nghiệm đều biết đó là một cảnh chết cháy - một đề tài đã có quá nhiều người khai thác, đã từng để lại những bức ảnh thật đẹp, đầy chất thơ của những người cầm máy ảnh có tên tuổi.\n",
    "Cái gì đã xui khiến tôi tự thách thức bằng cái việc mạo hiểm ấy? Có lẽ trước hết, không phải do sự hấp dẫn của hình ảnh mà chính là những tiếng động đầy vẻ náo nhiệt ở cách xa hàng cây số cũng nghe tiếng của một nhóm thuyền đánh cá đêm bằng vó bè. Tôi chỉ được nghe cái âm thanh của sự làm ăn có cái gì như ma quái ấy vào những đêm thật tối trời và chỉ được nghe thấy vào quãng gần sáng, vào lúc mà thằng Phác - thằng bé từ trên rừng \"hạ sơn\" xuống đã nép vào sườn tôi ngủ say như chết sau khi nó cặn kẽ giải thích cho tôi nghe cuộc sống của những giống chim trên rừng, trước mùa thu, trước mùa giá rét rất lâu, chúng đã nháo nhác rời tổ xây trên các lùm cây dẻ um tùm để làm những cuộc di cư.\n",
    "Không phải ngay trong mấy ngày đầu mới đến mà về sau, khi đã chụp trọn gần một cuốn phim, tôi mới có dịp hiểu đôi chút về cách làm ăn lâu đời của những \"tổ hợp tác\" gồm những chiếc thuyền đánh cá không có bến này. Bao giờ họ cũng chỉ liên kết với nhau chỉ trong một đêm hoặc một ngày chứ không lâu. Thường thường mỗi thuyền là một gia đình, ngoài thuyền lớn còn vài chiếc mủng để đi lại. Cuộc sống cứ lênh đênh khắp cả một vùng phá mênh mông. Cưới xin, sinh con đẻ cái, hoặc lúc nhắm mắt cũng chỉ trên một chiếc thuyền. Xóm giềng không có. Quê hương bản quán cả chục cây số trời nước chứ không cố kết vào một khoảnh đất nào.\n",
    "Vào một buổi sáng tôi thức dậy. Đàng đông đã sáng trắng. Trên một nửa vòm trời sao đã lặn hết. Những đám mây hình vỏ sò cứ hồng lên dần, trong khi đó, mặt biển tuy đã sáng rõ, đến cái mức đứng trong bờ cũng nhìn thấy từng đường gấp nếp lăn tăn trên mặt tấm thép dát màu xám đục, nhưng sao mà tẻ nhạt, tiếng sóng ồ ồ dội vào giấc ngủ suốt đêm chạy trốn đi đâu hết, biển im thít và không màu sắc, như một con sứa khổng lồ giạt vào bãi.\n",
    "Ngay chỗ bãi xe tăng nhìn ra, một nhóm chừng dăm chiếc thuyền vó vừa tắt đèn. Những chiếc măng sông treo thõng giữa lòng các tấm lưới đã tắt hết nhưng những đợt tiếng la thét vẫn cứ vang lên. Đó là đám người đã được phân công làm công việc xua cá vào lưới. Phần nhiều đàn bà, trẻ con, họ ngồi trên những chiếc mủng lúc nào cũng thả trôi lượn lờ mé ngoài. Có khi tản mát mỗi nơi một chiếc. Số mủng bất chợt được tập hợp lại, từ bốn góc hối hả chèo tới. Đến cự ly cách mũi thuyền chừng trăm mét, tất cả buông chèo vớ lấy hai gióng tre khô vứt trong lòng mủng gõ ầm ầm, có người dùng ngay bơi chèo gõ vào thành mủng, tay gõ miệng hét:\n",
    "- Hới, hới...\n",
    "Trong mấy cái phút ấy, tôi quỳ một chân trên nền cát ướt, máy đã đặt sát vào mắt như một người đi săn chỉ rình ít phút nữa con thú sẽ tuông ra khỏi cánh rừng, tôi chờ cái lúc năm sáu chiếc lưới vó cùng một lúc từ từ dâng lên.'''\n",
    "\n",
    "for i in ['.', ',', '?', '-', '!', '\"', ':',\"(\",\")\"]:\n",
    "    vanban = vanban.replace(i, '')\n",
    "    \n",
    "vanban = vanban.split()\n",
    "\n",
    "## vanban dang là một cái list\n",
    "## xây dựng một dictionary D để lưu trữ số lượng từ của các từ trong List\n",
    "\n",
    "D = {}\n",
    "for i in vanban:\n",
    "    i = i.lower()\n",
    "    if i not in D:\n",
    "        D[i] = 1\n",
    "    else:\n",
    "        D[i] += 1\n",
    "        \n",
    "print(D)\n",
    "\n",
    "# print(vanban)"
   ]
  },
  {
   "cell_type": "markdown",
   "id": "57c6f1e7",
   "metadata": {},
   "source": [
    "Viết chương trình cho phép người dùng quản lý sản phẩm, gồm các chức năng sau: \n",
    "\n",
    "- Hiển thị danh sách sản phẩm\n",
    "- Thêm sản phẩm mới vào danh sách\n",
    "- Sửa tên của sản phẩm trong danh sách\n",
    "- Xoá một sản phẩm khỏi danh sách"
   ]
  },
  {
   "cell_type": "code",
   "execution_count": null,
   "id": "8541b8c3",
   "metadata": {},
   "outputs": [],
   "source": [
    "### Đầu tiên in ra các nút chức năng:\n",
    "#### Nhập H - hiển thị sản phẩm\n",
    "#### Nhập T - thêm sản phẩm\n",
    "#### Nhập S - sửa sản phẩm\n",
    "#### Nhập X - xóa sản phẩm\n",
    "#### Nhập 0 để thoát chương trình\n",
    "\n",
    "#### Nếu nhập H thì hiển thị danh sách sản phẩm theo form:\n",
    "### ----------------\n",
    "###\n",
    "### 1:Phở bò\n",
    "### 2:Phở gà\n",
    "###\n",
    "### ----------------\n",
    "\n",
    "#### Nếu nhập T - thêm sản phẩm:\n",
    "###### Kêu cầu người dùng nhập vào ID (nếu nhập ID là 0 thì thoát chức năng)\n",
    "###### Nếu người dùng nhập ID đã tồn tại yêu cầu nhập lại cho đến khi nhập ID chưa tồn tại\n",
    "###### Nếu người dùng nhập ID chưa tồn tại, yêu cầu người dùng nhập tên sản phẩm rồi thêm sản phẩm vào danh sách\n",
    "\n",
    "#### Nếu nhập S - thêm sản phẩm:\n",
    "###### Kêu cầu người dùng nhập vào ID (nếu nhập ID là 0 thì thoát chức năng)\n",
    "###### Nếu người dùng nhập ID chưa tồn tại, yêu cầu người dùng nhập lại cho đến nhập ID đã tồn tại\n",
    "###### Nếu người dùng nhập ID đã tồn tại, yêu cầu người dùng nhập tên mới muốn sửa rồi sửa tên sản phẩm\n",
    "\n",
    "#### Nếu nhập X - xóa sản phẩm:\n",
    "###### Kêu cầu người dùng nhập vào ID (nếu nhập ID là 0 thì thoát chức năng)\n",
    "###### Nếu người dùng nhập ID chưa tồn tại, yêu cầu người dùng nhập lại cho đến nhập ID đã tồn tại\n",
    "###### Nếu người dùng nhập ID đã tồn tại, hỏi người dùng:\n",
    "###### Bạn có chắc muốn xóa sản phẩm này không? Nếu có gõ C, ngược lại gõ bất kỳ"
   ]
  }
 ],
 "metadata": {
  "kernelspec": {
   "display_name": "Python 3 (ipykernel)",
   "language": "python",
   "name": "python3"
  },
  "language_info": {
   "codemirror_mode": {
    "name": "ipython",
    "version": 3
   },
   "file_extension": ".py",
   "mimetype": "text/x-python",
   "name": "python",
   "nbconvert_exporter": "python",
   "pygments_lexer": "ipython3",
   "version": "3.10.4"
  }
 },
 "nbformat": 4,
 "nbformat_minor": 5
}
