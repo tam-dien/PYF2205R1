{
 "cells": [
  {
   "cell_type": "markdown",
   "id": "f13965b3",
   "metadata": {},
   "source": [
    "### Bài 1\n",
    "\n",
    "Viết hàm `tientaxi` tính tiền taxi với tham số đầu vào là số km đi được và trả về số tiền\n",
    "\n",
    "- 1km đầu là 15000.\n",
    "- Từ km thứ 2 đến km thứ 10 là 14000.\n",
    "- Từ km thứ 11 đến km thứ 20 là 12500.\n",
    "- Từ km thứ 21 đến km thứ 30 là 11000.\n",
    "- Trên 30km thì mỗi km tăng thêm là 9000."
   ]
  },
  {
   "cell_type": "code",
   "execution_count": 1,
   "id": "112a50d0",
   "metadata": {},
   "outputs": [
    {
     "name": "stdout",
     "output_type": "stream",
     "text": [
      "99000\n"
     ]
    }
   ],
   "source": [
    "def tientaxi(km):\n",
    "    if km == 1:\n",
    "        return 15000\n",
    "    if km <= 10:\n",
    "        return 15000 + (km-1)*14000\n",
    "    if km <= 20:\n",
    "        return 15000 + 9*14000 + (km-10)*12500\n",
    "    if km <= 30:\n",
    "        return 15000 + 9*14000 + 10*12500 + (km-20)*11000\n",
    "    return 15000 + 9*14000 + 10*12500 + 10*11000 + (km-30)*9000\n",
    "\n",
    "print(tientaxi(7))"
   ]
  },
  {
   "cell_type": "markdown",
   "id": "7c40ebdb",
   "metadata": {},
   "source": [
    "### Bài 2\n",
    "\n",
    "Một hãng cung cấp dịch vụ điện thoại khuyến khích người dùng đăng ký số thuê bao mới bằng cách, khi người dùng đến đăng ký thuê báo sẽ được tặng 2 số may mắn n và k, hãng sẽ khuyến mãi cho người đó số tiền vào tài khoản từ số n sau khi xóa k chữ số\n",
    "\n",
    "Hãy viết hàm `tienkm` cho vào n và k, trả về số lớn nhất có thể sau khi xóa k chữ số trong n"
   ]
  },
  {
   "cell_type": "code",
   "execution_count": 10,
   "id": "b8b6af8f",
   "metadata": {},
   "outputs": [
    {
     "name": "stdout",
     "output_type": "stream",
     "text": [
      "9876\n"
     ]
    }
   ],
   "source": [
    "n = 9287654 ## xóa k chữ số sao cho ra số mới lớn nhất\n",
    "k = 2\n",
    "\n",
    "def xoachuoi(s,i):\n",
    "    return s[:i] + s[i+1:]\n",
    "\n",
    "## so sánh 2 số kế nhau, nếu số đằng trước nhỏ hơn số đằng sau thì xóa số đằng trước\n",
    "def tienkm(n,k):\n",
    "    n = str(n)\n",
    "    for i in range(k):\n",
    "        for j in range(0,len(n)-1):\n",
    "            if n[j] < n[j+1]:\n",
    "                n = xoachuoi(n,j)\n",
    "                k -= 1\n",
    "                break\n",
    "    if k > 0:\n",
    "        n = n[:-k]\n",
    "    return n\n",
    "        \n",
    "print(tienkm(n,3))"
   ]
  },
  {
   "cell_type": "code",
   "execution_count": 11,
   "id": "cff07050",
   "metadata": {},
   "outputs": [
    {
     "name": "stdout",
     "output_type": "stream",
     "text": [
      "9876\n"
     ]
    }
   ],
   "source": [
    "n = 987654 ## xóa k chữ số sao cho ra số mới lớn nhất\n",
    "k = 2\n",
    "\n",
    "def xoachuoi(s,i):\n",
    "    return s[:i] + s[i+1:]\n",
    "\n",
    "## so sánh 2 số kế nhau, nếu số đằng trước nhỏ hơn số đằng sau thì xóa số đằng trước\n",
    "def tienkm(n,k):\n",
    "    n = str(n)\n",
    "    j = 0\n",
    "    while True:\n",
    "        if n[j] < n[j+1]:\n",
    "            n = xoachuoi(n,j)\n",
    "            k -= 1\n",
    "            if k == 0:\n",
    "                break\n",
    "        else:\n",
    "            j += 1\n",
    "            if j >= len(n) - 1:\n",
    "                break\n",
    "    if k > 0:\n",
    "        n = n[:-k]\n",
    "    return n\n",
    "        \n",
    "print(tienkm(n,3))"
   ]
  },
  {
   "cell_type": "code",
   "execution_count": 4,
   "id": "b903b501",
   "metadata": {},
   "outputs": [
    {
     "name": "stdout",
     "output_type": "stream",
     "text": [
      "75123\n"
     ]
    }
   ],
   "source": [
    "s = \"758123\"\n",
    "def xoachuoi(s,i):\n",
    "    ## viết giùm thầy hàm xóa ký tự trong chuỗi\n",
    "    return s[:i] + s[i+1:]\n",
    "\n",
    "s = xoachuoi(s,2)\n",
    "print(s)"
   ]
  },
  {
   "cell_type": "markdown",
   "id": "4c877020",
   "metadata": {},
   "source": [
    "### Bài 3\n",
    "\n",
    "Cấp số cộng là một dãy số mà kể từ số hạng thứ hai trở đi thì mỗi số hạng hơn số hạng liền trước của nó k đơn vị\n",
    "\n",
    "Ví dụ:\n",
    "- 2, 4, 6, 8, 10,.. là một cấp số cộng với k là 2\n",
    "- 3, 6, 9, 12,... là một cấp số cộng với k là 3\n",
    "\n",
    "Tí đã viết được 4 số là 1 cấp số cộng nhưng Tèo lại xóa đi mất 1 số\n",
    "\n",
    "Bạn hãy viết hàm `timcsc` cho vào 3 số hạng là 3 số còn lại của cấp số cộng, trả về số bị thiếu (trong trường hợp có 2 đáp án, trả về đáp án lớn nhất)\n",
    "\n",
    "Ví dụ:\n",
    "\n",
    "- timcsc(4,6,8) kết quả là 10\n",
    "- timcsc(10,1,4) kết quả là 7"
   ]
  },
  {
   "cell_type": "code",
   "execution_count": 9,
   "id": "6e1fcaf0",
   "metadata": {},
   "outputs": [
    {
     "name": "stdout",
     "output_type": "stream",
     "text": [
      "7\n"
     ]
    }
   ],
   "source": [
    "def timcsc(a,b,c):\n",
    "    if a > b:\n",
    "        a, b = b, a\n",
    "    if a > c:\n",
    "        a, c = c, a\n",
    "    if b > c:\n",
    "        b, c = c, b\n",
    "    if c - b == (b - a)*2:\n",
    "        return c - (b - a)\n",
    "    if (c - b)*2 == (b - a) or (c - b) == (b - a):\n",
    "        return a + c - b\n",
    "    return None\n",
    "\n",
    "print(timcsc(10,1,4))"
   ]
  }
 ],
 "metadata": {
  "kernelspec": {
   "display_name": "Python 3 (ipykernel)",
   "language": "python",
   "name": "python3"
  },
  "language_info": {
   "codemirror_mode": {
    "name": "ipython",
    "version": 3
   },
   "file_extension": ".py",
   "mimetype": "text/x-python",
   "name": "python",
   "nbconvert_exporter": "python",
   "pygments_lexer": "ipython3",
   "version": "3.10.4"
  }
 },
 "nbformat": 4,
 "nbformat_minor": 5
}
