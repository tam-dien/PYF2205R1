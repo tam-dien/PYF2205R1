{
 "cells": [
  {
   "cell_type": "markdown",
   "id": "5761f2a7",
   "metadata": {},
   "source": [
    "Hãy kiểm tra mảng số nguyên có tồn tại hai giá trị không liên tiếp hay không ?"
   ]
  },
  {
   "cell_type": "code",
   "execution_count": 3,
   "id": "a0acf4b7",
   "metadata": {},
   "outputs": [
    {
     "data": {
      "text/plain": [
       "True"
      ]
     },
     "execution_count": 3,
     "metadata": {},
     "output_type": "execute_result"
    }
   ],
   "source": [
    "## hai giá trị không ~~> 2 số 0 liên tiếp\n",
    "def check0(L):\n",
    "    for i in range(len(L)-1):\n",
    "        if L[i] == L[i+1] == 0:\n",
    "            return True\n",
    "    return False\n",
    "\n",
    "check0([6,7,8,4,6,0,0,7,2])"
   ]
  },
  {
   "cell_type": "markdown",
   "id": "ae867e74",
   "metadata": {},
   "source": [
    "Hãy kiểm tra mảng số nguyên có tồn tại giá trị chẵn hay không? Nếu không tồn tại giá trị chẵn trả về giá trị 0, hay ngược lại trả về 1."
   ]
  },
  {
   "cell_type": "code",
   "execution_count": null,
   "id": "1abdd057",
   "metadata": {},
   "outputs": [],
   "source": [
    "def ktchan(L):\n",
    "    for i in L:\n",
    "        if i % 2 == 0:\n",
    "            return 1\n",
    "    return 0"
   ]
  },
  {
   "cell_type": "markdown",
   "id": "5a49eda8",
   "metadata": {},
   "source": [
    "Hãy cho biết mảng các số nguyên có toàn số chẵn hay không? Nếu có tồn tại giá trị lẻ trả về giá trị 0, ngược lại trả về 1."
   ]
  },
  {
   "cell_type": "code",
   "execution_count": null,
   "id": "9b4d2f7d",
   "metadata": {},
   "outputs": [],
   "source": [
    "def kttoanchan(L):\n",
    "    for i in L:\n",
    "        if i % 2 != 0:\n",
    "            return 0\n",
    "    return 1"
   ]
  },
  {
   "cell_type": "markdown",
   "id": "a736df1e",
   "metadata": {},
   "source": [
    "Hãy kiểm tra mảng một chiều các số thực có đối xứng hay không?"
   ]
  },
  {
   "cell_type": "code",
   "execution_count": null,
   "id": "c360bf6e",
   "metadata": {},
   "outputs": [],
   "source": [
    "def ktdoixung(L):\n",
    "    for i in range(len(L)//2):\n",
    "        if L[i] != L[-1-i]:\n",
    "            return False\n",
    "    return True"
   ]
  },
  {
   "cell_type": "markdown",
   "id": "975b9821",
   "metadata": {},
   "source": [
    "Ta định nghĩa một mảng có tính chẵn lẻ, khi tổng của hai phần tử liên tiếp trong mảng luôn luôn là số lẻ. Hãy viết hàm kiểm tra mảng a có tính chẵn lẻ hay không?"
   ]
  },
  {
   "cell_type": "code",
   "execution_count": null,
   "id": "7ec6108e",
   "metadata": {},
   "outputs": [],
   "source": [
    "def ktchanle(L):\n",
    "    for i in range(len(L)-1):\n",
    "        if (L[i]+L[i+1]) % 2 == 0:\n",
    "            return False\n",
    "    return True"
   ]
  },
  {
   "cell_type": "markdown",
   "id": "434a04e0",
   "metadata": {},
   "source": [
    "Hãy kiểm tra mảng có tăng dần hay không?"
   ]
  },
  {
   "cell_type": "code",
   "execution_count": null,
   "id": "ba375910",
   "metadata": {},
   "outputs": [],
   "source": [
    "def kttangdan(L):\n",
    "    for i in range(len(L)-1):\n",
    "        if L[i+1] < L[i]:\n",
    "            return False\n",
    "    return True"
   ]
  },
  {
   "cell_type": "markdown",
   "id": "2dca9538",
   "metadata": {},
   "source": [
    "Hãy kiểm tra mảng có giảm dần hay không?"
   ]
  },
  {
   "cell_type": "code",
   "execution_count": null,
   "id": "eb5154cc",
   "metadata": {},
   "outputs": [],
   "source": [
    "def ktgiamdan(L):\n",
    "    for i in range(len(L)-1):\n",
    "        if L[i+1] > L[i]:\n",
    "            return False\n",
    "    return True"
   ]
  },
  {
   "cell_type": "markdown",
   "id": "24dd211d",
   "metadata": {},
   "source": [
    "Hãy cho biết các phần tử trong mảng có lập thành cấp số cộng không? Nếu có hãy chỉ ra công sai d"
   ]
  },
  {
   "cell_type": "code",
   "execution_count": null,
   "id": "e9dda389",
   "metadata": {},
   "outputs": [],
   "source": [
    "def ktcapsocong(L): ## nếu không phải cấp số cộng ~~> trả về false, ngược lại trả về công sai d\n",
    "    L.sort() ## đây là hàm sắp xếp\n",
    "    d = L[1] - L[0]\n",
    "    for i in range(1,len(L)-1):\n",
    "        if L[i+1] - L[i] != d:\n",
    "            return False\n",
    "    return d"
   ]
  },
  {
   "cell_type": "markdown",
   "id": "19be5057",
   "metadata": {},
   "source": [
    "Hãy cho biết các phần tử trong mảng có bằng nhau không?"
   ]
  },
  {
   "cell_type": "code",
   "execution_count": null,
   "id": "1ff05a5d",
   "metadata": {},
   "outputs": [],
   "source": [
    "def checkbang(L):\n",
    "    for i in range(len(L)-1):\n",
    "        if L[i] != L[i+1]: \n",
    "            return False\n",
    "    return True"
   ]
  },
  {
   "cell_type": "markdown",
   "id": "58268599",
   "metadata": {},
   "source": [
    "Người ta định nghĩa một mảng được gọi là “dạng sóng” khi phần tử có giá trị số I lớn hơn hoặc nhỏ hơn hai phần tử xung quanh nó. Hãy viết hàm kiểm tra trong a sóng hay không?"
   ]
  },
  {
   "cell_type": "code",
   "execution_count": null,
   "id": "1572fb15",
   "metadata": {},
   "outputs": [],
   "source": [
    "def check_wave(L):\n",
    "    for i in range(1,len(L)-1):\n",
    "        if (L[i+1] - L[i])*(L[i] - L[i-1]) >= 0:\n",
    "            return False\n",
    "    return True"
   ]
  },
  {
   "cell_type": "markdown",
   "id": "3a06a75d",
   "metadata": {},
   "source": [
    "Hãy đếm số lượng giá trị trong mảng thỏa tính chất: “lớn hơn tất cả các giá trị đứng đằng trước nó”"
   ]
  },
  {
   "cell_type": "code",
   "execution_count": 1,
   "id": "33f9e4a3",
   "metadata": {
    "scrolled": false
   },
   "outputs": [
    {
     "name": "stdout",
     "output_type": "stream",
     "text": [
      "4\n"
     ]
    }
   ],
   "source": [
    "def demsl(L):\n",
    "    m = None\n",
    "    count = 0\n",
    "    for i in L:\n",
    "        if m == None or i > m:\n",
    "            count += 1\n",
    "            m = i\n",
    "    return count\n",
    "\n",
    "L = [3,5,1,2,4,8,9]\n",
    "print(demsl(L))"
   ]
  },
  {
   "cell_type": "markdown",
   "id": "09720f79",
   "metadata": {},
   "source": [
    "Hãy trộn hai mảng tăng dần lại thành 1 mảng được sắp thứ tự tăng dần"
   ]
  },
  {
   "cell_type": "code",
   "execution_count": 8,
   "id": "d91a0d7c",
   "metadata": {},
   "outputs": [
    {
     "ename": "IndexError",
     "evalue": "list index out of range",
     "output_type": "error",
     "traceback": [
      "\u001b[1;31m---------------------------------------------------------------------------\u001b[0m",
      "\u001b[1;31mIndexError\u001b[0m                                Traceback (most recent call last)",
      "\u001b[1;32m~\\AppData\\Local\\Temp/ipykernel_21404/1756243669.py\u001b[0m in \u001b[0;36m<module>\u001b[1;34m\u001b[0m\n\u001b[0;32m     14\u001b[0m \u001b[0mL\u001b[0m \u001b[1;33m=\u001b[0m \u001b[1;33m[\u001b[0m\u001b[1;36m1\u001b[0m\u001b[1;33m,\u001b[0m\u001b[1;36m2\u001b[0m\u001b[1;33m,\u001b[0m\u001b[1;36m3\u001b[0m\u001b[1;33m,\u001b[0m\u001b[1;36m5\u001b[0m\u001b[1;33m,\u001b[0m\u001b[1;36m7\u001b[0m\u001b[1;33m]\u001b[0m\u001b[1;33m\u001b[0m\u001b[1;33m\u001b[0m\u001b[0m\n\u001b[0;32m     15\u001b[0m \u001b[0mK\u001b[0m \u001b[1;33m=\u001b[0m \u001b[1;33m[\u001b[0m\u001b[1;36m4\u001b[0m\u001b[1;33m,\u001b[0m\u001b[1;36m6\u001b[0m\u001b[1;33m,\u001b[0m\u001b[1;36m8\u001b[0m\u001b[1;33m,\u001b[0m\u001b[1;36m12\u001b[0m\u001b[1;33m,\u001b[0m\u001b[1;36m15\u001b[0m\u001b[1;33m,\u001b[0m\u001b[1;36m18\u001b[0m\u001b[1;33m]\u001b[0m\u001b[1;33m\u001b[0m\u001b[1;33m\u001b[0m\u001b[0m\n\u001b[1;32m---> 16\u001b[1;33m \u001b[0mfusionlist\u001b[0m\u001b[1;33m(\u001b[0m\u001b[0mK\u001b[0m\u001b[1;33m,\u001b[0m\u001b[0mL\u001b[0m\u001b[1;33m)\u001b[0m\u001b[1;33m\u001b[0m\u001b[1;33m\u001b[0m\u001b[0m\n\u001b[0m\u001b[0;32m     17\u001b[0m \u001b[0mprint\u001b[0m\u001b[1;33m(\u001b[0m\u001b[0mL\u001b[0m\u001b[1;33m,\u001b[0m\u001b[0mK\u001b[0m\u001b[1;33m)\u001b[0m\u001b[1;33m\u001b[0m\u001b[1;33m\u001b[0m\u001b[0m\n",
      "\u001b[1;32m~\\AppData\\Local\\Temp/ipykernel_21404/1756243669.py\u001b[0m in \u001b[0;36mfusionlist\u001b[1;34m(L, K)\u001b[0m\n\u001b[0;32m      4\u001b[0m     \u001b[0mL_kq\u001b[0m \u001b[1;33m=\u001b[0m \u001b[1;33m[\u001b[0m\u001b[1;33m]\u001b[0m\u001b[1;33m\u001b[0m\u001b[1;33m\u001b[0m\u001b[0m\n\u001b[0;32m      5\u001b[0m     \u001b[1;32mwhile\u001b[0m \u001b[0mL\u001b[0m \u001b[1;33m!=\u001b[0m \u001b[1;33m[\u001b[0m\u001b[1;33m]\u001b[0m \u001b[1;32mor\u001b[0m \u001b[0mK\u001b[0m \u001b[1;33m!=\u001b[0m \u001b[1;33m[\u001b[0m\u001b[1;33m]\u001b[0m\u001b[1;33m:\u001b[0m\u001b[1;33m\u001b[0m\u001b[1;33m\u001b[0m\u001b[0m\n\u001b[1;32m----> 6\u001b[1;33m         \u001b[1;32mif\u001b[0m \u001b[0mL\u001b[0m \u001b[1;33m!=\u001b[0m \u001b[1;33m[\u001b[0m\u001b[1;33m]\u001b[0m \u001b[1;32mand\u001b[0m \u001b[0mL\u001b[0m\u001b[1;33m[\u001b[0m\u001b[1;36m0\u001b[0m\u001b[1;33m]\u001b[0m \u001b[1;33m<\u001b[0m \u001b[0mK\u001b[0m\u001b[1;33m[\u001b[0m\u001b[1;36m0\u001b[0m\u001b[1;33m]\u001b[0m\u001b[1;33m:\u001b[0m\u001b[1;33m\u001b[0m\u001b[1;33m\u001b[0m\u001b[0m\n\u001b[0m\u001b[0;32m      7\u001b[0m             \u001b[0mL_kq\u001b[0m\u001b[1;33m.\u001b[0m\u001b[0mappend\u001b[0m\u001b[1;33m(\u001b[0m\u001b[0mL\u001b[0m\u001b[1;33m[\u001b[0m\u001b[1;36m0\u001b[0m\u001b[1;33m]\u001b[0m\u001b[1;33m)\u001b[0m\u001b[1;33m\u001b[0m\u001b[1;33m\u001b[0m\u001b[0m\n\u001b[0;32m      8\u001b[0m             \u001b[0mL\u001b[0m\u001b[1;33m.\u001b[0m\u001b[0mpop\u001b[0m\u001b[1;33m(\u001b[0m\u001b[1;36m0\u001b[0m\u001b[1;33m)\u001b[0m\u001b[1;33m\u001b[0m\u001b[1;33m\u001b[0m\u001b[0m\n",
      "\u001b[1;31mIndexError\u001b[0m: list index out of range"
     ]
    }
   ],
   "source": [
    "def fusionlist(L,K):\n",
    "    L = L.copy()\n",
    "    K = K.copy()\n",
    "    L_kq = []\n",
    "    while L != [] or K != []:\n",
    "        if L != [] and L[0] < K[0]:\n",
    "            L_kq.append(L[0])\n",
    "            L.pop(0)\n",
    "        else:\n",
    "            L_kq.append(0)\n",
    "            K.pop(0)\n",
    "    return L_kq\n",
    "\n",
    "L = [1,2,3,5,7]\n",
    "K = [4,6,8,12,15,18]\n",
    "fusionlist(K,L)\n",
    "print(L,K)"
   ]
  },
  {
   "cell_type": "code",
   "execution_count": 9,
   "id": "e564600c",
   "metadata": {
    "scrolled": true
   },
   "outputs": [
    {
     "name": "stdout",
     "output_type": "stream",
     "text": [
      "[1, 2, 3, 4, 5, 6, 7, 8, 12, 15, 18]\n"
     ]
    }
   ],
   "source": [
    "def fusionlist(L,K):\n",
    "    i = 0\n",
    "    j = 0\n",
    "    L_kq = []\n",
    "    while True:\n",
    "        if i == len(L) and j == len(K): return L_kq\n",
    "        if i == len(L) or (j < len(K) and L[i] > K[j]):\n",
    "            L_kq.append(K[j])\n",
    "            j += 1\n",
    "        else:\n",
    "            L_kq.append(L[i])\n",
    "            i += 1\n",
    "    \n",
    "L = [1,2,3,5,7]\n",
    "K = [4,6,8,12,15,18]\n",
    "print(fusionlist(K,L))"
   ]
  },
  {
   "cell_type": "markdown",
   "id": "c2a03df7",
   "metadata": {},
   "source": [
    "Hãy đưa các số chẵn trong mảng về đầu mảng, số lẻ về cuối mảng và các phần tử 0 năm ở giữa"
   ]
  },
  {
   "cell_type": "code",
   "execution_count": 10,
   "id": "2595ba23",
   "metadata": {},
   "outputs": [
    {
     "name": "stdout",
     "output_type": "stream",
     "text": [
      "[2, 4, 6, 8, 12, 18, 0, 0, 1, 3, 5, 7, 15]\n"
     ]
    }
   ],
   "source": [
    "def sapxepdacbiet(L):\n",
    "    L_chan = []\n",
    "    L_le = []\n",
    "    L_khong = []\n",
    "    for i in L:\n",
    "        if i == 0: L_khong.append(i)\n",
    "        elif i % 2 == 0: L_chan.append(i)\n",
    "        else: L_le.append(i)\n",
    "    return L_chan + L_khong + L_le\n",
    "\n",
    "print(sapxepdacbiet([1, 2, 3, 4, 5,0,0, 6, 7, 8, 12, 15, 18]))"
   ]
  },
  {
   "cell_type": "markdown",
   "id": "88a5356c",
   "metadata": {},
   "source": [
    "Hãy đưa các số chia hết cho 3 về đầu mảng"
   ]
  },
  {
   "cell_type": "code",
   "execution_count": 15,
   "id": "2015e143",
   "metadata": {},
   "outputs": [
    {
     "name": "stdout",
     "output_type": "stream",
     "text": [
      "[3, 0, 6, 12, 18, 1, 2, 4, 5, 0, 7, 8, 15]\n"
     ]
    }
   ],
   "source": [
    "def sapxepchia3(L):\n",
    "    L = L.copy()\n",
    "    L_chia3 = []\n",
    "    for i in L:\n",
    "        if i % 3 == 0:\n",
    "            L_chia3.append(i)\n",
    "            L.remove(i)\n",
    "    return L_chia3 + L\n",
    "\n",
    "print(sapxepchia3([1, 2, 3, 4, 5,0,0, 6, 7, 8, 12, 15, 18]))"
   ]
  },
  {
   "cell_type": "markdown",
   "id": "873d2a46",
   "metadata": {},
   "source": [
    "Hãy xuất mảng theo yêu cầu: các phần tử chẵn nằm trên một hàng, các phần tử lẻ nằm ở hàng tiếp theo"
   ]
  },
  {
   "cell_type": "code",
   "execution_count": 17,
   "id": "99109b77",
   "metadata": {},
   "outputs": [
    {
     "name": "stdout",
     "output_type": "stream",
     "text": [
      "[2, 4, 0, 0, 6, 8, 12, 18]\n",
      "[1, 3, 5, 7, 15]\n"
     ]
    }
   ],
   "source": [
    "def inL(L):\n",
    "    L_chan = []\n",
    "    L_le = []\n",
    "    for i in L:\n",
    "        if i % 2 == 0:\n",
    "            L_chan.append(i)\n",
    "        else:\n",
    "            L_le.append(i)\n",
    "    print(L_chan)\n",
    "    print(L_le)\n",
    "    \n",
    "inL([1, 2, 3, 4, 5,0,0, 6, 7, 8, 12, 15, 18])"
   ]
  },
  {
   "cell_type": "markdown",
   "id": "5e2c226d",
   "metadata": {},
   "source": [
    "Hãy biến đổi mảng bằng cách thay các giá trị lớn nhất bằng giá trị nhỏ nhất và ngược lại"
   ]
  },
  {
   "cell_type": "code",
   "execution_count": 23,
   "id": "62eefa1a",
   "metadata": {},
   "outputs": [
    {
     "name": "stdout",
     "output_type": "stream",
     "text": [
      "[1, 2, 3, 4, 5, None, 0, 6, 7, 8, 12, 15, 18, None]\n",
      "[1, 2, 3, 4, 5, None, None, 6, 7, 8, 12, 15, None, None]\n",
      "[None, 2, 3, 4, 5, None, None, 6, 7, 8, 12, None, None, None]\n",
      "[None, None, 3, 4, 5, None, None, 6, 7, 8, None, None, None, None]\n",
      "[None, None, None, 4, 5, None, None, 6, 7, None, None, None, None, None]\n",
      "[None, None, None, None, 5, None, None, 6, None, None, None, None, None, None]\n",
      "[None, None, None, None, None, None, None, None, None, None, None, None, None, None]\n",
      "[15, 12, 8, 7, 6, 19, 18, 5, 4, 3, 2, 1, 0, 0]\n"
     ]
    }
   ],
   "source": [
    "### đổi chỗ trị lớn nhất và giá trị nhỏ nhất\n",
    "### đổi chỗ trị lớn nhì và giá trị nhỏ nhì\n",
    "### đổi chỗ trị lớn ba và giá trị nhỏ ba\n",
    "### đổi chỗ trị lớn tư và giá trị nhỏ tư\n",
    "\n",
    "def timmaxmin(L):\n",
    "    ### trả về trị của max và min, trong list sẽ có những giá trị None\n",
    "    ma = None\n",
    "    mi = None\n",
    "    for i in range(len(L)):\n",
    "        if L[i] != None:\n",
    "            if ma == None or L[i] > L[ma]:\n",
    "                ma = i\n",
    "            if mi == None or L[i] < L[mi]:\n",
    "                mi = i\n",
    "    return ma,mi\n",
    "\n",
    "def sapxepmaxmin(L):\n",
    "    L = L.copy()\n",
    "    L_kq = L.copy()\n",
    "    while True:\n",
    "        ma,mi = timmaxmin(L)\n",
    "        if ma == mi: return L_kq\n",
    "        L[ma] = L[mi] = None\n",
    "        print(L)\n",
    "        L_kq[ma],L_kq[mi] = L_kq[mi],L_kq[ma]\n",
    "        \n",
    "print(sapxepmaxmin([1, 2, 3, 4, 5,0,0, 6, 7, 8, 12, 15, 18,19]))"
   ]
  },
  {
   "cell_type": "markdown",
   "id": "4c5e92fa",
   "metadata": {},
   "source": [
    "Hãy đảo ngược thứ tự các số chẵn và các số lẻ trong mảng mà vẫn giữ nguyên vị trí tương đối của chúng"
   ]
  },
  {
   "cell_type": "code",
   "execution_count": null,
   "id": "0d6ba5f3",
   "metadata": {},
   "outputs": [],
   "source": [
    "[2,5,7,14] ~~> [5,2,14,7]\n",
    "## List phải có số lượng số lẻ bằng với số lượng số chẳn"
   ]
  }
 ],
 "metadata": {
  "kernelspec": {
   "display_name": "Python 3 (ipykernel)",
   "language": "python",
   "name": "python3"
  },
  "language_info": {
   "codemirror_mode": {
    "name": "ipython",
    "version": 3
   },
   "file_extension": ".py",
   "mimetype": "text/x-python",
   "name": "python",
   "nbconvert_exporter": "python",
   "pygments_lexer": "ipython3",
   "version": "3.10.4"
  }
 },
 "nbformat": 4,
 "nbformat_minor": 5
}
