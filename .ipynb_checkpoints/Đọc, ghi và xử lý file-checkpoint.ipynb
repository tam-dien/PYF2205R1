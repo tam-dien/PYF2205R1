{
 "cells": [
  {
   "cell_type": "code",
   "execution_count": 20,
   "id": "756bead8",
   "metadata": {},
   "outputs": [
    {
     "name": "stdout",
     "output_type": "stream",
     "text": [
      "42\n"
     ]
    }
   ],
   "source": [
    "## xử lý file txt\n",
    "\n",
    "## có nhiều mode để mở file\n",
    "## mở file để đọc ~~> r (read)\n",
    "\n",
    "f = open(\"demodocfile.txt\",\"r\",encoding = \"utf8\") ## nếu muốn đọc hay ghi file có tiếng việt thì phải có encoding utf8\n",
    "\n",
    "noidung = f.read() ### hàm này sẽ trả về chuỗi\n",
    "\n",
    "noidung = noidung.split() ### lệnh split chuyển từ chuỗi sangggggggggggggggggggggggggggg list\n",
    "\n",
    "tong = 0\n",
    "for i in noidung:\n",
    "    tong += int(i)\n",
    "\n",
    "print(tong)"
   ]
  },
  {
   "cell_type": "code",
   "execution_count": 35,
   "id": "31ea6687",
   "metadata": {},
   "outputs": [
    {
     "name": "stdout",
     "output_type": "stream",
     "text": [
      "3\n",
      "\n",
      "['5\\n', '7\\n', '12\\n', '15']\n"
     ]
    }
   ],
   "source": [
    "f = open(\"demodocfile.txt\",\"r\",encoding = \"utf8\")\n",
    "\n",
    "noidung1 = f.readline() ## lệnh này trả về chuỗi\n",
    "noidung2 = f.readlines() ## lệnh này trả về list\n",
    "\n",
    "\n",
    "print(noidung1)\n",
    "print(noidung2)"
   ]
  },
  {
   "cell_type": "code",
   "execution_count": 44,
   "id": "81fcacc4",
   "metadata": {},
   "outputs": [
    {
     "name": "stdout",
     "output_type": "stream",
     "text": [
      "['diennt', 'ngocpham', 'thanhbinh']\n",
      "['123456abc', 'yeuthamlong', '456abc']\n",
      "Mời nhập tài khoản: sad\n",
      "Mời nhập mật khẩu: 12345\n",
      "Tài khoản chưa được đăng ký\n"
     ]
    }
   ],
   "source": [
    "f = open(\"userdata.txt\",\"r\")\n",
    "\n",
    "data = f.readlines()\n",
    "\n",
    "#### yêu cầu người dùng nhập vào user và password, nếu người dùng nhập đúng password và user nằm trong file userdata thì\n",
    "## in ra thông báo đăng nhập thành công\n",
    "#### ngược lại, in ra thông báo đăng nhập thất bại\n",
    "\n",
    "L_user = []\n",
    "L_password = []\n",
    "\n",
    "for i in range(len(data)):\n",
    "    if i % 2 == 0:\n",
    "        L_user.append(data[i].strip()) ## lệnh strip sẽ xóa bỏ đi ký tự \\n\n",
    "    else:\n",
    "        L_password.append(data[i].strip())\n",
    "        \n",
    "print(L_user)\n",
    "print(L_password)\n",
    "\n",
    "account = input(\"Mời nhập tài khoản: \")\n",
    "password = input(\"Mời nhập mật khẩu: \")\n",
    "\n",
    "if account in L_user:\n",
    "    i = L_user.index(account)\n",
    "    if password == L_password[i]:\n",
    "        print(\"Đăng nhập thành công\")\n",
    "    else:\n",
    "        print(\"Sai tên mật khẩu\")\n",
    "else:\n",
    "    print(\"Tài khoản chưa được đăng ký\")\n"
   ]
  },
  {
   "cell_type": "code",
   "execution_count": 54,
   "id": "6010a5e9",
   "metadata": {},
   "outputs": [],
   "source": [
    "## ghi file thì mở file với mode w (write)\n",
    "\n",
    "f = open(\"demoghifile.txt\",\"w\",encoding = 'utf8')\n",
    "\n",
    "## mode w:\n",
    "#### nếu file chưa tồn tại ~~> tạo file\n",
    "#### nếu file đã tồn tại ~~> xóa toàn bộ nội dung trong file\n",
    "\n",
    "f.write(\"hello các bạn\\nhi các bạn\")\n",
    "\n",
    "f.close()"
   ]
  },
  {
   "cell_type": "code",
   "execution_count": 62,
   "id": "6e11d38d",
   "metadata": {},
   "outputs": [],
   "source": [
    "## thêm file thì mở file với mode a (append)\n",
    "\n",
    "f = open(\"demoghifile.txt\",\"a\",encoding = 'utf8')\n",
    "\n",
    "## mode w:\n",
    "#### nếu file chưa tồn tại ~~> tạo file\n",
    "#### nếu file đã tồn tại ~~> giữ nguyên nội dung file và ghi tiếp\n",
    "\n",
    "f.write(\"bla bla\\n\")\n",
    "\n",
    "f.close()"
   ]
  },
  {
   "cell_type": "code",
   "execution_count": null,
   "id": "e3002ab4",
   "metadata": {},
   "outputs": [],
   "source": [
    "### form đăng ký\n",
    "### nhập user và password\n",
    "\n",
    "\n",
    "#### kiểm tra xem user đã tồn tại hay chưa, nếu chưa thì tạo tài khoản với user và password\n",
    "#### rồi in ra dòng chữ đăng ký thành công\n",
    "#### nếu user đã tồn tại thì in ra dòng chữ user đã tồn tại\n",
    "\n",
    "f = open(\"userdata.txt\",\"r\")"
   ]
  }
 ],
 "metadata": {
  "kernelspec": {
   "display_name": "Python 3 (ipykernel)",
   "language": "python",
   "name": "python3"
  },
  "language_info": {
   "codemirror_mode": {
    "name": "ipython",
    "version": 3
   },
   "file_extension": ".py",
   "mimetype": "text/x-python",
   "name": "python",
   "nbconvert_exporter": "python",
   "pygments_lexer": "ipython3",
   "version": "3.10.4"
  }
 },
 "nbformat": 4,
 "nbformat_minor": 5
}
