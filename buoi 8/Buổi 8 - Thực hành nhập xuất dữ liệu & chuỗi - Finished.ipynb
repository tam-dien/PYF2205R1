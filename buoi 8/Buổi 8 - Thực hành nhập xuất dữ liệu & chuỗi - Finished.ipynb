{
 "cells": [
  {
   "cell_type": "markdown",
   "id": "5bc93fb0",
   "metadata": {},
   "source": [
    "# Thực hành nhập xuất dữ liệu & chuỗi\n",
    "\n",
    "### Bài tập tra cứu lệnh\n",
    "\n",
    "Nhập vào một chuỗi, kiểm tra xem chuỗi đó có ký tự nào là chữ in hoa hay không, nếu có thì in True, không có thì in False"
   ]
  },
  {
   "cell_type": "code",
   "execution_count": null,
   "id": "4b3df2ba",
   "metadata": {},
   "outputs": [],
   "source": [
    "## chuỗi có ký tự nào là chữ in hoa hay không???\n",
    "## chuỗi chỉ cần 1 chữ in hoa thì mình in ra True\n",
    "## chuỗi không có bất kỳ chữ in hoa nào thì in ra False\n",
    "\n",
    "## lệnh isupper() sẽ trả về True nếu tất cả các ký tự trong chuỗi là chữ in hoa\n",
    "## lệnh islower() sẽ trả về True nếu tất cả các ký tự trong chuỗi là chữ in thường\n",
    "\n",
    "## điều kiện đề yêu cầu trả về True khi mà chuỗi có ít nhất 1 chữ in hoa\n",
    "## lệnh is.lower sẽ trả về False khi có ít nhất 1 chữ in hoa\n",
    "\n",
    "## điều kiện đề yêu cầu trả về False khi mà chuỗi có toàn bộ chữ in thường (không có chữ in hoa nào)\n",
    "## lệnh is.lower sẽ trả về True khi mà chuỗi có toàn bộ chữ in thường (không có chữ in hoa nào)\n",
    "\n",
    "## điều kiện đề và lệnh is.lower() NGƯỢC NHAU\n",
    "\n",
    "chuoi = input(\"Nhập vào chuỗi:\")\n",
    "print(not chuoi.islower())"
   ]
  },
  {
   "cell_type": "markdown",
   "id": "e14eae7c",
   "metadata": {},
   "source": [
    "Nhập vào một chuỗi, kiểm tra xem chuỗi đó có ký tự nào là chữ in thường hay không, nếu có thì in True, không có thì in False"
   ]
  },
  {
   "cell_type": "code",
   "execution_count": null,
   "id": "ab00180c",
   "metadata": {},
   "outputs": [],
   "source": [
    "chuoi = input(\"Nhập vào chuỗi:\")\n",
    "print(not chuoi.isupper())"
   ]
  },
  {
   "cell_type": "markdown",
   "id": "eab86ecf",
   "metadata": {},
   "source": [
    "Nhập vào một chuỗi a và chuỗi b, tìm vị trí đầu tiên xuất hiện chuỗi b trong chuỗi a"
   ]
  },
  {
   "cell_type": "code",
   "execution_count": null,
   "id": "051eb4af",
   "metadata": {},
   "outputs": [],
   "source": [
    "a = input('Nhập a: ')\n",
    "b = input('Nhập b: ')\n",
    "print(a.find(b)) ## Nếu find không tìm được b bên trong a thì sẽ TRẢ VỀ kết quả -1 (không báo lỗi)\n",
    "print(a.rfind(b)) ## rfind = right find tìm b trong a nhưng trả về ở vị trí cuối cùng\n",
    "print(a.index(b)) ## Nếu index không tìm được b bên trong a thì sẽ BÁO LỖI"
   ]
  },
  {
   "cell_type": "markdown",
   "id": "9239bc4e",
   "metadata": {},
   "source": [
    "Nhập vào một chuỗi a, hãy xóa từ đầu tiên trong chuỗi a, rồi in ra màn hình"
   ]
  },
  {
   "cell_type": "code",
   "execution_count": null,
   "id": "90967cd9",
   "metadata": {},
   "outputs": [],
   "source": [
    "## xóa TỪ đầu tiên trong a\n",
    "## thí dụ: Nhập vào: Xin chào các bạn ~~> Xóa chữ Xin\n",
    "a = input(\"Nhập vào 1 chuỗi đê:\")\n",
    "\n",
    "\n",
    "### Tìm dấu khoảng trắng đầu tiên trong chuỗi\n",
    "\n",
    "## Thí dụ: Xin chào các bạn ~~> Khoảng trắng đầu tiên nằm ở vị trí 3\n",
    "## Thí dụ: Chúng ta hôm nay thật vui ~~> Khoảng trắng đầu tiên nằm ở vị trí 5\n",
    "\n",
    "tim_khoang_trang = a.find(\" \")\n",
    "print(\"Vị trí khoảng trắng đầu tiên là:\",tim_khoang_trang)\n",
    "bo_ky_tu_dau = a[tim_khoang_trang+1:]\n",
    "print(bo_ky_tu_dau)"
   ]
  },
  {
   "cell_type": "markdown",
   "id": "05b74fb4",
   "metadata": {},
   "source": [
    "### Bài 1\n",
    "\n",
    "Nhập vào một chuỗi, đếm xem có bao nhiêu từ trong chuỗi kết thúc bằng chữ n"
   ]
  },
  {
   "cell_type": "code",
   "execution_count": null,
   "id": "d126675c",
   "metadata": {},
   "outputs": [],
   "source": [
    "chuoi = input(\"Nhập vào 1 chuỗi:\")\n",
    "chuoi += \" \"\n",
    "a = chuoi.count(\"n \") + chuoi.count(\"n,\") + chuoi.count(\"n.\") + chuoi.count(\"n!\") + chuoi.count(\"n?\")\n",
    "print(a)"
   ]
  },
  {
   "cell_type": "markdown",
   "id": "53a78d35",
   "metadata": {},
   "source": [
    "### Bài 2\n",
    "\n",
    "Nhập vào một chuỗi, kiểm tra xem chuỗi đó có ký tự hoa hoặc ký tự thường hay không."
   ]
  },
  {
   "cell_type": "code",
   "execution_count": null,
   "id": "f5be8c39",
   "metadata": {},
   "outputs": [],
   "source": [
    "a = input(\"Hãy nhập vào một chuỗi: \")\n",
    "print(\"Chuỗi a có ký tự hoa hay không: \", not a.islower())\n",
    "print(\"Chuỗi a có ký tự thường hay không: \", not a.isupper())"
   ]
  },
  {
   "cell_type": "markdown",
   "id": "64ca662e",
   "metadata": {},
   "source": [
    "### Bài 3\n",
    "\n",
    "Nhập vào một chuỗi, kiểm tra tính đối xứng của chuỗi đó"
   ]
  },
  {
   "cell_type": "code",
   "execution_count": 15,
   "id": "749f4136",
   "metadata": {},
   "outputs": [
    {
     "name": "stdout",
     "output_type": "stream",
     "text": [
      "Hãy nhập vào một chuỗi: abcba\n",
      "True\n"
     ]
    }
   ],
   "source": [
    "a = input(\"Hãy nhập vào một chuỗi: \")\n",
    "k = -1\n",
    "a_nguoc = \"\"\n",
    "for i in range(len(a)): ## Tạo chuỗi ngược\n",
    "    a_nguoc += a[k]\n",
    "    k -= 1\n",
    "print(a_nguoc == a)"
   ]
  },
  {
   "cell_type": "code",
   "execution_count": 18,
   "id": "4071415b",
   "metadata": {},
   "outputs": [
    {
     "name": "stdout",
     "output_type": "stream",
     "text": [
      "Hãy nhập vào một chuỗi: abcba\n",
      "True\n"
     ]
    }
   ],
   "source": [
    "a = input(\"Hãy nhập vào một chuỗi: \")\n",
    "a_nguoc = a[::-1]\n",
    "print(a_nguoc == a)"
   ]
  },
  {
   "cell_type": "markdown",
   "id": "85dd8fef",
   "metadata": {},
   "source": [
    "### Bài 4\n",
    "\n",
    "Nhập vào một chuỗi, in ra các ký tự trong chuỗi và nếu là ký tự hoa thì in kèm True, ký tự thường thì in kèm False"
   ]
  },
  {
   "cell_type": "code",
   "execution_count": 24,
   "id": "0d099247",
   "metadata": {},
   "outputs": [
    {
     "name": "stdout",
     "output_type": "stream",
     "text": [
      "Nhập vào một chuỗi: asdDSAsdsa\n",
      "a False\n",
      "s False\n",
      "d False\n",
      "D True\n",
      "S True\n",
      "A True\n",
      "s False\n",
      "d False\n",
      "s False\n",
      "a False\n"
     ]
    }
   ],
   "source": [
    "a = input(\"Nhập vào một chuỗi: \")\n",
    "\n",
    "k = 0\n",
    "for i in range(len(a)):\n",
    "    print(a[k],a[k].isupper())\n",
    "    k += 1"
   ]
  },
  {
   "cell_type": "markdown",
   "id": "1373dc74",
   "metadata": {},
   "source": [
    "### Bài 5\n",
    "\n",
    "Nhập vào một chuỗi, tìm các ký tự chỉ xuất hiện một lần trong chuỗi (nếu xuất hiện 1 lần in true, xuất hiện nhiều lần in false)\n",
    "\n",
    "Ví dụ:\n",
    "\n",
    "Nhập chuỗi: \"ABAbc\"\n",
    "\n",
    "In:\n",
    "\n",
    "A: False\n",
    "\n",
    "B: True\n",
    "\n",
    "A: False\n",
    "\n",
    "b: True\n",
    "\n",
    "c: True"
   ]
  },
  {
   "cell_type": "code",
   "execution_count": 25,
   "id": "a93bc53d",
   "metadata": {},
   "outputs": [
    {
     "name": "stdout",
     "output_type": "stream",
     "text": [
      "Nhập vào một chuỗi: ABAbc\n",
      "A: False\n",
      "B: True\n",
      "A: False\n",
      "b: True\n",
      "c: True\n"
     ]
    }
   ],
   "source": [
    "a = input(\"Nhập vào một chuỗi: \")\n",
    "\n",
    "k = 0\n",
    "for i in range(len(a)):\n",
    "    print(a[k],a.count(a[k]) == 1,sep = \": \")\n",
    "    k += 1"
   ]
  },
  {
   "cell_type": "markdown",
   "id": "69bebf4c",
   "metadata": {},
   "source": [
    "### Bài 6\n",
    "\n",
    "Nhập vào một chuỗi, kiểm tra trong chuỗi có con số hay không, nếu có in True, không có in False"
   ]
  },
  {
   "cell_type": "code",
   "execution_count": 36,
   "id": "1b4eab4f",
   "metadata": {},
   "outputs": [
    {
     "name": "stdout",
     "output_type": "stream",
     "text": [
      "Nhập chuỗi:412@#sdas\n",
      "True\n"
     ]
    }
   ],
   "source": [
    "a = input(\"Nhập chuỗi:\")\n",
    "k = 0\n",
    "\n",
    "co = False\n",
    "\n",
    "## Kiểm tra từng thằng ký tự bên trong a, nếu mình phát hiện ký tự đó là số thì mình cho một biến cờ thành True\n",
    "## Trong trường hợp mình không tìm thấy bất kỳ số này thì cờ vẫn còn là False\n",
    "\n",
    "\n",
    "for i in range(len(a)):\n",
    "    co = co or a[k].isnumeric() ## isnumeric() sẽ trả về True nếu a[k] là số, ngược lại thì trả về False\n",
    "    k += 1\n",
    "    \n",
    "print(co)"
   ]
  },
  {
   "cell_type": "code",
   "execution_count": 43,
   "id": "66495282",
   "metadata": {},
   "outputs": [
    {
     "name": "stdout",
     "output_type": "stream",
     "text": [
      "Nhập chuỗi:2adsdkl\n",
      "True\n"
     ]
    }
   ],
   "source": [
    "a = input(\"Nhập chuỗi:\")\n",
    "\n",
    "b = a.count(\"0\") + a.count(\"1\") + a.count(\"2\") + a.count(\"3\") + a.count(\"4\") + a.count(\"5\")\n",
    "+ a.count(\"6\") + a.count(\"7\") + a.count(\"8\") + a.count(\"9\")\n",
    "\n",
    "print(b != 0)"
   ]
  },
  {
   "cell_type": "code",
   "execution_count": 44,
   "id": "8a626c83",
   "metadata": {},
   "outputs": [
    {
     "name": "stdout",
     "output_type": "stream",
     "text": [
      "Nhập chuỗi:12\n",
      "True\n"
     ]
    }
   ],
   "source": [
    "a = input(\"Nhập chuỗi:\")\n",
    "k = 0\n",
    "b = 0\n",
    "for i in range(10):\n",
    "    b += a.count(str(k))\n",
    "    k += 1\n",
    "print(b != 0)"
   ]
  },
  {
   "cell_type": "markdown",
   "id": "1e51403c",
   "metadata": {},
   "source": [
    "### Bài 7\n",
    "\n",
    "Nhập vào một chuỗi, tách những con số có trong chuỗi ra rồi tính tổng của chúng\n",
    "\n",
    "In tổng lên màn hình"
   ]
  },
  {
   "cell_type": "code",
   "execution_count": 1,
   "id": "a34e349d",
   "metadata": {},
   "outputs": [
    {
     "name": "stdout",
     "output_type": "stream",
     "text": [
      "Nhập chuỗi:aasd578reqr14we9r8e7\n",
      "49\n"
     ]
    }
   ],
   "source": [
    "a = input(\"Nhập chuỗi:\")\n",
    "k = 0\n",
    "b = 0\n",
    "for i in range(10):\n",
    "    b += k*a.count(str(k)) ## k là những số từ 0 đến \n",
    "    ## đếm số lượng từng chữ số rồi nhân với giá trị của nó xong cộng vào b\n",
    "    k += 1\n",
    "print(b)"
   ]
  },
  {
   "cell_type": "markdown",
   "id": "e951779d",
   "metadata": {},
   "source": [
    "### Bài 8\n",
    "\n",
    "Nhập vào một chuỗi, đảo ngược chuỗi đã nhập rồi in ra màn hình"
   ]
  },
  {
   "cell_type": "code",
   "execution_count": 2,
   "id": "9305f0f1",
   "metadata": {},
   "outputs": [
    {
     "name": "stdout",
     "output_type": "stream",
     "text": [
      "Hãy nhập vào một chuỗi: abc\n",
      "cba\n"
     ]
    }
   ],
   "source": [
    "a = input(\"Hãy nhập vào một chuỗi: \")\n",
    "a_nguoc = a[::-1]\n",
    "print(a_nguoc)"
   ]
  },
  {
   "cell_type": "markdown",
   "id": "04194b5c",
   "metadata": {},
   "source": [
    "### Bài 9\n",
    "\n",
    "Nhập vào một chuỗi, kiểm tra xem mỗi từ trong chuỗi có được viết hoa chữ cái đầu hay không, nếu tất cả đều được viết hoa thì in ra True, còn không thì in ra False\n",
    "\n",
    "Trong trường hợp là False, hãy viết hoa tất cả các chữ cái đầu của mỗi từ rồi in lên màn hình\n",
    "\n",
    "Cách làm thông thường:"
   ]
  },
  {
   "cell_type": "code",
   "execution_count": null,
   "id": "9f947c7d",
   "metadata": {},
   "outputs": [],
   "source": []
  },
  {
   "cell_type": "markdown",
   "id": "f43e32af",
   "metadata": {},
   "source": [
    "Cách sử dụng lệnh có sẵn:"
   ]
  },
  {
   "cell_type": "code",
   "execution_count": 4,
   "id": "714f1412",
   "metadata": {},
   "outputs": [
    {
     "name": "stdout",
     "output_type": "stream",
     "text": [
      "Hãy nhập vào một chuỗi: Xin Chào\n",
      "True\n",
      "Xin Chào\n"
     ]
    }
   ],
   "source": [
    "a = input(\"Hãy nhập vào một chuỗi: \")\n",
    "print(a.istitle())\n",
    "print(a.title())"
   ]
  }
 ],
 "metadata": {
  "kernelspec": {
   "display_name": "Python 3 (ipykernel)",
   "language": "python",
   "name": "python3"
  },
  "language_info": {
   "codemirror_mode": {
    "name": "ipython",
    "version": 3
   },
   "file_extension": ".py",
   "mimetype": "text/x-python",
   "name": "python",
   "nbconvert_exporter": "python",
   "pygments_lexer": "ipython3",
   "version": "3.10.4"
  }
 },
 "nbformat": 4,
 "nbformat_minor": 5
}
